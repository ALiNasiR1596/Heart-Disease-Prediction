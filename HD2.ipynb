{
 "cells": [
  {
   "cell_type": "code",
   "execution_count": 1,
   "metadata": {},
   "outputs": [],
   "source": [
    "#Libraries\n",
    "import pandas as pd\n",
    "from matplotlib import pyplot as plt\n",
    "import seaborn as sns\n",
    "import numpy as np\n",
    "import warnings\n",
    "from sklearn.preprocessing import StandardScaler\n",
    "from sklearn.model_selection import train_test_split\n",
    "from sklearn.metrics import accuracy_score\n",
    "from sklearn.metrics import confusion_matrix\n",
    "from sklearn.naive_bayes import GaussianNB\n",
    "from sklearn.metrics import classification_report\n",
    "from sklearn.ensemble import IsolationForest\n",
    "from imblearn.over_sampling import RandomOverSampler\n",
    "from sklearn.linear_model import Lasso\n",
    "from sklearn.model_selection import RepeatedKFold\n",
    "from sklearn.model_selection import GridSearchCV\n",
    "\n",
    "#import classification modules\n",
    "from sklearn import svm\n",
    "from sklearn.ensemble import RandomForestClassifier\n",
    "from sklearn.ensemble import GradientBoostingClassifier\n",
    "from sklearn.ensemble import AdaBoostClassifier\n",
    "from sklearn.neighbors import KNeighborsClassifier\n",
    "from sklearn.linear_model import LogisticRegression\n",
    "from sklearn.tree import DecisionTreeClassifier\n",
    "from sklearn.neural_network import MLPClassifier\n",
    "\n",
    "#import performance scores\n",
    "from sklearn.metrics import accuracy_score\n",
    "from sklearn.metrics import confusion_matrix\n",
    "from sklearn.metrics import precision_score\n",
    "from sklearn.metrics import recall_score\n",
    "from sklearn.metrics import roc_auc_score\n",
    "from sklearn.metrics import roc_curve \n",
    "from sklearn.metrics import f1_score\n",
    "from sklearn.metrics import auc\n",
    "warnings.filterwarnings('ignore')"
   ]
  },
  {
   "cell_type": "markdown",
   "metadata": {},
   "source": [
    "Functions"
   ]
  },
  {
   "cell_type": "code",
   "execution_count": 2,
   "metadata": {},
   "outputs": [],
   "source": [
    "\n",
    "# Validation metrics for classification\n",
    "def validationmetrics(model, testX, testY, verbose=True):   \n",
    "    predictions = model.predict(testX)\n",
    "    \n",
    "    if model.__class__.__module__.startswith('lightgbm'):\n",
    "        for i in range(0, predictions.shape[0]):\n",
    "            predictions[i]= 1 if predictions[i] >= 0.5 else 0\n",
    "    \n",
    "    #Accuracy\n",
    "    accuracy = accuracy_score(testY, predictions)*100\n",
    "    \n",
    "    #Precision\n",
    "    precision = precision_score(testY, predictions, pos_label=1, labels=[0,1])*100\n",
    "    \n",
    "    #Recall\n",
    "    recall = recall_score(testY, predictions,pos_label=1,labels=[0,1])*100\n",
    "    \n",
    "    #get FPR (specificity) and TPR (sensitivity)\n",
    "    fpr , tpr, _ = roc_curve(testY, predictions)\n",
    "    \n",
    "    #AUC\n",
    "    auc_val = auc(fpr, tpr)\n",
    "    \n",
    "    #F-Score\n",
    "    f_score = f1_score(testY, predictions)\n",
    "    \n",
    "    if verbose:\n",
    "        print(\"Prediction Vector: \\n\", predictions)\n",
    "        print(\"\\n Accuracy: \\n\", accuracy)\n",
    "        print(\"\\n Precision of event Happening: \\n\", precision)\n",
    "        print(\"\\n Recall of event Happening: \\n\", recall)\n",
    "        print(\"\\n AUC: \\n\",auc_val)\n",
    "        print(\"\\n F-Score:\\n\", f_score)\n",
    "        #confusion Matrix\n",
    "        print(\"\\n Confusion Matrix: \\n\", confusion_matrix(testY, predictions,labels=[0,1]))\n",
    "    \n",
    "    res_map = {\n",
    "                \"accuracy\": accuracy,\n",
    "                \"precision\": precision,\n",
    "                \"recall\": recall,\n",
    "                \"auc_val\": auc_val,\n",
    "                \"f_score\": f_score,\n",
    "                \"model_obj\": model\n",
    "              }\n",
    "    return res_map\n",
    "\n",
    "\n",
    "\n",
    "\n",
    "# Helper function to get fetaure importance metrics via Random Forest Feature Selection (RFFS)\n",
    "def RFfeatureimportance(df, trainX, testX, trainY, testY, trees=35, random=None):\n",
    "    clf  = RandomForestClassifier(n_estimators=trees, random_state=random)\n",
    "    clf.fit(trainX,trainY)\n",
    "    #validationmetrics(clf,testX,testY)\n",
    "    res = pd.Series(clf.feature_importances_, index=df.columns.values).sort_values(ascending=False)*100\n",
    "    print(res)\n",
    "    return res\n",
    "\n",
    "\n",
    "\n",
    "#classification algorithm\n",
    "# Classification Algorithms\n",
    "def LogReg(trainX, testX, trainY, testY, verbose=True, clf=None):\n",
    "    if not clf:\n",
    "        clf  = LogisticRegression()\n",
    "    clf.fit(trainX , trainY)\n",
    "    return validationmetrics(clf,testX,testY,verbose=verbose)\n",
    "\n",
    "\n",
    "def GadientBoosting(trainX, testX, trainY, testY, verbose=True, clf=None):\n",
    "    if not clf:\n",
    "        clf = GradientBoostingClassifier()\n",
    "    clf.fit(trainX , trainY)\n",
    "    return validationmetrics(clf,testX,testY,verbose=verbose)\n",
    "\n",
    "def AdaBoost(trainX, testX, trainY, testY, verbose=True, clf=None):\n",
    "    if not clf:\n",
    "        clf = AdaBoostClassifier(n_estimators=100, random_state=0)\n",
    "    clf.fit(trainX , trainY)\n",
    "    return validationmetrics(clf,testX,testY,verbose=verbose)\n",
    "\n",
    "def SVM(trainX, testX, trainY, testY, svmtype=\"SVC\", verbose=True, clf=None):\n",
    "    # for one vs all\n",
    "    if not clf:\n",
    "        if svmtype == \"Linear\":\n",
    "            clf = svm.LinearSVC()\n",
    "        else:\n",
    "            clf = svm.SVC()\n",
    "    clf.fit(trainX , trainY)\n",
    "    return validationmetrics(clf,testX,testY,verbose=verbose)\n",
    "\n",
    "def RandomForest(trainX, testX, trainY, testY, verbose=True, clf=None):\n",
    "    if not clf:\n",
    "        clf  = RandomForestClassifier()\n",
    "    clf.fit(trainX , trainY)\n",
    "    return validationmetrics(clf,testX,testY,verbose=verbose)\n",
    "\n",
    "def KNN(trainX, testX, trainY, testY, verbose=True, clf=None):\n",
    "    if not clf:\n",
    "        clf  = KNeighborsClassifier()\n",
    "    clf.fit(trainX , trainY)\n",
    "    return validationmetrics(clf,testX,testY,verbose=verbose)\n",
    "\n",
    "\n",
    "def XgBoost(trainX, testX, trainY, testY, verbose=True, clf=None):\n",
    "    if not clf:\n",
    "        clf = XGBClassifier(random_state=1,learning_rate=0.01)\n",
    "    clf.fit(trainX,trainY)\n",
    "    return validationmetrics(clf,testX,testY,verbose=verbose)\n",
    "\n",
    "def NaiveBayes(trainX, testX, trainY, testY, verbose=True, clf=None):\n",
    "    if not clf:\n",
    "        clf = GaussianNB()\n",
    "    clf.fit(trainX , trainY)\n",
    "    return validationmetrics(clf,testX,testY,verbose=verbose)\n",
    "\n",
    "def MultiLayerPerceptron(trainX, testX, trainY, testY, verbose=True, clf=None):\n",
    "    if not clf:\n",
    "        clf = MLPClassifier(hidden_layer_sizes=5)\n",
    "    clf.fit(trainX,trainY)\n",
    "    return validationmetrics(clf,testX,testY,verbose=verbose)\n",
    "\n",
    "def DecisionTree(trainX, testX, trainY, testY, verbose=True, clf=None):\n",
    "    if not clf:\n",
    "        clf = DecisionTreeClassifier()\n",
    "    clf.fit(trainX , trainY)\n",
    "    return validationmetrics(clf,testX,testY,verbose=verbose)\n",
    "\n",
    "\n",
    "# Helper function to run all algorithms provided in algo_list over given dataframe, without cross validation\n",
    "# By default it will run all supported algorithms \n",
    "\n",
    "#Train Test Split: splitting manually\n",
    "def traintestsplit(df,split,random=None, label_col=''):\n",
    "    #make a copy of the label column and store in y\n",
    "    y = df[label_col].copy()\n",
    "    \n",
    "    #now delete the original\n",
    "    X = df.drop(label_col,axis=1)\n",
    "    \n",
    "    #manual split\n",
    "    trainX, testX, trainY, testY= train_test_split(X, y, test_size=split, random_state=random)\n",
    "    return X, trainX, testX, trainY, testY\n",
    "    \n",
    "#helper function which only splits into X and y\n",
    "def XYsplit(df, label_col):\n",
    "    y = df[label_col].copy()\n",
    "    X = df.drop(label_col,axis=1)\n",
    "    return X,y\n",
    "\n",
    "\n",
    "\n",
    "\n"
   ]
  },
  {
   "cell_type": "code",
   "execution_count": 3,
   "metadata": {},
   "outputs": [],
   "source": [
    "try:\n",
    "    from xgboost import XGBClassifier\n",
    "except:\n",
    "    print(\"Failed to import xgboost, make sure you have xgboost installed\")\n",
    "    print(\"Use following command to install it: pip install xgboost\")\n",
    "    XGBClassifier = None"
   ]
  },
  {
   "cell_type": "code",
   "execution_count": 4,
   "metadata": {},
   "outputs": [],
   "source": [
    "#loading data\n",
    "hd_df = pd.read_csv('heart.csv')"
   ]
  },
  {
   "cell_type": "code",
   "execution_count": 5,
   "metadata": {},
   "outputs": [
    {
     "data": {
      "text/html": [
       "<div>\n",
       "<style scoped>\n",
       "    .dataframe tbody tr th:only-of-type {\n",
       "        vertical-align: middle;\n",
       "    }\n",
       "\n",
       "    .dataframe tbody tr th {\n",
       "        vertical-align: top;\n",
       "    }\n",
       "\n",
       "    .dataframe thead th {\n",
       "        text-align: right;\n",
       "    }\n",
       "</style>\n",
       "<table border=\"1\" class=\"dataframe\">\n",
       "  <thead>\n",
       "    <tr style=\"text-align: right;\">\n",
       "      <th></th>\n",
       "      <th>age</th>\n",
       "      <th>sex</th>\n",
       "      <th>cp</th>\n",
       "      <th>trestbps</th>\n",
       "      <th>chol</th>\n",
       "      <th>fbs</th>\n",
       "      <th>restecg</th>\n",
       "      <th>thalach</th>\n",
       "      <th>exang</th>\n",
       "      <th>oldpeak</th>\n",
       "      <th>slope</th>\n",
       "      <th>ca</th>\n",
       "      <th>thal</th>\n",
       "      <th>target</th>\n",
       "    </tr>\n",
       "  </thead>\n",
       "  <tbody>\n",
       "    <tr>\n",
       "      <th>0</th>\n",
       "      <td>52</td>\n",
       "      <td>1</td>\n",
       "      <td>0</td>\n",
       "      <td>125</td>\n",
       "      <td>212</td>\n",
       "      <td>0</td>\n",
       "      <td>1</td>\n",
       "      <td>168</td>\n",
       "      <td>0</td>\n",
       "      <td>1.0</td>\n",
       "      <td>2</td>\n",
       "      <td>2</td>\n",
       "      <td>3</td>\n",
       "      <td>0</td>\n",
       "    </tr>\n",
       "    <tr>\n",
       "      <th>1</th>\n",
       "      <td>53</td>\n",
       "      <td>1</td>\n",
       "      <td>0</td>\n",
       "      <td>140</td>\n",
       "      <td>203</td>\n",
       "      <td>1</td>\n",
       "      <td>0</td>\n",
       "      <td>155</td>\n",
       "      <td>1</td>\n",
       "      <td>3.1</td>\n",
       "      <td>0</td>\n",
       "      <td>0</td>\n",
       "      <td>3</td>\n",
       "      <td>0</td>\n",
       "    </tr>\n",
       "    <tr>\n",
       "      <th>2</th>\n",
       "      <td>70</td>\n",
       "      <td>1</td>\n",
       "      <td>0</td>\n",
       "      <td>145</td>\n",
       "      <td>174</td>\n",
       "      <td>0</td>\n",
       "      <td>1</td>\n",
       "      <td>125</td>\n",
       "      <td>1</td>\n",
       "      <td>2.6</td>\n",
       "      <td>0</td>\n",
       "      <td>0</td>\n",
       "      <td>3</td>\n",
       "      <td>0</td>\n",
       "    </tr>\n",
       "    <tr>\n",
       "      <th>3</th>\n",
       "      <td>61</td>\n",
       "      <td>1</td>\n",
       "      <td>0</td>\n",
       "      <td>148</td>\n",
       "      <td>203</td>\n",
       "      <td>0</td>\n",
       "      <td>1</td>\n",
       "      <td>161</td>\n",
       "      <td>0</td>\n",
       "      <td>0.0</td>\n",
       "      <td>2</td>\n",
       "      <td>1</td>\n",
       "      <td>3</td>\n",
       "      <td>0</td>\n",
       "    </tr>\n",
       "    <tr>\n",
       "      <th>4</th>\n",
       "      <td>62</td>\n",
       "      <td>0</td>\n",
       "      <td>0</td>\n",
       "      <td>138</td>\n",
       "      <td>294</td>\n",
       "      <td>1</td>\n",
       "      <td>1</td>\n",
       "      <td>106</td>\n",
       "      <td>0</td>\n",
       "      <td>1.9</td>\n",
       "      <td>1</td>\n",
       "      <td>3</td>\n",
       "      <td>2</td>\n",
       "      <td>0</td>\n",
       "    </tr>\n",
       "  </tbody>\n",
       "</table>\n",
       "</div>"
      ],
      "text/plain": [
       "   age  sex  cp  trestbps  chol  fbs  restecg  thalach  exang  oldpeak  slope  \\\n",
       "0   52    1   0       125   212    0        1      168      0      1.0      2   \n",
       "1   53    1   0       140   203    1        0      155      1      3.1      0   \n",
       "2   70    1   0       145   174    0        1      125      1      2.6      0   \n",
       "3   61    1   0       148   203    0        1      161      0      0.0      2   \n",
       "4   62    0   0       138   294    1        1      106      0      1.9      1   \n",
       "\n",
       "   ca  thal  target  \n",
       "0   2     3       0  \n",
       "1   0     3       0  \n",
       "2   0     3       0  \n",
       "3   1     3       0  \n",
       "4   3     2       0  "
      ]
     },
     "execution_count": 5,
     "metadata": {},
     "output_type": "execute_result"
    }
   ],
   "source": [
    "hd_df.head(5)"
   ]
  },
  {
   "cell_type": "code",
   "execution_count": 6,
   "metadata": {},
   "outputs": [
    {
     "data": {
      "text/plain": [
       "(1025, 14)"
      ]
     },
     "execution_count": 6,
     "metadata": {},
     "output_type": "execute_result"
    }
   ],
   "source": [
    "#printing shape of dataset\n",
    "hd_df.shape"
   ]
  },
  {
   "cell_type": "code",
   "execution_count": 7,
   "metadata": {},
   "outputs": [
    {
     "data": {
      "text/plain": [
       "age           int64\n",
       "sex           int64\n",
       "cp            int64\n",
       "trestbps      int64\n",
       "chol          int64\n",
       "fbs           int64\n",
       "restecg       int64\n",
       "thalach       int64\n",
       "exang         int64\n",
       "oldpeak     float64\n",
       "slope         int64\n",
       "ca            int64\n",
       "thal          int64\n",
       "target        int64\n",
       "dtype: object"
      ]
     },
     "execution_count": 7,
     "metadata": {},
     "output_type": "execute_result"
    }
   ],
   "source": [
    "#checking data types of each column\n",
    "hd_df.dtypes"
   ]
  },
  {
   "cell_type": "markdown",
   "metadata": {},
   "source": [
    "Preprocessing"
   ]
  },
  {
   "cell_type": "markdown",
   "metadata": {},
   "source": [
    "Checking null or missing values"
   ]
  },
  {
   "cell_type": "code",
   "execution_count": 8,
   "metadata": {},
   "outputs": [],
   "source": [
    "nullval = hd_df.isnull().sum()"
   ]
  },
  {
   "cell_type": "code",
   "execution_count": 9,
   "metadata": {},
   "outputs": [],
   "source": [
    "#checking missing values\n",
    "#columns that have null values greater than 5% -> It gives percentage\n",
    "percent_missing = hd_df.isnull().sum() * 100 / len(hd_df)\n",
    "\n",
    "\n",
    "#no of missing\n",
    "num_missing = hd_df.isnull().sum()\n",
    "\n",
    "#sorting values in descending order\n",
    "percent_missing = percent_missing.sort_values(ascending=False)\n",
    "\n",
    "#inserting in percentages into new dataframe\n",
    "missing_value_df = pd.DataFrame({'percent_missing': percent_missing, 'Num_missing_val': num_missing})\n",
    "\n",
    "missing_value_df = missing_value_df.sort_values(by=['percent_missing'],ascending=False)"
   ]
  },
  {
   "cell_type": "code",
   "execution_count": 10,
   "metadata": {},
   "outputs": [
    {
     "data": {
      "text/html": [
       "<div>\n",
       "<style scoped>\n",
       "    .dataframe tbody tr th:only-of-type {\n",
       "        vertical-align: middle;\n",
       "    }\n",
       "\n",
       "    .dataframe tbody tr th {\n",
       "        vertical-align: top;\n",
       "    }\n",
       "\n",
       "    .dataframe thead th {\n",
       "        text-align: right;\n",
       "    }\n",
       "</style>\n",
       "<table border=\"1\" class=\"dataframe\">\n",
       "  <thead>\n",
       "    <tr style=\"text-align: right;\">\n",
       "      <th></th>\n",
       "      <th>percent_missing</th>\n",
       "      <th>Num_missing_val</th>\n",
       "    </tr>\n",
       "  </thead>\n",
       "  <tbody>\n",
       "  </tbody>\n",
       "</table>\n",
       "</div>"
      ],
      "text/plain": [
       "Empty DataFrame\n",
       "Columns: [percent_missing, Num_missing_val]\n",
       "Index: []"
      ]
     },
     "execution_count": 10,
     "metadata": {},
     "output_type": "execute_result"
    }
   ],
   "source": [
    "missing_value_df[percent_missing>5]"
   ]
  },
  {
   "cell_type": "code",
   "execution_count": 11,
   "metadata": {},
   "outputs": [
    {
     "data": {
      "text/html": [
       "<div>\n",
       "<style scoped>\n",
       "    .dataframe tbody tr th:only-of-type {\n",
       "        vertical-align: middle;\n",
       "    }\n",
       "\n",
       "    .dataframe tbody tr th {\n",
       "        vertical-align: top;\n",
       "    }\n",
       "\n",
       "    .dataframe thead th {\n",
       "        text-align: right;\n",
       "    }\n",
       "</style>\n",
       "<table border=\"1\" class=\"dataframe\">\n",
       "  <thead>\n",
       "    <tr style=\"text-align: right;\">\n",
       "      <th></th>\n",
       "      <th>percent_missing</th>\n",
       "      <th>Num_missing_val</th>\n",
       "    </tr>\n",
       "  </thead>\n",
       "  <tbody>\n",
       "  </tbody>\n",
       "</table>\n",
       "</div>"
      ],
      "text/plain": [
       "Empty DataFrame\n",
       "Columns: [percent_missing, Num_missing_val]\n",
       "Index: []"
      ]
     },
     "execution_count": 11,
     "metadata": {},
     "output_type": "execute_result"
    }
   ],
   "source": [
    "missing_value_df[percent_missing>15]"
   ]
  },
  {
   "cell_type": "markdown",
   "metadata": {},
   "source": [
    "Checking duplicate values"
   ]
  },
  {
   "cell_type": "code",
   "execution_count": 12,
   "metadata": {},
   "outputs": [
    {
     "data": {
      "text/html": [
       "<div>\n",
       "<style scoped>\n",
       "    .dataframe tbody tr th:only-of-type {\n",
       "        vertical-align: middle;\n",
       "    }\n",
       "\n",
       "    .dataframe tbody tr th {\n",
       "        vertical-align: top;\n",
       "    }\n",
       "\n",
       "    .dataframe thead th {\n",
       "        text-align: right;\n",
       "    }\n",
       "</style>\n",
       "<table border=\"1\" class=\"dataframe\">\n",
       "  <thead>\n",
       "    <tr style=\"text-align: right;\">\n",
       "      <th></th>\n",
       "      <th>age</th>\n",
       "      <th>sex</th>\n",
       "      <th>cp</th>\n",
       "      <th>trestbps</th>\n",
       "      <th>chol</th>\n",
       "      <th>fbs</th>\n",
       "      <th>restecg</th>\n",
       "      <th>thalach</th>\n",
       "      <th>exang</th>\n",
       "      <th>oldpeak</th>\n",
       "      <th>slope</th>\n",
       "      <th>ca</th>\n",
       "      <th>thal</th>\n",
       "      <th>target</th>\n",
       "    </tr>\n",
       "  </thead>\n",
       "  <tbody>\n",
       "    <tr>\n",
       "      <th>0</th>\n",
       "      <td>52</td>\n",
       "      <td>1</td>\n",
       "      <td>0</td>\n",
       "      <td>125</td>\n",
       "      <td>212</td>\n",
       "      <td>0</td>\n",
       "      <td>1</td>\n",
       "      <td>168</td>\n",
       "      <td>0</td>\n",
       "      <td>1.0</td>\n",
       "      <td>2</td>\n",
       "      <td>2</td>\n",
       "      <td>3</td>\n",
       "      <td>0</td>\n",
       "    </tr>\n",
       "    <tr>\n",
       "      <th>1</th>\n",
       "      <td>53</td>\n",
       "      <td>1</td>\n",
       "      <td>0</td>\n",
       "      <td>140</td>\n",
       "      <td>203</td>\n",
       "      <td>1</td>\n",
       "      <td>0</td>\n",
       "      <td>155</td>\n",
       "      <td>1</td>\n",
       "      <td>3.1</td>\n",
       "      <td>0</td>\n",
       "      <td>0</td>\n",
       "      <td>3</td>\n",
       "      <td>0</td>\n",
       "    </tr>\n",
       "    <tr>\n",
       "      <th>2</th>\n",
       "      <td>70</td>\n",
       "      <td>1</td>\n",
       "      <td>0</td>\n",
       "      <td>145</td>\n",
       "      <td>174</td>\n",
       "      <td>0</td>\n",
       "      <td>1</td>\n",
       "      <td>125</td>\n",
       "      <td>1</td>\n",
       "      <td>2.6</td>\n",
       "      <td>0</td>\n",
       "      <td>0</td>\n",
       "      <td>3</td>\n",
       "      <td>0</td>\n",
       "    </tr>\n",
       "    <tr>\n",
       "      <th>3</th>\n",
       "      <td>61</td>\n",
       "      <td>1</td>\n",
       "      <td>0</td>\n",
       "      <td>148</td>\n",
       "      <td>203</td>\n",
       "      <td>0</td>\n",
       "      <td>1</td>\n",
       "      <td>161</td>\n",
       "      <td>0</td>\n",
       "      <td>0.0</td>\n",
       "      <td>2</td>\n",
       "      <td>1</td>\n",
       "      <td>3</td>\n",
       "      <td>0</td>\n",
       "    </tr>\n",
       "    <tr>\n",
       "      <th>4</th>\n",
       "      <td>62</td>\n",
       "      <td>0</td>\n",
       "      <td>0</td>\n",
       "      <td>138</td>\n",
       "      <td>294</td>\n",
       "      <td>1</td>\n",
       "      <td>1</td>\n",
       "      <td>106</td>\n",
       "      <td>0</td>\n",
       "      <td>1.9</td>\n",
       "      <td>1</td>\n",
       "      <td>3</td>\n",
       "      <td>2</td>\n",
       "      <td>0</td>\n",
       "    </tr>\n",
       "    <tr>\n",
       "      <th>...</th>\n",
       "      <td>...</td>\n",
       "      <td>...</td>\n",
       "      <td>...</td>\n",
       "      <td>...</td>\n",
       "      <td>...</td>\n",
       "      <td>...</td>\n",
       "      <td>...</td>\n",
       "      <td>...</td>\n",
       "      <td>...</td>\n",
       "      <td>...</td>\n",
       "      <td>...</td>\n",
       "      <td>...</td>\n",
       "      <td>...</td>\n",
       "      <td>...</td>\n",
       "    </tr>\n",
       "    <tr>\n",
       "      <th>1020</th>\n",
       "      <td>59</td>\n",
       "      <td>1</td>\n",
       "      <td>1</td>\n",
       "      <td>140</td>\n",
       "      <td>221</td>\n",
       "      <td>0</td>\n",
       "      <td>1</td>\n",
       "      <td>164</td>\n",
       "      <td>1</td>\n",
       "      <td>0.0</td>\n",
       "      <td>2</td>\n",
       "      <td>0</td>\n",
       "      <td>2</td>\n",
       "      <td>1</td>\n",
       "    </tr>\n",
       "    <tr>\n",
       "      <th>1021</th>\n",
       "      <td>60</td>\n",
       "      <td>1</td>\n",
       "      <td>0</td>\n",
       "      <td>125</td>\n",
       "      <td>258</td>\n",
       "      <td>0</td>\n",
       "      <td>0</td>\n",
       "      <td>141</td>\n",
       "      <td>1</td>\n",
       "      <td>2.8</td>\n",
       "      <td>1</td>\n",
       "      <td>1</td>\n",
       "      <td>3</td>\n",
       "      <td>0</td>\n",
       "    </tr>\n",
       "    <tr>\n",
       "      <th>1022</th>\n",
       "      <td>47</td>\n",
       "      <td>1</td>\n",
       "      <td>0</td>\n",
       "      <td>110</td>\n",
       "      <td>275</td>\n",
       "      <td>0</td>\n",
       "      <td>0</td>\n",
       "      <td>118</td>\n",
       "      <td>1</td>\n",
       "      <td>1.0</td>\n",
       "      <td>1</td>\n",
       "      <td>1</td>\n",
       "      <td>2</td>\n",
       "      <td>0</td>\n",
       "    </tr>\n",
       "    <tr>\n",
       "      <th>1023</th>\n",
       "      <td>50</td>\n",
       "      <td>0</td>\n",
       "      <td>0</td>\n",
       "      <td>110</td>\n",
       "      <td>254</td>\n",
       "      <td>0</td>\n",
       "      <td>0</td>\n",
       "      <td>159</td>\n",
       "      <td>0</td>\n",
       "      <td>0.0</td>\n",
       "      <td>2</td>\n",
       "      <td>0</td>\n",
       "      <td>2</td>\n",
       "      <td>1</td>\n",
       "    </tr>\n",
       "    <tr>\n",
       "      <th>1024</th>\n",
       "      <td>54</td>\n",
       "      <td>1</td>\n",
       "      <td>0</td>\n",
       "      <td>120</td>\n",
       "      <td>188</td>\n",
       "      <td>0</td>\n",
       "      <td>1</td>\n",
       "      <td>113</td>\n",
       "      <td>0</td>\n",
       "      <td>1.4</td>\n",
       "      <td>1</td>\n",
       "      <td>1</td>\n",
       "      <td>3</td>\n",
       "      <td>0</td>\n",
       "    </tr>\n",
       "  </tbody>\n",
       "</table>\n",
       "<p>1025 rows × 14 columns</p>\n",
       "</div>"
      ],
      "text/plain": [
       "      age  sex  cp  trestbps  chol  fbs  restecg  thalach  exang  oldpeak  \\\n",
       "0      52    1   0       125   212    0        1      168      0      1.0   \n",
       "1      53    1   0       140   203    1        0      155      1      3.1   \n",
       "2      70    1   0       145   174    0        1      125      1      2.6   \n",
       "3      61    1   0       148   203    0        1      161      0      0.0   \n",
       "4      62    0   0       138   294    1        1      106      0      1.9   \n",
       "...   ...  ...  ..       ...   ...  ...      ...      ...    ...      ...   \n",
       "1020   59    1   1       140   221    0        1      164      1      0.0   \n",
       "1021   60    1   0       125   258    0        0      141      1      2.8   \n",
       "1022   47    1   0       110   275    0        0      118      1      1.0   \n",
       "1023   50    0   0       110   254    0        0      159      0      0.0   \n",
       "1024   54    1   0       120   188    0        1      113      0      1.4   \n",
       "\n",
       "      slope  ca  thal  target  \n",
       "0         2   2     3       0  \n",
       "1         0   0     3       0  \n",
       "2         0   0     3       0  \n",
       "3         2   1     3       0  \n",
       "4         1   3     2       0  \n",
       "...     ...  ..   ...     ...  \n",
       "1020      2   0     2       1  \n",
       "1021      1   1     3       0  \n",
       "1022      1   1     2       0  \n",
       "1023      2   0     2       1  \n",
       "1024      1   1     3       0  \n",
       "\n",
       "[1025 rows x 14 columns]"
      ]
     },
     "execution_count": 12,
     "metadata": {},
     "output_type": "execute_result"
    }
   ],
   "source": [
    "hd_df[hd_df.duplicated(keep=False)]"
   ]
  },
  {
   "cell_type": "code",
   "execution_count": 13,
   "metadata": {},
   "outputs": [],
   "source": [
    "#deleting duplicate entries\n",
    "hd_df= hd_df.drop_duplicates(keep='first')"
   ]
  },
  {
   "cell_type": "markdown",
   "metadata": {},
   "source": [
    "checking outliers using Isolation forest technique"
   ]
  },
  {
   "cell_type": "code",
   "execution_count": 14,
   "metadata": {},
   "outputs": [
    {
     "data": {
      "text/plain": [
       "IsolationForest(contamination=0.1, n_estimators=50)"
      ]
     },
     "execution_count": 14,
     "metadata": {},
     "output_type": "execute_result"
    }
   ],
   "source": [
    "model=IsolationForest(n_estimators=50, max_samples='auto', contamination=float(0.1),max_features=1.0)\n",
    "model.fit(hd_df)\n"
   ]
  },
  {
   "cell_type": "code",
   "execution_count": 15,
   "metadata": {},
   "outputs": [
    {
     "data": {
      "text/html": [
       "<div>\n",
       "<style scoped>\n",
       "    .dataframe tbody tr th:only-of-type {\n",
       "        vertical-align: middle;\n",
       "    }\n",
       "\n",
       "    .dataframe tbody tr th {\n",
       "        vertical-align: top;\n",
       "    }\n",
       "\n",
       "    .dataframe thead th {\n",
       "        text-align: right;\n",
       "    }\n",
       "</style>\n",
       "<table border=\"1\" class=\"dataframe\">\n",
       "  <thead>\n",
       "    <tr style=\"text-align: right;\">\n",
       "      <th></th>\n",
       "      <th>age</th>\n",
       "      <th>sex</th>\n",
       "      <th>cp</th>\n",
       "      <th>trestbps</th>\n",
       "      <th>chol</th>\n",
       "      <th>fbs</th>\n",
       "      <th>restecg</th>\n",
       "      <th>thalach</th>\n",
       "      <th>exang</th>\n",
       "      <th>oldpeak</th>\n",
       "      <th>slope</th>\n",
       "      <th>ca</th>\n",
       "      <th>thal</th>\n",
       "      <th>target</th>\n",
       "      <th>scores</th>\n",
       "      <th>anomaly</th>\n",
       "    </tr>\n",
       "  </thead>\n",
       "  <tbody>\n",
       "    <tr>\n",
       "      <th>0</th>\n",
       "      <td>52</td>\n",
       "      <td>1</td>\n",
       "      <td>0</td>\n",
       "      <td>125</td>\n",
       "      <td>212</td>\n",
       "      <td>0</td>\n",
       "      <td>1</td>\n",
       "      <td>168</td>\n",
       "      <td>0</td>\n",
       "      <td>1.0</td>\n",
       "      <td>2</td>\n",
       "      <td>2</td>\n",
       "      <td>3</td>\n",
       "      <td>0</td>\n",
       "      <td>0.065000</td>\n",
       "      <td>1</td>\n",
       "    </tr>\n",
       "    <tr>\n",
       "      <th>1</th>\n",
       "      <td>53</td>\n",
       "      <td>1</td>\n",
       "      <td>0</td>\n",
       "      <td>140</td>\n",
       "      <td>203</td>\n",
       "      <td>1</td>\n",
       "      <td>0</td>\n",
       "      <td>155</td>\n",
       "      <td>1</td>\n",
       "      <td>3.1</td>\n",
       "      <td>0</td>\n",
       "      <td>0</td>\n",
       "      <td>3</td>\n",
       "      <td>0</td>\n",
       "      <td>0.013022</td>\n",
       "      <td>1</td>\n",
       "    </tr>\n",
       "    <tr>\n",
       "      <th>2</th>\n",
       "      <td>70</td>\n",
       "      <td>1</td>\n",
       "      <td>0</td>\n",
       "      <td>145</td>\n",
       "      <td>174</td>\n",
       "      <td>0</td>\n",
       "      <td>1</td>\n",
       "      <td>125</td>\n",
       "      <td>1</td>\n",
       "      <td>2.6</td>\n",
       "      <td>0</td>\n",
       "      <td>0</td>\n",
       "      <td>3</td>\n",
       "      <td>0</td>\n",
       "      <td>0.033765</td>\n",
       "      <td>1</td>\n",
       "    </tr>\n",
       "    <tr>\n",
       "      <th>3</th>\n",
       "      <td>61</td>\n",
       "      <td>1</td>\n",
       "      <td>0</td>\n",
       "      <td>148</td>\n",
       "      <td>203</td>\n",
       "      <td>0</td>\n",
       "      <td>1</td>\n",
       "      <td>161</td>\n",
       "      <td>0</td>\n",
       "      <td>0.0</td>\n",
       "      <td>2</td>\n",
       "      <td>1</td>\n",
       "      <td>3</td>\n",
       "      <td>0</td>\n",
       "      <td>0.083573</td>\n",
       "      <td>1</td>\n",
       "    </tr>\n",
       "    <tr>\n",
       "      <th>4</th>\n",
       "      <td>62</td>\n",
       "      <td>0</td>\n",
       "      <td>0</td>\n",
       "      <td>138</td>\n",
       "      <td>294</td>\n",
       "      <td>1</td>\n",
       "      <td>1</td>\n",
       "      <td>106</td>\n",
       "      <td>0</td>\n",
       "      <td>1.9</td>\n",
       "      <td>1</td>\n",
       "      <td>3</td>\n",
       "      <td>2</td>\n",
       "      <td>0</td>\n",
       "      <td>-0.035869</td>\n",
       "      <td>-1</td>\n",
       "    </tr>\n",
       "  </tbody>\n",
       "</table>\n",
       "</div>"
      ],
      "text/plain": [
       "   age  sex  cp  trestbps  chol  fbs  restecg  thalach  exang  oldpeak  slope  \\\n",
       "0   52    1   0       125   212    0        1      168      0      1.0      2   \n",
       "1   53    1   0       140   203    1        0      155      1      3.1      0   \n",
       "2   70    1   0       145   174    0        1      125      1      2.6      0   \n",
       "3   61    1   0       148   203    0        1      161      0      0.0      2   \n",
       "4   62    0   0       138   294    1        1      106      0      1.9      1   \n",
       "\n",
       "   ca  thal  target    scores  anomaly  \n",
       "0   2     3       0  0.065000        1  \n",
       "1   0     3       0  0.013022        1  \n",
       "2   0     3       0  0.033765        1  \n",
       "3   1     3       0  0.083573        1  \n",
       "4   3     2       0 -0.035869       -1  "
      ]
     },
     "execution_count": 15,
     "metadata": {},
     "output_type": "execute_result"
    }
   ],
   "source": [
    "hd_df['scores']=model.decision_function(hd_df[hd_df.columns[0:14]])\n",
    "hd_df['anomaly']=model.predict(hd_df[hd_df.columns[0:14]])\n",
    "hd_df.head(5)"
   ]
  },
  {
   "cell_type": "code",
   "execution_count": 16,
   "metadata": {},
   "outputs": [
    {
     "data": {
      "text/html": [
       "<div>\n",
       "<style scoped>\n",
       "    .dataframe tbody tr th:only-of-type {\n",
       "        vertical-align: middle;\n",
       "    }\n",
       "\n",
       "    .dataframe tbody tr th {\n",
       "        vertical-align: top;\n",
       "    }\n",
       "\n",
       "    .dataframe thead th {\n",
       "        text-align: right;\n",
       "    }\n",
       "</style>\n",
       "<table border=\"1\" class=\"dataframe\">\n",
       "  <thead>\n",
       "    <tr style=\"text-align: right;\">\n",
       "      <th></th>\n",
       "      <th>age</th>\n",
       "      <th>sex</th>\n",
       "      <th>cp</th>\n",
       "      <th>trestbps</th>\n",
       "      <th>chol</th>\n",
       "      <th>fbs</th>\n",
       "      <th>restecg</th>\n",
       "      <th>thalach</th>\n",
       "      <th>exang</th>\n",
       "      <th>oldpeak</th>\n",
       "      <th>slope</th>\n",
       "      <th>ca</th>\n",
       "      <th>thal</th>\n",
       "      <th>target</th>\n",
       "      <th>scores</th>\n",
       "      <th>anomaly</th>\n",
       "    </tr>\n",
       "  </thead>\n",
       "  <tbody>\n",
       "    <tr>\n",
       "      <th>4</th>\n",
       "      <td>62</td>\n",
       "      <td>0</td>\n",
       "      <td>0</td>\n",
       "      <td>138</td>\n",
       "      <td>294</td>\n",
       "      <td>1</td>\n",
       "      <td>1</td>\n",
       "      <td>106</td>\n",
       "      <td>0</td>\n",
       "      <td>1.9</td>\n",
       "      <td>1</td>\n",
       "      <td>3</td>\n",
       "      <td>2</td>\n",
       "      <td>0</td>\n",
       "      <td>-0.035869</td>\n",
       "      <td>-1</td>\n",
       "    </tr>\n",
       "    <tr>\n",
       "      <th>6</th>\n",
       "      <td>58</td>\n",
       "      <td>1</td>\n",
       "      <td>0</td>\n",
       "      <td>114</td>\n",
       "      <td>318</td>\n",
       "      <td>0</td>\n",
       "      <td>2</td>\n",
       "      <td>140</td>\n",
       "      <td>0</td>\n",
       "      <td>4.4</td>\n",
       "      <td>0</td>\n",
       "      <td>3</td>\n",
       "      <td>1</td>\n",
       "      <td>0</td>\n",
       "      <td>-0.098886</td>\n",
       "      <td>-1</td>\n",
       "    </tr>\n",
       "    <tr>\n",
       "      <th>11</th>\n",
       "      <td>43</td>\n",
       "      <td>0</td>\n",
       "      <td>0</td>\n",
       "      <td>132</td>\n",
       "      <td>341</td>\n",
       "      <td>1</td>\n",
       "      <td>0</td>\n",
       "      <td>136</td>\n",
       "      <td>1</td>\n",
       "      <td>3.0</td>\n",
       "      <td>1</td>\n",
       "      <td>0</td>\n",
       "      <td>3</td>\n",
       "      <td>0</td>\n",
       "      <td>-0.029541</td>\n",
       "      <td>-1</td>\n",
       "    </tr>\n",
       "  </tbody>\n",
       "</table>\n",
       "</div>"
      ],
      "text/plain": [
       "    age  sex  cp  trestbps  chol  fbs  restecg  thalach  exang  oldpeak  \\\n",
       "4    62    0   0       138   294    1        1      106      0      1.9   \n",
       "6    58    1   0       114   318    0        2      140      0      4.4   \n",
       "11   43    0   0       132   341    1        0      136      1      3.0   \n",
       "\n",
       "    slope  ca  thal  target    scores  anomaly  \n",
       "4       1   3     2       0 -0.035869       -1  \n",
       "6       0   3     1       0 -0.098886       -1  \n",
       "11      1   0     3       0 -0.029541       -1  "
      ]
     },
     "execution_count": 16,
     "metadata": {},
     "output_type": "execute_result"
    }
   ],
   "source": [
    "#Print Anomalies\n",
    "anomaly=hd_df.loc[hd_df['anomaly']==-1]\n",
    "anomaly_index=list(anomaly.index)\n",
    "anomaly.head(3)"
   ]
  },
  {
   "cell_type": "markdown",
   "metadata": {},
   "source": [
    "EDA"
   ]
  },
  {
   "cell_type": "markdown",
   "metadata": {},
   "source": [
    "Information about features"
   ]
  },
  {
   "cell_type": "code",
   "execution_count": 17,
   "metadata": {},
   "outputs": [
    {
     "name": "stdout",
     "output_type": "stream",
     "text": [
      "age:\t\t\tage\n",
      "sex:\t\t\t1: male, 0: female\n",
      "cp:\t\t\tchest pain type, 1: typical angina, 2: atypical angina, 3: non-anginal pain, 4: asymptomatic\n",
      "trestbps:\t\t\tresting blood pressure\n",
      "chol:\t\t\t serum cholestoral in mg/dl\n",
      "fbs:\t\t\tfasting blood sugar > 120 mg/dl\n",
      "restecg:\t\t\tresting electrocardiographic results (values 0,1,2)\n",
      "thalach:\t\t\t maximum heart rate achieved\n",
      "exang:\t\t\texercise induced angina\n",
      "oldpeak:\t\t\toldpeak = ST depression induced by exercise relative to rest\n",
      "slope:\t\t\tthe slope of the peak exercise ST segment\n",
      "ca:\t\t\tnumber of major vessels (0-3) colored by flourosopy\n",
      "thal:\t\t\tthal: 3 = normal; 6 = fixed defect; 7 = reversable defect\n"
     ]
    }
   ],
   "source": [
    "#for understanding each column better\n",
    "information = [\"age\",\"1: male, 0: female\",\"chest pain type, 1: typical angina, 2: atypical angina, 3: non-anginal pain, 4: asymptomatic\",\"resting blood pressure\",\" serum cholestoral in mg/dl\",\"fasting blood sugar > 120 mg/dl\",\"resting electrocardiographic results (values 0,1,2)\",\" maximum heart rate achieved\",\"exercise induced angina\",\"oldpeak = ST depression induced by exercise relative to rest\",\"the slope of the peak exercise ST segment\",\"number of major vessels (0-3) colored by flourosopy\",\"thal: 3 = normal; 6 = fixed defect; 7 = reversable defect\"]\n",
    "for i in range(len(information)):\n",
    "    print(hd_df.columns[i]+\":\\t\\t\\t\"+information[i])"
   ]
  },
  {
   "cell_type": "markdown",
   "metadata": {},
   "source": [
    "Analyzing target variable"
   ]
  },
  {
   "cell_type": "code",
   "execution_count": 18,
   "metadata": {},
   "outputs": [
    {
     "name": "stdout",
     "output_type": "stream",
     "text": [
      "1    164\n",
      "0    138\n",
      "Name: target, dtype: int64\n"
     ]
    },
    {
     "data": {
      "image/png": "[encoded data removed]",
      "text/plain": [
       "<Figure size 432x288 with 1 Axes>"
      ]
     },
     "metadata": {
      "needs_background": "light"
     },
     "output_type": "display_data"
    }
   ],
   "source": [
    "y = hd_df[\"target\"]\n",
    "sns.countplot(y)\n",
    "tar_value = hd_df.target.value_counts()\n",
    "print(tar_value)"
   ]
  },
  {
   "cell_type": "code",
   "execution_count": 19,
   "metadata": {},
   "outputs": [
    {
     "name": "stdout",
     "output_type": "stream",
     "text": [
      "Percentage of patience without heart problems: target 0: 45.54\n",
      "Percentage of patience with heart problems: target 1: 54.13\n"
     ]
    }
   ],
   "source": [
    "#checking the percentage of patients with and without heart disease \n",
    "print(\"Percentage of patience without heart problems: target 0: \"+str(round(tar_value[0]*100/303,2)))\n",
    "print(\"Percentage of patience with heart problems: target 1: \"+str(round(tar_value[1]*100/303,2)))"
   ]
  },
  {
   "cell_type": "markdown",
   "metadata": {},
   "source": [
    "Distribution of all columns / features"
   ]
  },
  {
   "cell_type": "code",
   "execution_count": 20,
   "metadata": {},
   "outputs": [
    {
     "data": {
      "text/plain": [
       "array([[<AxesSubplot:title={'center':'age'}>,\n",
       "        <AxesSubplot:title={'center':'sex'}>,\n",
       "        <AxesSubplot:title={'center':'cp'}>,\n",
       "        <AxesSubplot:title={'center':'trestbps'}>],\n",
       "       [<AxesSubplot:title={'center':'chol'}>,\n",
       "        <AxesSubplot:title={'center':'fbs'}>,\n",
       "        <AxesSubplot:title={'center':'restecg'}>,\n",
       "        <AxesSubplot:title={'center':'thalach'}>],\n",
       "       [<AxesSubplot:title={'center':'exang'}>,\n",
       "        <AxesSubplot:title={'center':'oldpeak'}>,\n",
       "        <AxesSubplot:title={'center':'slope'}>,\n",
       "        <AxesSubplot:title={'center':'ca'}>],\n",
       "       [<AxesSubplot:title={'center':'thal'}>,\n",
       "        <AxesSubplot:title={'center':'target'}>,\n",
       "        <AxesSubplot:title={'center':'scores'}>,\n",
       "        <AxesSubplot:title={'center':'anomaly'}>]], dtype=object)"
      ]
     },
     "execution_count": 20,
     "metadata": {},
     "output_type": "execute_result"
    },
    {
     "data": {
      "image/png": "[encoded data removed]",
      "text/plain": [
       "<Figure size 1152x1440 with 16 Axes>"
      ]
     },
     "metadata": {
      "needs_background": "light"
     },
     "output_type": "display_data"
    }
   ],
   "source": [
    "#distribution of each column\n",
    "hd_df.hist(figsize=(16, 20), xlabelsize=8, ylabelsize=8)"
   ]
  },
  {
   "cell_type": "markdown",
   "metadata": {},
   "source": [
    "Analyzing Gender Column"
   ]
  },
  {
   "cell_type": "markdown",
   "metadata": {},
   "source": [
    "Gender columns shows, there are 96 female patient's record and 206 males records in dataset"
   ]
  },
  {
   "cell_type": "code",
   "execution_count": 21,
   "metadata": {},
   "outputs": [
    {
     "data": {
      "text/plain": [
       "1    206\n",
       "0     96\n",
       "Name: sex, dtype: int64"
      ]
     },
     "execution_count": 21,
     "metadata": {},
     "output_type": "execute_result"
    }
   ],
   "source": [
    "hd_df['sex'].value_counts()"
   ]
  },
  {
   "cell_type": "code",
   "execution_count": 22,
   "metadata": {},
   "outputs": [
    {
     "data": {
      "text/plain": [
       "sex  target\n",
       "0    0          24\n",
       "     1          72\n",
       "1    0         114\n",
       "     1          92\n",
       "Name: sex, dtype: int64"
      ]
     },
     "execution_count": 22,
     "metadata": {},
     "output_type": "execute_result"
    }
   ],
   "source": [
    "#gender wise distribution of disease\n",
    "hd_df.groupby(['sex', 'target'])['sex'].count()"
   ]
  },
  {
   "cell_type": "code",
   "execution_count": 23,
   "metadata": {},
   "outputs": [
    {
     "data": {
      "text/plain": [
       "<AxesSubplot:xlabel='sex', ylabel='count'>"
      ]
     },
     "execution_count": 23,
     "metadata": {},
     "output_type": "execute_result"
    },
    {
     "data": {
      "image/png": "[encoded data removed]",
      "text/plain": [
       "<Figure size 432x288 with 1 Axes>"
      ]
     },
     "metadata": {
      "needs_background": "light"
     },
     "output_type": "display_data"
    }
   ],
   "source": [
    "sns.countplot(data=hd_df, x='sex', hue='target')\n"
   ]
  },
  {
   "cell_type": "markdown",
   "metadata": {},
   "source": [
    "Above graph demonstrate that heart disease is more common in males than females, 0 shows female and 1 shows male. \n",
    "males are more likely to have heart problem than females"
   ]
  },
  {
   "cell_type": "markdown",
   "metadata": {},
   "source": [
    "Analyzing Chest Pain Feature"
   ]
  },
  {
   "cell_type": "code",
   "execution_count": 24,
   "metadata": {},
   "outputs": [
    {
     "data": {
      "text/plain": [
       "cp  target\n",
       "0   0         104\n",
       "    1          39\n",
       "1   0           9\n",
       "    1          41\n",
       "2   0          18\n",
       "    1          68\n",
       "3   0           7\n",
       "    1          16\n",
       "Name: cp, dtype: int64"
      ]
     },
     "execution_count": 24,
     "metadata": {},
     "output_type": "execute_result"
    }
   ],
   "source": [
    "#group wise cp with target feature\n",
    "hd_df.groupby(['cp', 'target'])['cp'].count()"
   ]
  },
  {
   "cell_type": "code",
   "execution_count": 25,
   "metadata": {},
   "outputs": [
    {
     "data": {
      "text/plain": [
       "<AxesSubplot:xlabel='cp', ylabel='count'>"
      ]
     },
     "execution_count": 25,
     "metadata": {},
     "output_type": "execute_result"
    },
    {
     "data": {
      "image/png": "[encoded data removed]",
      "text/plain": [
       "<Figure size 432x288 with 1 Axes>"
      ]
     },
     "metadata": {
      "needs_background": "light"
     },
     "output_type": "display_data"
    }
   ],
   "source": [
    "#chest pain wise distribution of target data\n",
    "sns.countplot(data=hd_df, x='cp', hue='target')"
   ]
  },
  {
   "cell_type": "markdown",
   "metadata": {},
   "source": [
    "Above graph shows that the chest pain of type 2 are more likely to have heart disease and type 3 are less likely to have heart disease."
   ]
  },
  {
   "cell_type": "markdown",
   "metadata": {},
   "source": [
    "Analyzing Slope feature"
   ]
  },
  {
   "cell_type": "code",
   "execution_count": 26,
   "metadata": {},
   "outputs": [
    {
     "data": {
      "text/plain": [
       "<AxesSubplot:xlabel='slope', ylabel='count'>"
      ]
     },
     "execution_count": 26,
     "metadata": {},
     "output_type": "execute_result"
    },
    {
     "data": {
      "image/png": "[encoded data removed]",
      "text/plain": [
       "<Figure size 432x288 with 1 Axes>"
      ]
     },
     "metadata": {
      "needs_background": "light"
     },
     "output_type": "display_data"
    }
   ],
   "source": [
    "sns.countplot(data=hd_df, x='slope', hue='target')"
   ]
  },
  {
   "cell_type": "markdown",
   "metadata": {},
   "source": [
    "From above graph, it is observed that slop 2 causes more chest pain than 0 and 1"
   ]
  },
  {
   "cell_type": "markdown",
   "metadata": {},
   "source": [
    "Analyzing Thal feature"
   ]
  },
  {
   "cell_type": "code",
   "execution_count": 27,
   "metadata": {},
   "outputs": [
    {
     "data": {
      "text/plain": [
       "<bound method IndexOpsMixin.value_counts of 0      3\n",
       "1      3\n",
       "2      3\n",
       "3      3\n",
       "4      2\n",
       "      ..\n",
       "723    2\n",
       "733    2\n",
       "739    3\n",
       "843    2\n",
       "878    3\n",
       "Name: thal, Length: 302, dtype: int64>"
      ]
     },
     "execution_count": 27,
     "metadata": {},
     "output_type": "execute_result"
    }
   ],
   "source": [
    "hd_df['thal'].value_counts"
   ]
  },
  {
   "cell_type": "code",
   "execution_count": 28,
   "metadata": {},
   "outputs": [
    {
     "data": {
      "text/plain": [
       "<AxesSubplot:xlabel='thal', ylabel='count'>"
      ]
     },
     "execution_count": 28,
     "metadata": {},
     "output_type": "execute_result"
    },
    {
     "data": {
      "image/png": "[encoded data removed]",
      "text/plain": [
       "<Figure size 432x288 with 1 Axes>"
      ]
     },
     "metadata": {
      "needs_background": "light"
     },
     "output_type": "display_data"
    }
   ],
   "source": [
    "sns.countplot(data=hd_df, x='thal', hue='target')"
   ]
  },
  {
   "cell_type": "markdown",
   "metadata": {},
   "source": [
    "Above graph shows that patient's with thal 2 are more likely have heart disease and there are very few patient with 0 record."
   ]
  },
  {
   "cell_type": "markdown",
   "metadata": {},
   "source": [
    "Analyzing Vessel (CA) feature"
   ]
  },
  {
   "cell_type": "code",
   "execution_count": 29,
   "metadata": {},
   "outputs": [
    {
     "data": {
      "text/plain": [
       "<AxesSubplot:xlabel='ca', ylabel='count'>"
      ]
     },
     "execution_count": 29,
     "metadata": {},
     "output_type": "execute_result"
    },
    {
     "data": {
      "image/png": "[encoded data removed]",
      "text/plain": [
       "<Figure size 432x288 with 1 Axes>"
      ]
     },
     "metadata": {
      "needs_background": "light"
     },
     "output_type": "display_data"
    }
   ],
   "source": [
    "sns.countplot(data=hd_df, x='ca', hue='target')"
   ]
  },
  {
   "cell_type": "markdown",
   "metadata": {},
   "source": [
    "Analyzing Blood Sugar feature with target variable"
   ]
  },
  {
   "cell_type": "code",
   "execution_count": 30,
   "metadata": {},
   "outputs": [
    {
     "data": {
      "text/plain": [
       "<bound method Series.unique of 0      0\n",
       "1      1\n",
       "2      0\n",
       "3      0\n",
       "4      1\n",
       "      ..\n",
       "723    0\n",
       "733    0\n",
       "739    0\n",
       "843    0\n",
       "878    0\n",
       "Name: fbs, Length: 302, dtype: int64>"
      ]
     },
     "execution_count": 30,
     "metadata": {},
     "output_type": "execute_result"
    }
   ],
   "source": [
    "hd_df['fbs'].unique"
   ]
  },
  {
   "cell_type": "code",
   "execution_count": 31,
   "metadata": {},
   "outputs": [
    {
     "data": {
      "text/plain": [
       "<AxesSubplot:xlabel='fbs', ylabel='count'>"
      ]
     },
     "execution_count": 31,
     "metadata": {},
     "output_type": "execute_result"
    },
    {
     "data": {
      "image/png": "[encoded data removed]",
      "text/plain": [
       "<Figure size 432x288 with 1 Axes>"
      ]
     },
     "metadata": {
      "needs_background": "light"
     },
     "output_type": "display_data"
    }
   ],
   "source": [
    "sns.countplot(data=hd_df, x='fbs', hue='target')"
   ]
  },
  {
   "cell_type": "markdown",
   "metadata": {},
   "source": [
    "Above graph shows that patients those have heart disease are less likely to have blood sugar"
   ]
  },
  {
   "cell_type": "code",
   "execution_count": 32,
   "metadata": {},
   "outputs": [
    {
     "data": {
      "text/plain": [
       "[Text(0.5, 1.0, 'Distribution of Fasting Blood Sugar')]"
      ]
     },
     "execution_count": 32,
     "metadata": {},
     "output_type": "execute_result"
    },
    {
     "data": {
      "image/png": "[encoded data removed]",
      "text/plain": [
       "<Figure size 432x288 with 1 Axes>"
      ]
     },
     "metadata": {
      "needs_background": "light"
     },
     "output_type": "display_data"
    }
   ],
   "source": [
    "#sns.countplot(data=hd_df, x='chol', hue='target')\n",
    "sns.distplot(hd_df['fbs'], color='green').set(title='Distribution of Fasting Blood Sugar')"
   ]
  },
  {
   "cell_type": "markdown",
   "metadata": {},
   "source": [
    "cholestrol level with target variable"
   ]
  },
  {
   "cell_type": "code",
   "execution_count": 33,
   "metadata": {},
   "outputs": [
    {
     "data": {
      "text/plain": [
       "[Text(0.5, 1.0, 'Distribution of Chelestrol Level')]"
      ]
     },
     "execution_count": 33,
     "metadata": {},
     "output_type": "execute_result"
    },
    {
     "data": {
      "image/png": "[encoded data removed]",
      "text/plain": [
       "<Figure size 432x288 with 1 Axes>"
      ]
     },
     "metadata": {
      "needs_background": "light"
     },
     "output_type": "display_data"
    }
   ],
   "source": [
    "#sns.countplot(data=hd_df, x='chol', hue='target')\n",
    "sns.distplot(hd_df['chol'], color='green').set(title='Distribution of Chelestrol Level')"
   ]
  },
  {
   "cell_type": "markdown",
   "metadata": {},
   "source": [
    "Age feature distribution"
   ]
  },
  {
   "cell_type": "code",
   "execution_count": 34,
   "metadata": {},
   "outputs": [
    {
     "data": {
      "text/plain": [
       "[Text(0.5, 1.0, 'Distribution of Age')]"
      ]
     },
     "execution_count": 34,
     "metadata": {},
     "output_type": "execute_result"
    },
    {
     "data": {
      "image/png": "[encoded data removed]",
      "text/plain": [
       "<Figure size 432x288 with 1 Axes>"
      ]
     },
     "metadata": {
      "needs_background": "light"
     },
     "output_type": "display_data"
    }
   ],
   "source": [
    "sns.distplot(hd_df['age'], color='green').set(title='Distribution of Age')"
   ]
  },
  {
   "cell_type": "markdown",
   "metadata": {},
   "source": [
    "Blood Pressure"
   ]
  },
  {
   "cell_type": "code",
   "execution_count": 35,
   "metadata": {},
   "outputs": [
    {
     "data": {
      "text/plain": [
       "[Text(0.5, 1.0, 'Distribution of Resting Blood Pressure')]"
      ]
     },
     "execution_count": 35,
     "metadata": {},
     "output_type": "execute_result"
    },
    {
     "data": {
      "image/png": "[encoded data removed]",
      "text/plain": [
       "<Figure size 432x288 with 1 Axes>"
      ]
     },
     "metadata": {
      "needs_background": "light"
     },
     "output_type": "display_data"
    }
   ],
   "source": [
    "sns.distplot(hd_df['trestbps'], color=\"green\").set(title='Distribution of Resting Blood Pressure')"
   ]
  },
  {
   "cell_type": "markdown",
   "metadata": {},
   "source": [
    "Checking Correlation"
   ]
  },
  {
   "cell_type": "code",
   "execution_count": 36,
   "metadata": {},
   "outputs": [
    {
     "data": {
      "text/html": [
       "<div>\n",
       "<style scoped>\n",
       "    .dataframe tbody tr th:only-of-type {\n",
       "        vertical-align: middle;\n",
       "    }\n",
       "\n",
       "    .dataframe tbody tr th {\n",
       "        vertical-align: top;\n",
       "    }\n",
       "\n",
       "    .dataframe thead th {\n",
       "        text-align: right;\n",
       "    }\n",
       "</style>\n",
       "<table border=\"1\" class=\"dataframe\">\n",
       "  <thead>\n",
       "    <tr style=\"text-align: right;\">\n",
       "      <th></th>\n",
       "      <th>age</th>\n",
       "      <th>sex</th>\n",
       "      <th>cp</th>\n",
       "      <th>trestbps</th>\n",
       "      <th>chol</th>\n",
       "      <th>fbs</th>\n",
       "      <th>restecg</th>\n",
       "      <th>thalach</th>\n",
       "      <th>exang</th>\n",
       "      <th>oldpeak</th>\n",
       "      <th>slope</th>\n",
       "      <th>ca</th>\n",
       "      <th>thal</th>\n",
       "      <th>target</th>\n",
       "      <th>scores</th>\n",
       "      <th>anomaly</th>\n",
       "    </tr>\n",
       "  </thead>\n",
       "  <tbody>\n",
       "    <tr>\n",
       "      <th>age</th>\n",
       "      <td>1.000000</td>\n",
       "      <td>-0.094962</td>\n",
       "      <td>-0.063107</td>\n",
       "      <td>0.283121</td>\n",
       "      <td>0.207216</td>\n",
       "      <td>0.119492</td>\n",
       "      <td>-0.111590</td>\n",
       "      <td>-0.395235</td>\n",
       "      <td>0.093216</td>\n",
       "      <td>0.206040</td>\n",
       "      <td>-0.164124</td>\n",
       "      <td>0.302261</td>\n",
       "      <td>0.065317</td>\n",
       "      <td>-0.221476</td>\n",
       "      <td>-0.294073</td>\n",
       "      <td>-0.138856</td>\n",
       "    </tr>\n",
       "    <tr>\n",
       "      <th>sex</th>\n",
       "      <td>-0.094962</td>\n",
       "      <td>1.000000</td>\n",
       "      <td>-0.051740</td>\n",
       "      <td>-0.057647</td>\n",
       "      <td>-0.195571</td>\n",
       "      <td>0.046022</td>\n",
       "      <td>-0.060351</td>\n",
       "      <td>-0.046439</td>\n",
       "      <td>0.143460</td>\n",
       "      <td>0.098322</td>\n",
       "      <td>-0.032990</td>\n",
       "      <td>0.113060</td>\n",
       "      <td>0.211452</td>\n",
       "      <td>-0.283609</td>\n",
       "      <td>0.080666</td>\n",
       "      <td>0.143994</td>\n",
       "    </tr>\n",
       "    <tr>\n",
       "      <th>cp</th>\n",
       "      <td>-0.063107</td>\n",
       "      <td>-0.051740</td>\n",
       "      <td>1.000000</td>\n",
       "      <td>0.046486</td>\n",
       "      <td>-0.072682</td>\n",
       "      <td>0.096018</td>\n",
       "      <td>0.041561</td>\n",
       "      <td>0.293367</td>\n",
       "      <td>-0.392937</td>\n",
       "      <td>-0.146692</td>\n",
       "      <td>0.116854</td>\n",
       "      <td>-0.195356</td>\n",
       "      <td>-0.160370</td>\n",
       "      <td>0.432080</td>\n",
       "      <td>-0.006640</td>\n",
       "      <td>0.030400</td>\n",
       "    </tr>\n",
       "    <tr>\n",
       "      <th>trestbps</th>\n",
       "      <td>0.283121</td>\n",
       "      <td>-0.057647</td>\n",
       "      <td>0.046486</td>\n",
       "      <td>1.000000</td>\n",
       "      <td>0.125256</td>\n",
       "      <td>0.178125</td>\n",
       "      <td>-0.115367</td>\n",
       "      <td>-0.048023</td>\n",
       "      <td>0.068526</td>\n",
       "      <td>0.194600</td>\n",
       "      <td>-0.122873</td>\n",
       "      <td>0.099248</td>\n",
       "      <td>0.062870</td>\n",
       "      <td>-0.146269</td>\n",
       "      <td>-0.332665</td>\n",
       "      <td>-0.275220</td>\n",
       "    </tr>\n",
       "    <tr>\n",
       "      <th>chol</th>\n",
       "      <td>0.207216</td>\n",
       "      <td>-0.195571</td>\n",
       "      <td>-0.072682</td>\n",
       "      <td>0.125256</td>\n",
       "      <td>1.000000</td>\n",
       "      <td>0.011428</td>\n",
       "      <td>-0.147602</td>\n",
       "      <td>-0.005308</td>\n",
       "      <td>0.064099</td>\n",
       "      <td>0.050086</td>\n",
       "      <td>0.000417</td>\n",
       "      <td>0.086878</td>\n",
       "      <td>0.096810</td>\n",
       "      <td>-0.081437</td>\n",
       "      <td>-0.180542</td>\n",
       "      <td>-0.173258</td>\n",
       "    </tr>\n",
       "    <tr>\n",
       "      <th>fbs</th>\n",
       "      <td>0.119492</td>\n",
       "      <td>0.046022</td>\n",
       "      <td>0.096018</td>\n",
       "      <td>0.178125</td>\n",
       "      <td>0.011428</td>\n",
       "      <td>1.000000</td>\n",
       "      <td>-0.083081</td>\n",
       "      <td>-0.007169</td>\n",
       "      <td>0.024729</td>\n",
       "      <td>0.004514</td>\n",
       "      <td>-0.058654</td>\n",
       "      <td>0.144935</td>\n",
       "      <td>-0.032752</td>\n",
       "      <td>-0.026826</td>\n",
       "      <td>-0.456570</td>\n",
       "      <td>-0.379330</td>\n",
       "    </tr>\n",
       "    <tr>\n",
       "      <th>restecg</th>\n",
       "      <td>-0.111590</td>\n",
       "      <td>-0.060351</td>\n",
       "      <td>0.041561</td>\n",
       "      <td>-0.115367</td>\n",
       "      <td>-0.147602</td>\n",
       "      <td>-0.083081</td>\n",
       "      <td>1.000000</td>\n",
       "      <td>0.041210</td>\n",
       "      <td>-0.068807</td>\n",
       "      <td>-0.056251</td>\n",
       "      <td>0.090402</td>\n",
       "      <td>-0.083112</td>\n",
       "      <td>-0.010473</td>\n",
       "      <td>0.134874</td>\n",
       "      <td>0.062189</td>\n",
       "      <td>0.006673</td>\n",
       "    </tr>\n",
       "    <tr>\n",
       "      <th>thalach</th>\n",
       "      <td>-0.395235</td>\n",
       "      <td>-0.046439</td>\n",
       "      <td>0.293367</td>\n",
       "      <td>-0.048023</td>\n",
       "      <td>-0.005308</td>\n",
       "      <td>-0.007169</td>\n",
       "      <td>0.041210</td>\n",
       "      <td>1.000000</td>\n",
       "      <td>-0.377411</td>\n",
       "      <td>-0.342201</td>\n",
       "      <td>0.384754</td>\n",
       "      <td>-0.228311</td>\n",
       "      <td>-0.094910</td>\n",
       "      <td>0.419955</td>\n",
       "      <td>0.230633</td>\n",
       "      <td>0.079042</td>\n",
       "    </tr>\n",
       "    <tr>\n",
       "      <th>exang</th>\n",
       "      <td>0.093216</td>\n",
       "      <td>0.143460</td>\n",
       "      <td>-0.392937</td>\n",
       "      <td>0.068526</td>\n",
       "      <td>0.064099</td>\n",
       "      <td>0.024729</td>\n",
       "      <td>-0.068807</td>\n",
       "      <td>-0.377411</td>\n",
       "      <td>1.000000</td>\n",
       "      <td>0.286766</td>\n",
       "      <td>-0.256106</td>\n",
       "      <td>0.125377</td>\n",
       "      <td>0.205826</td>\n",
       "      <td>-0.435601</td>\n",
       "      <td>-0.263965</td>\n",
       "      <td>-0.112440</td>\n",
       "    </tr>\n",
       "    <tr>\n",
       "      <th>oldpeak</th>\n",
       "      <td>0.206040</td>\n",
       "      <td>0.098322</td>\n",
       "      <td>-0.146692</td>\n",
       "      <td>0.194600</td>\n",
       "      <td>0.050086</td>\n",
       "      <td>0.004514</td>\n",
       "      <td>-0.056251</td>\n",
       "      <td>-0.342201</td>\n",
       "      <td>0.286766</td>\n",
       "      <td>1.000000</td>\n",
       "      <td>-0.576314</td>\n",
       "      <td>0.236560</td>\n",
       "      <td>0.209090</td>\n",
       "      <td>-0.429146</td>\n",
       "      <td>-0.401689</td>\n",
       "      <td>-0.321471</td>\n",
       "    </tr>\n",
       "    <tr>\n",
       "      <th>slope</th>\n",
       "      <td>-0.164124</td>\n",
       "      <td>-0.032990</td>\n",
       "      <td>0.116854</td>\n",
       "      <td>-0.122873</td>\n",
       "      <td>0.000417</td>\n",
       "      <td>-0.058654</td>\n",
       "      <td>0.090402</td>\n",
       "      <td>0.384754</td>\n",
       "      <td>-0.256106</td>\n",
       "      <td>-0.576314</td>\n",
       "      <td>1.000000</td>\n",
       "      <td>-0.092236</td>\n",
       "      <td>-0.103314</td>\n",
       "      <td>0.343940</td>\n",
       "      <td>0.383662</td>\n",
       "      <td>0.271631</td>\n",
       "    </tr>\n",
       "    <tr>\n",
       "      <th>ca</th>\n",
       "      <td>0.302261</td>\n",
       "      <td>0.113060</td>\n",
       "      <td>-0.195356</td>\n",
       "      <td>0.099248</td>\n",
       "      <td>0.086878</td>\n",
       "      <td>0.144935</td>\n",
       "      <td>-0.083112</td>\n",
       "      <td>-0.228311</td>\n",
       "      <td>0.125377</td>\n",
       "      <td>0.236560</td>\n",
       "      <td>-0.092236</td>\n",
       "      <td>1.000000</td>\n",
       "      <td>0.160085</td>\n",
       "      <td>-0.408992</td>\n",
       "      <td>-0.420564</td>\n",
       "      <td>-0.214119</td>\n",
       "    </tr>\n",
       "    <tr>\n",
       "      <th>thal</th>\n",
       "      <td>0.065317</td>\n",
       "      <td>0.211452</td>\n",
       "      <td>-0.160370</td>\n",
       "      <td>0.062870</td>\n",
       "      <td>0.096810</td>\n",
       "      <td>-0.032752</td>\n",
       "      <td>-0.010473</td>\n",
       "      <td>-0.094910</td>\n",
       "      <td>0.205826</td>\n",
       "      <td>0.209090</td>\n",
       "      <td>-0.103314</td>\n",
       "      <td>0.160085</td>\n",
       "      <td>1.000000</td>\n",
       "      <td>-0.343101</td>\n",
       "      <td>-0.007440</td>\n",
       "      <td>0.066880</td>\n",
       "    </tr>\n",
       "    <tr>\n",
       "      <th>target</th>\n",
       "      <td>-0.221476</td>\n",
       "      <td>-0.283609</td>\n",
       "      <td>0.432080</td>\n",
       "      <td>-0.146269</td>\n",
       "      <td>-0.081437</td>\n",
       "      <td>-0.026826</td>\n",
       "      <td>0.134874</td>\n",
       "      <td>0.419955</td>\n",
       "      <td>-0.435601</td>\n",
       "      <td>-0.429146</td>\n",
       "      <td>0.343940</td>\n",
       "      <td>-0.408992</td>\n",
       "      <td>-0.343101</td>\n",
       "      <td>1.000000</td>\n",
       "      <td>0.331626</td>\n",
       "      <td>0.193490</td>\n",
       "    </tr>\n",
       "    <tr>\n",
       "      <th>scores</th>\n",
       "      <td>-0.294073</td>\n",
       "      <td>0.080666</td>\n",
       "      <td>-0.006640</td>\n",
       "      <td>-0.332665</td>\n",
       "      <td>-0.180542</td>\n",
       "      <td>-0.456570</td>\n",
       "      <td>0.062189</td>\n",
       "      <td>0.230633</td>\n",
       "      <td>-0.263965</td>\n",
       "      <td>-0.401689</td>\n",
       "      <td>0.383662</td>\n",
       "      <td>-0.420564</td>\n",
       "      <td>-0.007440</td>\n",
       "      <td>0.331626</td>\n",
       "      <td>1.000000</td>\n",
       "      <td>0.647652</td>\n",
       "    </tr>\n",
       "    <tr>\n",
       "      <th>anomaly</th>\n",
       "      <td>-0.138856</td>\n",
       "      <td>0.143994</td>\n",
       "      <td>0.030400</td>\n",
       "      <td>-0.275220</td>\n",
       "      <td>-0.173258</td>\n",
       "      <td>-0.379330</td>\n",
       "      <td>0.006673</td>\n",
       "      <td>0.079042</td>\n",
       "      <td>-0.112440</td>\n",
       "      <td>-0.321471</td>\n",
       "      <td>0.271631</td>\n",
       "      <td>-0.214119</td>\n",
       "      <td>0.066880</td>\n",
       "      <td>0.193490</td>\n",
       "      <td>0.647652</td>\n",
       "      <td>1.000000</td>\n",
       "    </tr>\n",
       "  </tbody>\n",
       "</table>\n",
       "</div>"
      ],
      "text/plain": [
       "               age       sex        cp  trestbps      chol       fbs  \\\n",
       "age       1.000000 -0.094962 -0.063107  0.283121  0.207216  0.119492   \n",
       "sex      -0.094962  1.000000 -0.051740 -0.057647 -0.195571  0.046022   \n",
       "cp       -0.063107 -0.051740  1.000000  0.046486 -0.072682  0.096018   \n",
       "trestbps  0.283121 -0.057647  0.046486  1.000000  0.125256  0.178125   \n",
       "chol      0.207216 -0.195571 -0.072682  0.125256  1.000000  0.011428   \n",
       "fbs       0.119492  0.046022  0.096018  0.178125  0.011428  1.000000   \n",
       "restecg  -0.111590 -0.060351  0.041561 -0.115367 -0.147602 -0.083081   \n",
       "thalach  -0.395235 -0.046439  0.293367 -0.048023 -0.005308 -0.007169   \n",
       "exang     0.093216  0.143460 -0.392937  0.068526  0.064099  0.024729   \n",
       "oldpeak   0.206040  0.098322 -0.146692  0.194600  0.050086  0.004514   \n",
       "slope    -0.164124 -0.032990  0.116854 -0.122873  0.000417 -0.058654   \n",
       "ca        0.302261  0.113060 -0.195356  0.099248  0.086878  0.144935   \n",
       "thal      0.065317  0.211452 -0.160370  0.062870  0.096810 -0.032752   \n",
       "target   -0.221476 -0.283609  0.432080 -0.146269 -0.081437 -0.026826   \n",
       "scores   -0.294073  0.080666 -0.006640 -0.332665 -0.180542 -0.456570   \n",
       "anomaly  -0.138856  0.143994  0.030400 -0.275220 -0.173258 -0.379330   \n",
       "\n",
       "           restecg   thalach     exang   oldpeak     slope        ca  \\\n",
       "age      -0.111590 -0.395235  0.093216  0.206040 -0.164124  0.302261   \n",
       "sex      -0.060351 -0.046439  0.143460  0.098322 -0.032990  0.113060   \n",
       "cp        0.041561  0.293367 -0.392937 -0.146692  0.116854 -0.195356   \n",
       "trestbps -0.115367 -0.048023  0.068526  0.194600 -0.122873  0.099248   \n",
       "chol     -0.147602 -0.005308  0.064099  0.050086  0.000417  0.086878   \n",
       "fbs      -0.083081 -0.007169  0.024729  0.004514 -0.058654  0.144935   \n",
       "restecg   1.000000  0.041210 -0.068807 -0.056251  0.090402 -0.083112   \n",
       "thalach   0.041210  1.000000 -0.377411 -0.342201  0.384754 -0.228311   \n",
       "exang    -0.068807 -0.377411  1.000000  0.286766 -0.256106  0.125377   \n",
       "oldpeak  -0.056251 -0.342201  0.286766  1.000000 -0.576314  0.236560   \n",
       "slope     0.090402  0.384754 -0.256106 -0.576314  1.000000 -0.092236   \n",
       "ca       -0.083112 -0.228311  0.125377  0.236560 -0.092236  1.000000   \n",
       "thal     -0.010473 -0.094910  0.205826  0.209090 -0.103314  0.160085   \n",
       "target    0.134874  0.419955 -0.435601 -0.429146  0.343940 -0.408992   \n",
       "scores    0.062189  0.230633 -0.263965 -0.401689  0.383662 -0.420564   \n",
       "anomaly   0.006673  0.079042 -0.112440 -0.321471  0.271631 -0.214119   \n",
       "\n",
       "              thal    target    scores   anomaly  \n",
       "age       0.065317 -0.221476 -0.294073 -0.138856  \n",
       "sex       0.211452 -0.283609  0.080666  0.143994  \n",
       "cp       -0.160370  0.432080 -0.006640  0.030400  \n",
       "trestbps  0.062870 -0.146269 -0.332665 -0.275220  \n",
       "chol      0.096810 -0.081437 -0.180542 -0.173258  \n",
       "fbs      -0.032752 -0.026826 -0.456570 -0.379330  \n",
       "restecg  -0.010473  0.134874  0.062189  0.006673  \n",
       "thalach  -0.094910  0.419955  0.230633  0.079042  \n",
       "exang     0.205826 -0.435601 -0.263965 -0.112440  \n",
       "oldpeak   0.209090 -0.429146 -0.401689 -0.321471  \n",
       "slope    -0.103314  0.343940  0.383662  0.271631  \n",
       "ca        0.160085 -0.408992 -0.420564 -0.214119  \n",
       "thal      1.000000 -0.343101 -0.007440  0.066880  \n",
       "target   -0.343101  1.000000  0.331626  0.193490  \n",
       "scores   -0.007440  0.331626  1.000000  0.647652  \n",
       "anomaly   0.066880  0.193490  0.647652  1.000000  "
      ]
     },
     "execution_count": 36,
     "metadata": {},
     "output_type": "execute_result"
    }
   ],
   "source": [
    "cor = hd_df.corr()\n",
    "cor"
   ]
  },
  {
   "cell_type": "code",
   "execution_count": 37,
   "metadata": {},
   "outputs": [
    {
     "data": {
      "text/plain": [
       "<AxesSubplot:>"
      ]
     },
     "execution_count": 37,
     "metadata": {},
     "output_type": "execute_result"
    },
    {
     "data": {
      "image/png": "[encoded data removed]",
      "text/plain": [
       "<Figure size 864x648 with 2 Axes>"
      ]
     },
     "metadata": {
      "needs_background": "light"
     },
     "output_type": "display_data"
    }
   ],
   "source": [
    "f, ax = plt.subplots(figsize=(12, 9))\n",
    "sns.heatmap(hd_df.corr(),annot=True,cmap='coolwarm',linewidths=.5)"
   ]
  },
  {
   "cell_type": "markdown",
   "metadata": {},
   "source": [
    "Checking correlation with target variable only"
   ]
  },
  {
   "cell_type": "code",
   "execution_count": 38,
   "metadata": {},
   "outputs": [
    {
     "data": {
      "text/plain": [
       "target      1.000000\n",
       "cp          0.432080\n",
       "thalach     0.419955\n",
       "slope       0.343940\n",
       "scores      0.331626\n",
       "anomaly     0.193490\n",
       "restecg     0.134874\n",
       "fbs        -0.026826\n",
       "chol       -0.081437\n",
       "trestbps   -0.146269\n",
       "sex        -0.283609\n",
       "thal       -0.343101\n",
       "ca         -0.408992\n",
       "oldpeak    -0.429146\n",
       "exang      -0.435601\n",
       "Name: target, dtype: float64"
      ]
     },
     "execution_count": 38,
     "metadata": {},
     "output_type": "execute_result"
    }
   ],
   "source": [
    "corr = hd_df[hd_df.columns[1:]].corr()['target']\n",
    "corr = corr.sort_values(ascending = False)\n",
    "#corr.nlargest(11)\n",
    "corr"
   ]
  },
  {
   "cell_type": "markdown",
   "metadata": {},
   "source": [
    "Scaling Features"
   ]
  },
  {
   "cell_type": "code",
   "execution_count": 39,
   "metadata": {},
   "outputs": [],
   "source": [
    "standardScaler = StandardScaler()\n",
    "columns_to_scale = ['age', 'trestbps', 'chol', 'thalach', 'oldpeak']\n",
    "hd_df[columns_to_scale] = standardScaler.fit_transform(hd_df[columns_to_scale])"
   ]
  },
  {
   "cell_type": "markdown",
   "metadata": {},
   "source": [
    "Splitting data "
   ]
  },
  {
   "cell_type": "code",
   "execution_count": 40,
   "metadata": {},
   "outputs": [],
   "source": [
    "from sklearn.model_selection import train_test_split\n",
    "\n",
    "X = hd_df.drop(\"target\",axis=1)\n",
    "y = hd_df[\"target\"]\n",
    "\n",
    "#X_train,X_test,Y_train,Y_test = train_test_split(X,y,test_size=0.20,random_state=0)"
   ]
  },
  {
   "cell_type": "markdown",
   "metadata": {},
   "source": [
    "Random Oversampling for class imbalance problem"
   ]
  },
  {
   "cell_type": "code",
   "execution_count": 41,
   "metadata": {},
   "outputs": [],
   "source": [
    "# define oversampling strategy\n",
    "oversample = RandomOverSampler(sampling_strategy='minority')\n",
    "# fit and apply the transform\n",
    "X_over, y_over = oversample.fit_resample(X, y)"
   ]
  },
  {
   "cell_type": "code",
   "execution_count": 42,
   "metadata": {},
   "outputs": [],
   "source": [
    "X_train,X_test,Y_train,Y_test = train_test_split(X_over,y_over,test_size=0.20,random_state=0)"
   ]
  },
  {
   "cell_type": "code",
   "execution_count": 43,
   "metadata": {},
   "outputs": [
    {
     "name": "stdout",
     "output_type": "stream",
     "text": [
      "(262, 15)\n",
      "(66, 15)\n"
     ]
    }
   ],
   "source": [
    "print(X_train.shape)\n",
    "print(X_test.shape)"
   ]
  },
  {
   "cell_type": "code",
   "execution_count": 44,
   "metadata": {},
   "outputs": [
    {
     "name": "stdout",
     "output_type": "stream",
     "text": [
      "(262,)\n",
      "(66,)\n"
     ]
    }
   ],
   "source": [
    "print(Y_train.shape)\n",
    "print(Y_test.shape)"
   ]
  },
  {
   "cell_type": "markdown",
   "metadata": {},
   "source": [
    "Feature Selection using Random Forest"
   ]
  },
  {
   "cell_type": "code",
   "execution_count": 46,
   "metadata": {},
   "outputs": [
    {
     "name": "stdout",
     "output_type": "stream",
     "text": [
      "cp          14.072698\n",
      "ca          11.738359\n",
      "scores      11.541804\n",
      "thal         9.609742\n",
      "chol         9.022854\n",
      "age          8.540826\n",
      "oldpeak      7.986626\n",
      "thalach      6.906961\n",
      "slope        5.012212\n",
      "trestbps     4.321028\n",
      "exang        3.821016\n",
      "sex          3.662627\n",
      "restecg      2.026322\n",
      "anomaly      1.129202\n",
      "fbs          0.607724\n",
      "dtype: float64\n",
      "Selected Features =['cp', 'ca', 'scores', 'thal', 'chol', 'age', 'oldpeak', 'thalach', 'slope']\n"
     ]
    }
   ],
   "source": [
    "threshold = 5\n",
    "df_cpy = hd_df.copy()\n",
    "df_cpy, trainX, testX, trainY, testY = traintestsplit(df_cpy, 0.2, 91, label_col='target')\n",
    "res = RFfeatureimportance(df_cpy, trainX, testX, trainY, testY,\n",
    "                              trees=10, regression=False)\n",
    "\n",
    "impftrs = list(res[res > threshold].keys())\n",
    "    \n",
    "print (\"Selected Features =\" + str(impftrs))"
   ]
  },
  {
   "cell_type": "code",
   "execution_count": 47,
   "metadata": {},
   "outputs": [],
   "source": [
    "SelectedFeatures =['thalach', 'ca', 'thal', 'cp', 'age', 'oldpeak', 'slope', 'trestbps', 'sex']"
   ]
  },
  {
   "cell_type": "code",
   "execution_count": 48,
   "metadata": {},
   "outputs": [],
   "source": [
    "X_train = X_train[SelectedFeatures]\n",
    "X_test = X_test[SelectedFeatures]"
   ]
  },
  {
   "cell_type": "markdown",
   "metadata": {},
   "source": [
    "Feature selection using Lasso"
   ]
  },
  {
   "cell_type": "code",
   "execution_count": 49,
   "metadata": {},
   "outputs": [
    {
     "data": {
      "text/plain": [
       "(          age  sex  cp  trestbps      chol  fbs  restecg   thalach  exang  \\\n",
       " 0   -0.267966    1   0 -0.376556 -0.667728    0        1  0.806035      0   \n",
       " 1   -0.157260    1   0  0.478910 -0.841918    1        0  0.237495      1   \n",
       " 2    1.724733    1   0  0.764066 -1.403197    0        1 -1.074521      1   \n",
       " 3    0.728383    1   0  0.935159 -0.841918    0        1  0.499898      0   \n",
       " 4    0.839089    0   0  0.364848  0.919336    1        1 -1.905464      0   \n",
       " ..        ...  ...  ..       ...       ...  ...      ...       ...    ...   \n",
       " 323  0.617678    0   0  1.049221  0.222576    0        0  0.324963      0   \n",
       " 324 -0.157260    1   0  0.478910 -0.841918    1        0  0.237495      1   \n",
       " 325  0.396267    0   1  0.250786  1.403197    1        0  0.106294      0   \n",
       " 326 -0.932199    1   0  0.478910  1.248361    0        1 -1.293190      1   \n",
       " 327  1.281911    1   1  1.619532 -0.009677    0        1 -1.293190      1   \n",
       " \n",
       "       oldpeak  slope  ca  thal    scores  anomaly  \n",
       " 0   -0.037124      2   2     3  0.065000        1  \n",
       " 1    1.773958      0   0     3  0.013022        1  \n",
       " 2    1.342748      0   0     3  0.033765        1  \n",
       " 3   -0.899544      2   1     3  0.083573        1  \n",
       " 4    0.739054      1   3     2 -0.035869       -1  \n",
       " ..        ...    ...  ..   ...       ...      ...  \n",
       " 323  1.342748      1   2     3  0.041047        1  \n",
       " 324  1.773958      0   0     3  0.013022        1  \n",
       " 325 -0.899544      2   2     2 -0.006436       -1  \n",
       " 326  0.652812      1   2     3  0.065948        1  \n",
       " 327 -0.899544      1   3     1 -0.013043       -1  \n",
       " \n",
       " [328 rows x 15 columns],\n",
       " 0      0\n",
       " 1      0\n",
       " 2      0\n",
       " 3      0\n",
       " 4      0\n",
       "       ..\n",
       " 323    0\n",
       " 324    0\n",
       " 325    0\n",
       " 326    0\n",
       " 327    0\n",
       " Name: target, Length: 328, dtype: int64)"
      ]
     },
     "execution_count": 49,
     "metadata": {},
     "output_type": "execute_result"
    }
   ],
   "source": [
    "# fit and apply the transform\n",
    "X_over, y_over "
   ]
  },
  {
   "cell_type": "markdown",
   "metadata": {},
   "source": [
    "Random Forest"
   ]
  },
  {
   "cell_type": "code",
   "execution_count": 50,
   "metadata": {},
   "outputs": [],
   "source": [
    "cv = RepeatedKFold(n_splits=10, n_repeats=3, random_state=1)\n",
    "lasso_model = Lasso()"
   ]
  },
  {
   "cell_type": "code",
   "execution_count": 51,
   "metadata": {},
   "outputs": [],
   "source": [
    "from sklearn.preprocessing import StandardScaler\n",
    "scaler = StandardScaler()\n",
    "X_sc = scaler.fit_transform(X_over)"
   ]
  },
  {
   "cell_type": "code",
   "execution_count": 52,
   "metadata": {},
   "outputs": [],
   "source": [
    "X_train, X_test, y_train, y_test = train_test_split(X_sc, y_over, test_size=0.33, random_state=42)"
   ]
  },
  {
   "cell_type": "code",
   "execution_count": 53,
   "metadata": {},
   "outputs": [],
   "source": [
    "param = {\n",
    "    'alpha':[.00001, 0.0001,0.001, 0.01],\n",
    "    'fit_intercept':[True,False],\n",
    "    'normalize':[True,False],\n",
    "    'positive':[True,False],\n",
    "    'selection':['cyclic','random'],\n",
    "    }"
   ]
  },
  {
   "cell_type": "code",
   "execution_count": 54,
   "metadata": {},
   "outputs": [
    {
     "name": "stdout",
     "output_type": "stream",
     "text": [
      "Best Score: -0.2854357305496786\n",
      "Best Hyperparameters: {'alpha': 1e-05, 'fit_intercept': True, 'normalize': False, 'positive': False, 'selection': 'cyclic'}\n"
     ]
    }
   ],
   "source": [
    "# define search\n",
    "search = GridSearchCV(lasso_model, param, scoring='neg_mean_absolute_error', n_jobs=-1, cv=cv)\n",
    "\n",
    "# execute search\n",
    "result = search.fit(X_sc, y_over)\n",
    "\n",
    "# summarize result\n",
    "print('Best Score: %s' % result.best_score_)\n",
    "print('Best Hyperparameters: %s' % result.best_params_)"
   ]
  },
  {
   "cell_type": "code",
   "execution_count": 55,
   "metadata": {},
   "outputs": [],
   "source": [
    "lasso_model = Lasso(alpha=1e-05,fit_intercept= True, normalize = True, positive= False, selection = 'cyclic')"
   ]
  },
  {
   "cell_type": "code",
   "execution_count": 56,
   "metadata": {},
   "outputs": [],
   "source": [
    "X_over = X_over.drop('scores',1)\n",
    "X_over = X_over.drop('anomaly',1)"
   ]
  },
  {
   "cell_type": "code",
   "execution_count": 57,
   "metadata": {},
   "outputs": [
    {
     "data": {
      "text/html": [
       "<div>\n",
       "<style scoped>\n",
       "    .dataframe tbody tr th:only-of-type {\n",
       "        vertical-align: middle;\n",
       "    }\n",
       "\n",
       "    .dataframe tbody tr th {\n",
       "        vertical-align: top;\n",
       "    }\n",
       "\n",
       "    .dataframe thead th {\n",
       "        text-align: right;\n",
       "    }\n",
       "</style>\n",
       "<table border=\"1\" class=\"dataframe\">\n",
       "  <thead>\n",
       "    <tr style=\"text-align: right;\">\n",
       "      <th></th>\n",
       "      <th>Feature Name</th>\n",
       "      <th>Alpha = 0.000010</th>\n",
       "      <th>Alpha = 0.500000</th>\n",
       "      <th>Alpha = 10.000000</th>\n",
       "    </tr>\n",
       "  </thead>\n",
       "  <tbody>\n",
       "    <tr>\n",
       "      <th>0</th>\n",
       "      <td>age</td>\n",
       "      <td>-0.011924</td>\n",
       "      <td>-0.0</td>\n",
       "      <td>-0.0</td>\n",
       "    </tr>\n",
       "    <tr>\n",
       "      <th>1</th>\n",
       "      <td>sex</td>\n",
       "      <td>-0.184807</td>\n",
       "      <td>-0.0</td>\n",
       "      <td>-0.0</td>\n",
       "    </tr>\n",
       "    <tr>\n",
       "      <th>2</th>\n",
       "      <td>cp</td>\n",
       "      <td>0.119876</td>\n",
       "      <td>0.0</td>\n",
       "      <td>0.0</td>\n",
       "    </tr>\n",
       "    <tr>\n",
       "      <th>3</th>\n",
       "      <td>trestbps</td>\n",
       "      <td>-0.031154</td>\n",
       "      <td>-0.0</td>\n",
       "      <td>-0.0</td>\n",
       "    </tr>\n",
       "    <tr>\n",
       "      <th>4</th>\n",
       "      <td>chol</td>\n",
       "      <td>-0.014279</td>\n",
       "      <td>-0.0</td>\n",
       "      <td>-0.0</td>\n",
       "    </tr>\n",
       "    <tr>\n",
       "      <th>5</th>\n",
       "      <td>fbs</td>\n",
       "      <td>0.011065</td>\n",
       "      <td>-0.0</td>\n",
       "      <td>-0.0</td>\n",
       "    </tr>\n",
       "    <tr>\n",
       "      <th>6</th>\n",
       "      <td>restecg</td>\n",
       "      <td>0.044118</td>\n",
       "      <td>0.0</td>\n",
       "      <td>0.0</td>\n",
       "    </tr>\n",
       "    <tr>\n",
       "      <th>7</th>\n",
       "      <td>thalach</td>\n",
       "      <td>0.056524</td>\n",
       "      <td>0.0</td>\n",
       "      <td>0.0</td>\n",
       "    </tr>\n",
       "    <tr>\n",
       "      <th>8</th>\n",
       "      <td>exang</td>\n",
       "      <td>-0.133841</td>\n",
       "      <td>-0.0</td>\n",
       "      <td>-0.0</td>\n",
       "    </tr>\n",
       "    <tr>\n",
       "      <th>9</th>\n",
       "      <td>oldpeak</td>\n",
       "      <td>-0.056400</td>\n",
       "      <td>-0.0</td>\n",
       "      <td>-0.0</td>\n",
       "    </tr>\n",
       "    <tr>\n",
       "      <th>10</th>\n",
       "      <td>slope</td>\n",
       "      <td>0.082333</td>\n",
       "      <td>0.0</td>\n",
       "      <td>0.0</td>\n",
       "    </tr>\n",
       "    <tr>\n",
       "      <th>11</th>\n",
       "      <td>ca</td>\n",
       "      <td>-0.111946</td>\n",
       "      <td>-0.0</td>\n",
       "      <td>-0.0</td>\n",
       "    </tr>\n",
       "    <tr>\n",
       "      <th>12</th>\n",
       "      <td>thal</td>\n",
       "      <td>-0.114631</td>\n",
       "      <td>-0.0</td>\n",
       "      <td>-0.0</td>\n",
       "    </tr>\n",
       "  </tbody>\n",
       "</table>\n",
       "</div>"
      ],
      "text/plain": [
       "   Feature Name  Alpha = 0.000010  Alpha = 0.500000  Alpha = 10.000000\n",
       "0           age         -0.011924              -0.0               -0.0\n",
       "1           sex         -0.184807              -0.0               -0.0\n",
       "2            cp          0.119876               0.0                0.0\n",
       "3      trestbps         -0.031154              -0.0               -0.0\n",
       "4          chol         -0.014279              -0.0               -0.0\n",
       "5           fbs          0.011065              -0.0               -0.0\n",
       "6       restecg          0.044118               0.0                0.0\n",
       "7       thalach          0.056524               0.0                0.0\n",
       "8         exang         -0.133841              -0.0               -0.0\n",
       "9       oldpeak         -0.056400              -0.0               -0.0\n",
       "10        slope          0.082333               0.0                0.0\n",
       "11           ca         -0.111946              -0.0               -0.0\n",
       "12         thal         -0.114631              -0.0               -0.0"
      ]
     },
     "execution_count": 57,
     "metadata": {},
     "output_type": "execute_result"
    }
   ],
   "source": [
    "alphas = [1e-05, .5, 10]\n",
    "# Create an empty data frame\n",
    "df = pd.DataFrame()\n",
    "    \n",
    "    # Create a column of feature names\n",
    "df['Feature Name'] = hd_df.columns[0:13]\n",
    "    \n",
    "    # For each alpha value in the list of alpha values,\n",
    "for alpha in alphas:\n",
    "    # Create a lasso regression with that alpha value,\n",
    "        lasso = Lasso(alpha=alpha)\n",
    "        \n",
    "        # Fit the lasso regression\n",
    "        lasso.fit(X_over, y_over)\n",
    "        \n",
    "        # Create a column name for that alpha value\n",
    "        column_name = 'Alpha = %f' % alpha\n",
    "\n",
    "        # Create a column of coefficient values\n",
    "        df[column_name] = lasso.coef_\n",
    "\n",
    "df"
   ]
  },
  {
   "cell_type": "code",
   "execution_count": 58,
   "metadata": {},
   "outputs": [],
   "source": [
    "X_train,X_test,Y_train,Y_test = train_test_split(X_over,y_over,test_size=0.20,random_state=0)"
   ]
  },
  {
   "cell_type": "code",
   "execution_count": 59,
   "metadata": {},
   "outputs": [],
   "source": [
    "max_accuracy = 0\n",
    "for x in range(2000):\n",
    "    rf = RandomForestClassifier(random_state=x)\n",
    "    rf.fit(X_train,Y_train)\n",
    "    Y_pred_rf = rf.predict(X_test)\n",
    "    current_accuracy = round(accuracy_score(Y_pred_rf,Y_test)*100,2)\n",
    "    if(current_accuracy>max_accuracy):\n",
    "        max_accuracy = current_accuracy\n",
    "        best_x = x\n",
    "rf = RandomForestClassifier(random_state=best_x)\n",
    "rf.fit(X_train,Y_train)\n",
    "Y_pred_rf = rf.predict(X_test)"
   ]
  },
  {
   "cell_type": "code",
   "execution_count": 60,
   "metadata": {},
   "outputs": [
    {
     "name": "stdout",
     "output_type": "stream",
     "text": [
      "Prediction Vector: \n",
      " [1 0 0 0 0 0 0 1 1 0 1 1 0 0 1 1 1 1 1 0 0 1 1 0 0 0 0 0 0 1 0 1 1 0 0 1 1\n",
      " 1 1 0 1 0 1 1 1 0 0 1 1 0 1 1 0 0 0 1 1 0 1 0 0 1 1 1 0 1]\n",
      "\n",
      " Accuracy: \n",
      " 89.39393939393939\n",
      "\n",
      " Precision of event Happening: \n",
      " 88.23529411764706\n",
      "\n",
      " Recall of event Happening: \n",
      " 90.9090909090909\n",
      "\n",
      " AUC: \n",
      " 0.8939393939393939\n",
      "\n",
      " F-Score:\n",
      " 0.8955223880597014\n",
      "\n",
      " Confusion Matrix: \n",
      " [[29  4]\n",
      " [ 3 30]]\n"
     ]
    },
    {
     "data": {
      "text/plain": [
       "{'accuracy': 89.39393939393939,\n",
       " 'precision': 88.23529411764706,\n",
       " 'recall': 90.9090909090909,\n",
       " 'auc_val': 0.8939393939393939,\n",
       " 'f_score': 0.8955223880597014,\n",
       " 'model_obj': RandomForestClassifier(random_state=38)}"
      ]
     },
     "execution_count": 60,
     "metadata": {},
     "output_type": "execute_result"
    }
   ],
   "source": [
    "validationmetrics(rf, X_test, Y_test, verbose=True)"
   ]
  },
  {
   "cell_type": "markdown",
   "metadata": {},
   "source": [
    "KNN"
   ]
  },
  {
   "cell_type": "code",
   "execution_count": 61,
   "metadata": {},
   "outputs": [
    {
     "name": "stdout",
     "output_type": "stream",
     "text": [
      "Prediction Vector: \n",
      " [1 0 0 0 0 0 0 1 1 0 1 0 1 0 1 1 1 1 1 0 0 1 1 0 0 0 0 0 0 1 0 1 1 0 0 1 1\n",
      " 1 1 0 1 0 1 1 1 0 0 1 1 0 1 1 0 1 0 1 1 0 1 0 1 1 1 1 0 1]\n",
      "\n",
      " Accuracy: \n",
      " 89.39393939393939\n",
      "\n",
      " Precision of event Happening: \n",
      " 86.11111111111111\n",
      "\n",
      " Recall of event Happening: \n",
      " 93.93939393939394\n",
      "\n",
      " AUC: \n",
      " 0.893939393939394\n",
      "\n",
      " F-Score:\n",
      " 0.8985507246376813\n",
      "\n",
      " Confusion Matrix: \n",
      " [[28  5]\n",
      " [ 2 31]]\n"
     ]
    },
    {
     "data": {
      "text/plain": [
       "{'accuracy': 89.39393939393939,\n",
       " 'precision': 86.11111111111111,\n",
       " 'recall': 93.93939393939394,\n",
       " 'auc_val': 0.893939393939394,\n",
       " 'f_score': 0.8985507246376813,\n",
       " 'model_obj': KNeighborsClassifier()}"
      ]
     },
     "execution_count": 61,
     "metadata": {},
     "output_type": "execute_result"
    }
   ],
   "source": [
    "knn = KNeighborsClassifier()\n",
    "knn.fit(X_train, Y_train)\n",
    "validationmetrics(knn, X_test, Y_test, verbose=True)"
   ]
  },
  {
   "cell_type": "markdown",
   "metadata": {},
   "source": [
    "Logistic Regression"
   ]
  },
  {
   "cell_type": "code",
   "execution_count": 62,
   "metadata": {},
   "outputs": [
    {
     "name": "stdout",
     "output_type": "stream",
     "text": [
      "Prediction Vector: \n",
      " [1 0 0 0 0 0 0 1 1 0 1 1 1 0 1 1 1 0 1 0 0 1 1 0 0 0 0 0 0 1 0 1 1 0 0 1 1\n",
      " 1 1 0 1 0 1 1 1 0 0 1 1 1 1 1 1 1 0 1 1 0 1 0 1 0 0 1 0 1]\n",
      "\n",
      " Accuracy: \n",
      " 83.33333333333334\n",
      "\n",
      " Precision of event Happening: \n",
      " 80.55555555555556\n",
      "\n",
      " Recall of event Happening: \n",
      " 87.87878787878788\n",
      "\n",
      " AUC: \n",
      " 0.8333333333333334\n",
      "\n",
      " F-Score:\n",
      " 0.8405797101449276\n",
      "\n",
      " Confusion Matrix: \n",
      " [[26  7]\n",
      " [ 4 29]]\n"
     ]
    },
    {
     "data": {
      "text/plain": [
       "{'accuracy': 83.33333333333334,\n",
       " 'precision': 80.55555555555556,\n",
       " 'recall': 87.87878787878788,\n",
       " 'auc_val': 0.8333333333333334,\n",
       " 'f_score': 0.8405797101449276,\n",
       " 'model_obj': LogisticRegression()}"
      ]
     },
     "execution_count": 62,
     "metadata": {},
     "output_type": "execute_result"
    }
   ],
   "source": [
    "Lr = LogisticRegression( solver='lbfgs')\n",
    "Lr.fit(X_train,Y_train)\n",
    "validationmetrics(Lr, X_test, Y_test, verbose=True)"
   ]
  },
  {
   "cell_type": "markdown",
   "metadata": {},
   "source": [
    "SVM"
   ]
  },
  {
   "cell_type": "code",
   "execution_count": 63,
   "metadata": {},
   "outputs": [
    {
     "name": "stdout",
     "output_type": "stream",
     "text": [
      "Prediction Vector: \n",
      " [1 0 0 0 0 0 1 1 1 0 1 1 1 0 1 1 1 1 1 0 0 1 1 0 0 0 0 0 0 1 0 1 1 0 0 1 1\n",
      " 1 1 0 1 0 1 1 1 0 0 1 1 1 1 1 1 1 0 1 1 0 1 0 1 1 0 1 0 1]\n",
      "\n",
      " Accuracy: \n",
      " 84.84848484848484\n",
      "\n",
      " Precision of event Happening: \n",
      " 79.48717948717949\n",
      "\n",
      " Recall of event Happening: \n",
      " 93.93939393939394\n",
      "\n",
      " AUC: \n",
      " 0.8484848484848485\n",
      "\n",
      " F-Score:\n",
      " 0.8611111111111112\n",
      "\n",
      " Confusion Matrix: \n",
      " [[25  8]\n",
      " [ 2 31]]\n"
     ]
    },
    {
     "data": {
      "text/plain": [
       "{'accuracy': 84.84848484848484,\n",
       " 'precision': 79.48717948717949,\n",
       " 'recall': 93.93939393939394,\n",
       " 'auc_val': 0.8484848484848485,\n",
       " 'f_score': 0.8611111111111112,\n",
       " 'model_obj': SVC(kernel='linear')}"
      ]
     },
     "execution_count": 63,
     "metadata": {},
     "output_type": "execute_result"
    }
   ],
   "source": [
    "from sklearn import svm\n",
    "\n",
    "sv = svm.SVC(kernel='linear')\n",
    "sv.fit(X_train, Y_train)\n",
    "validationmetrics(sv, X_test, Y_test, verbose=True)"
   ]
  },
  {
   "cell_type": "markdown",
   "metadata": {},
   "source": [
    "XGBoost"
   ]
  },
  {
   "cell_type": "code",
   "execution_count": 64,
   "metadata": {},
   "outputs": [
    {
     "name": "stdout",
     "output_type": "stream",
     "text": [
      "Prediction Vector: \n",
      " [0 0 0 0 0 0 0 1 1 0 1 1 0 0 1 1 1 1 1 0 0 1 1 0 0 0 0 0 0 1 1 1 1 0 0 1 0\n",
      " 1 1 0 1 0 1 1 1 0 0 1 1 0 1 1 0 0 0 1 1 0 0 0 0 1 1 1 0 1]\n",
      "\n",
      " Accuracy: \n",
      " 86.36363636363636\n",
      "\n",
      " Precision of event Happening: \n",
      " 87.5\n",
      "\n",
      " Recall of event Happening: \n",
      " 84.84848484848484\n",
      "\n",
      " AUC: \n",
      " 0.8636363636363638\n",
      "\n",
      " F-Score:\n",
      " 0.8615384615384615\n",
      "\n",
      " Confusion Matrix: \n",
      " [[29  4]\n",
      " [ 5 28]]\n"
     ]
    },
    {
     "data": {
      "text/plain": [
       "{'accuracy': 86.36363636363636,\n",
       " 'precision': 87.5,\n",
       " 'recall': 84.84848484848484,\n",
       " 'auc_val': 0.8636363636363638,\n",
       " 'f_score': 0.8615384615384615,\n",
       " 'model_obj': XGBClassifier(base_score=0.5, booster='gbtree', colsample_bylevel=1,\n",
       "               colsample_bynode=1, colsample_bytree=1, enable_categorical=False,\n",
       "               eval_metric='logloss', gamma=0, gpu_id=-1, importance_type=None,\n",
       "               interaction_constraints='', learning_rate=0.2, max_delta_step=0,\n",
       "               max_depth=6, min_child_weight=1, missing=nan,\n",
       "               monotone_constraints='()', n_estimators=100, n_jobs=4,\n",
       "               num_parallel_tree=1, predictor='auto', random_state=42,\n",
       "               reg_alpha=0, reg_lambda=1, scale_pos_weight=1, subsample=1,\n",
       "               tree_method='exact', validate_parameters=1, verbosity=None)}"
      ]
     },
     "execution_count": 64,
     "metadata": {},
     "output_type": "execute_result"
    }
   ],
   "source": [
    "import xgboost as xgb\n",
    "\n",
    "xgb_model = xgb.XGBClassifier(eval_metric=\"logloss\", random_state=42, learning_rate=0.2)\n",
    "xgb_model.fit(X_train, Y_train)\n",
    "validationmetrics(xgb_model, X_test, Y_test, verbose=True)"
   ]
  },
  {
   "cell_type": "markdown",
   "metadata": {},
   "source": [
    "Adaboost"
   ]
  },
  {
   "cell_type": "code",
   "execution_count": 65,
   "metadata": {},
   "outputs": [],
   "source": [
    "def AdaBoost(trainX, testX, trainY, testY, verbose=True, clf=None):\n",
    "    if not clf:\n",
    "        clf = AdaBoostClassifier(n_estimators=50, random_state=42, learning_rate=0.1)\n",
    "    clf.fit(trainX , trainY)\n",
    "    return validationmetrics(clf,testX,testY,verbose=verbose)"
   ]
  },
  {
   "cell_type": "code",
   "execution_count": 66,
   "metadata": {},
   "outputs": [
    {
     "name": "stdout",
     "output_type": "stream",
     "text": [
      "Prediction Vector: \n",
      " [1 0 0 0 0 0 0 1 1 0 1 1 1 0 1 1 1 1 1 0 0 1 1 0 0 0 0 0 0 1 1 1 0 0 0 1 1\n",
      " 1 1 0 1 0 1 1 1 0 0 1 1 0 1 1 1 1 0 1 1 0 1 0 1 1 1 1 0 1]\n",
      "\n",
      " Accuracy: \n",
      " 83.33333333333334\n",
      "\n",
      " Precision of event Happening: \n",
      " 78.94736842105263\n",
      "\n",
      " Recall of event Happening: \n",
      " 90.9090909090909\n",
      "\n",
      " AUC: \n",
      " 0.8333333333333334\n",
      "\n",
      " F-Score:\n",
      " 0.8450704225352113\n",
      "\n",
      " Confusion Matrix: \n",
      " [[25  8]\n",
      " [ 3 30]]\n"
     ]
    },
    {
     "data": {
      "text/plain": [
       "{'accuracy': 83.33333333333334,\n",
       " 'precision': 78.94736842105263,\n",
       " 'recall': 90.9090909090909,\n",
       " 'auc_val': 0.8333333333333334,\n",
       " 'f_score': 0.8450704225352113,\n",
       " 'model_obj': AdaBoostClassifier(learning_rate=0.1, random_state=42)}"
      ]
     },
     "execution_count": 66,
     "metadata": {},
     "output_type": "execute_result"
    }
   ],
   "source": [
    "AdaBoost(X_train, X_test, Y_train, Y_test, verbose=True, clf=None)"
   ]
  },
  {
   "cell_type": "markdown",
   "metadata": {},
   "source": [
    "Gradient Boosting"
   ]
  },
  {
   "cell_type": "code",
   "execution_count": 67,
   "metadata": {},
   "outputs": [],
   "source": [
    "from sklearn.ensemble import GradientBoostingClassifier\n",
    "def GradBoost(trainX, testX, trainY, testY, verbose=True, clf=None):\n",
    "    if not clf:\n",
    "        clf = GradientBoostingClassifier(n_estimators=60, random_state=0)\n",
    "    clf.fit(trainX , trainY)\n",
    "    return validationmetrics(clf,testX,testY,verbose=verbose)"
   ]
  },
  {
   "cell_type": "code",
   "execution_count": 68,
   "metadata": {},
   "outputs": [
    {
     "name": "stdout",
     "output_type": "stream",
     "text": [
      "Prediction Vector: \n",
      " [0 0 0 0 0 0 0 1 1 0 1 1 1 0 1 1 1 1 1 0 0 1 1 0 0 0 0 0 0 1 1 1 0 0 0 1 1\n",
      " 1 1 0 1 0 1 1 1 0 0 1 1 0 1 1 0 0 0 1 1 0 1 0 0 1 1 1 0 1]\n",
      "\n",
      " Accuracy: \n",
      " 83.33333333333334\n",
      "\n",
      " Precision of event Happening: \n",
      " 82.35294117647058\n",
      "\n",
      " Recall of event Happening: \n",
      " 84.84848484848484\n",
      "\n",
      " AUC: \n",
      " 0.8333333333333334\n",
      "\n",
      " F-Score:\n",
      " 0.8358208955223881\n",
      "\n",
      " Confusion Matrix: \n",
      " [[27  6]\n",
      " [ 5 28]]\n"
     ]
    },
    {
     "data": {
      "text/plain": [
       "{'accuracy': 83.33333333333334,\n",
       " 'precision': 82.35294117647058,\n",
       " 'recall': 84.84848484848484,\n",
       " 'auc_val': 0.8333333333333334,\n",
       " 'f_score': 0.8358208955223881,\n",
       " 'model_obj': GradientBoostingClassifier(n_estimators=60, random_state=0)}"
      ]
     },
     "execution_count": 68,
     "metadata": {},
     "output_type": "execute_result"
    }
   ],
   "source": [
    "GradBoost(X_train, X_test, Y_train, Y_test, verbose=True, clf=None)"
   ]
  },
  {
   "cell_type": "markdown",
   "metadata": {},
   "source": [
    "Decision Tree"
   ]
  },
  {
   "cell_type": "code",
   "execution_count": 69,
   "metadata": {},
   "outputs": [
    {
     "name": "stdout",
     "output_type": "stream",
     "text": [
      "Prediction Vector: \n",
      " [1 0 0 0 0 0 0 1 1 0 1 1 0 0 1 0 1 1 1 0 0 1 1 0 0 0 0 0 0 1 1 1 0 0 0 1 0\n",
      " 0 1 0 1 1 1 1 1 0 0 1 1 1 1 1 0 0 0 1 1 0 1 0 1 1 1 1 1 1]\n",
      "\n",
      " Accuracy: \n",
      " 84.84848484848484\n",
      "\n",
      " Precision of event Happening: \n",
      " 82.85714285714286\n",
      "\n",
      " Recall of event Happening: \n",
      " 87.87878787878788\n",
      "\n",
      " AUC: \n",
      " 0.8484848484848485\n",
      "\n",
      " F-Score:\n",
      " 0.8529411764705883\n",
      "\n",
      " Confusion Matrix: \n",
      " [[27  6]\n",
      " [ 4 29]]\n"
     ]
    },
    {
     "data": {
      "text/plain": [
       "{'accuracy': 84.84848484848484,\n",
       " 'precision': 82.85714285714286,\n",
       " 'recall': 87.87878787878788,\n",
       " 'auc_val': 0.8484848484848485,\n",
       " 'f_score': 0.8529411764705883,\n",
       " 'model_obj': DecisionTreeClassifier()}"
      ]
     },
     "execution_count": 69,
     "metadata": {},
     "output_type": "execute_result"
    }
   ],
   "source": [
    "DecisionTree(X_train, X_test, Y_train, Y_test, verbose=True, clf=None)"
   ]
  },
  {
   "cell_type": "markdown",
   "metadata": {},
   "source": [
    "NaiveBayes Classifier"
   ]
  },
  {
   "cell_type": "code",
   "execution_count": 70,
   "metadata": {},
   "outputs": [
    {
     "name": "stdout",
     "output_type": "stream",
     "text": [
      "Prediction Vector: \n",
      " [1 0 0 1 0 0 1 1 1 0 1 1 1 0 1 1 1 0 1 0 0 1 1 0 0 0 0 0 0 1 0 1 0 0 0 1 1\n",
      " 1 1 0 1 0 1 1 1 0 0 1 1 0 1 1 0 1 0 1 1 0 1 0 1 0 0 1 0 1]\n",
      "\n",
      " Accuracy: \n",
      " 81.81818181818183\n",
      "\n",
      " Precision of event Happening: \n",
      " 80.0\n",
      "\n",
      " Recall of event Happening: \n",
      " 84.84848484848484\n",
      "\n",
      " AUC: \n",
      " 0.8181818181818182\n",
      "\n",
      " F-Score:\n",
      " 0.823529411764706\n",
      "\n",
      " Confusion Matrix: \n",
      " [[26  7]\n",
      " [ 5 28]]\n"
     ]
    },
    {
     "data": {
      "text/plain": [
       "{'accuracy': 81.81818181818183,\n",
       " 'precision': 80.0,\n",
       " 'recall': 84.84848484848484,\n",
       " 'auc_val': 0.8181818181818182,\n",
       " 'f_score': 0.823529411764706,\n",
       " 'model_obj': GaussianNB()}"
      ]
     },
     "execution_count": 70,
     "metadata": {},
     "output_type": "execute_result"
    }
   ],
   "source": [
    "NaiveBayes(X_train, X_test, Y_train, Y_test, verbose=True, clf=None)"
   ]
  },
  {
   "cell_type": "markdown",
   "metadata": {},
   "source": [
    "Multilayer Perceptron"
   ]
  },
  {
   "cell_type": "code",
   "execution_count": 71,
   "metadata": {},
   "outputs": [
    {
     "name": "stdout",
     "output_type": "stream",
     "text": [
      "Prediction Vector: \n",
      " [1 0 0 1 0 0 1 0 1 0 1 1 0 0 0 1 1 0 1 0 0 1 1 0 0 1 0 0 0 1 0 0 1 0 0 1 0\n",
      " 1 1 0 0 0 1 1 1 0 0 1 1 0 1 1 1 1 0 0 1 0 0 0 0 0 0 1 1 1]\n",
      "\n",
      " Accuracy: \n",
      " 71.21212121212122\n",
      "\n",
      " Precision of event Happening: \n",
      " 73.33333333333333\n",
      "\n",
      " Recall of event Happening: \n",
      " 66.66666666666666\n",
      "\n",
      " AUC: \n",
      " 0.712121212121212\n",
      "\n",
      " F-Score:\n",
      " 0.6984126984126984\n",
      "\n",
      " Confusion Matrix: \n",
      " [[25  8]\n",
      " [11 22]]\n"
     ]
    },
    {
     "data": {
      "text/plain": [
       "{'accuracy': 71.21212121212122,\n",
       " 'precision': 73.33333333333333,\n",
       " 'recall': 66.66666666666666,\n",
       " 'auc_val': 0.712121212121212,\n",
       " 'f_score': 0.6984126984126984,\n",
       " 'model_obj': MLPClassifier(hidden_layer_sizes=5)}"
      ]
     },
     "execution_count": 71,
     "metadata": {},
     "output_type": "execute_result"
    }
   ],
   "source": [
    "MultiLayerPerceptron(X_train, X_test, Y_train, Y_test, verbose=True, clf=None)"
   ]
  },
  {
   "cell_type": "markdown",
   "metadata": {},
   "source": [
    "All Models scores"
   ]
  },
  {
   "cell_type": "code",
   "execution_count": 72,
   "metadata": {},
   "outputs": [
    {
     "name": "stdout",
     "output_type": "stream",
     "text": [
      "The accuracy score achieved using LogisticRegression is: 84 %\n",
      "The accuracy score achieved using SupportVectorMachine is: 89.3 %\n",
      "The accuracy score achieved using NaiveBayes is: 78.7 %\n",
      "The accuracy score achieved using RandomForest is: 90.9 %\n",
      "The accuracy score achieved using DecisionTree is: 75.7 %\n",
      "The accuracy score achieved using XGBoost is: 84.4 %\n",
      "The accuracy score achieved using AdaBoost is: 84.8 %\n",
      "The accuracy score achieved using GradBoost is: 84.8 %\n",
      "The accuracy score achieved using MultilayerPerceptron is: 75.7 %\n"
     ]
    }
   ],
   "source": [
    "score_lr = 84\n",
    "score_svm = 89.3\n",
    "score_naiv = 78.7\n",
    "score_rf =  90.9\n",
    "score_xgb = 84.4\n",
    "score_adb = 84.8\n",
    "score_gdb = 84.8\n",
    "score_dt = 75.7\n",
    "score_mt = 75.7\n",
    "scores = [score_lr,score_svm,score_naiv, score_rf,score_dt,score_xgb, score_adb, score_gdb, score_mt]\n",
    "algorithms = [\"LogisticRegression\",\"SupportVectorMachine\",\"NaiveBayes\",\"RandomForest\",\"DecisionTree\", \"XGBoost\",\"AdaBoost\", \"GradBoost\", \"MultilayerPerceptron\"]    \n",
    "\n",
    "for i in range(len(algorithms)):\n",
    "    print(\"The accuracy score achieved using \"+algorithms[i]+\" is: \"+str(scores[i])+\" %\")"
   ]
  },
  {
   "cell_type": "code",
   "execution_count": 73,
   "metadata": {},
   "outputs": [
    {
     "data": {
      "text/plain": [
       "<AxesSubplot:xlabel='Algorithms', ylabel='Accuracy score'>"
      ]
     },
     "execution_count": 73,
     "metadata": {},
     "output_type": "execute_result"
    },
    {
     "data": {
      "image/png": "[encoded data removed]",
      "text/plain": [
       "<Figure size 1224x576 with 1 Axes>"
      ]
     },
     "metadata": {},
     "output_type": "display_data"
    }
   ],
   "source": [
    "sns.set(rc={'figure.figsize':(17,8)})\n",
    "plt.xlabel(\"Algorithms\")\n",
    "plt.ylabel(\"Accuracy score\")\n",
    "\n",
    "sns.barplot(algorithms,scores)"
   ]
  },
  {
   "cell_type": "markdown",
   "metadata": {},
   "source": [
    "## Deep Learning"
   ]
  },
  {
   "cell_type": "code",
   "execution_count": 1,
   "metadata": {},
   "outputs": [],
   "source": [
    "import pandas as pd\n",
    "import numpy as np\n",
    "import sklearn\n",
    "import matplotlib\n",
    "import keras\n",
    "import matplotlib.pyplot as plt"
   ]
  },
  {
   "cell_type": "code",
   "execution_count": 2,
   "metadata": {},
   "outputs": [],
   "source": [
    "dataset = pd.read_csv(\"heart.csv\")"
   ]
  },
  {
   "cell_type": "code",
   "execution_count": 3,
   "metadata": {},
   "outputs": [
    {
     "data": {
      "text/plain": [
       "count    1025.000000\n",
       "mean        0.513171\n",
       "std         0.500070\n",
       "min         0.000000\n",
       "25%         0.000000\n",
       "50%         1.000000\n",
       "75%         1.000000\n",
       "max         1.000000\n",
       "Name: target, dtype: float64"
      ]
     },
     "execution_count": 3,
     "metadata": {},
     "output_type": "execute_result"
    }
   ],
   "source": [
    "dataset[\"target\"].describe()"
   ]
  },
  {
   "cell_type": "code",
   "execution_count": 4,
   "metadata": {},
   "outputs": [
    {
     "data": {
      "text/plain": [
       "array([0, 1], dtype=int64)"
      ]
     },
     "execution_count": 4,
     "metadata": {},
     "output_type": "execute_result"
    }
   ],
   "source": [
    "dataset[\"target\"].unique()"
   ]
  },
  {
   "cell_type": "code",
   "execution_count": 5,
   "metadata": {},
   "outputs": [],
   "source": [
    "from sklearn.model_selection import train_test_split\n",
    "\n",
    "predictors = dataset.drop(\"target\",axis=1)\n",
    "target = dataset[\"target\"]\n",
    "\n",
    "X_train,X_test,Y_train,Y_test = train_test_split(predictors,target,test_size=0.20,random_state=0)"
   ]
  },
  {
   "cell_type": "code",
   "execution_count": 6,
   "metadata": {},
   "outputs": [],
   "source": [
    "from sklearn.metrics import accuracy_score"
   ]
  },
  {
   "cell_type": "markdown",
   "metadata": {},
   "source": [
    "## ANN"
   ]
  },
  {
   "cell_type": "code",
   "execution_count": 7,
   "metadata": {},
   "outputs": [],
   "source": [
    "from keras.models import Sequential\n",
    "from keras.layers import Dense\n",
    "model = Sequential()\n",
    "model.add(Dense(11,activation='relu',input_dim=13))\n",
    "model.add(Dense(1,activation='sigmoid'))\n",
    "\n",
    "model.compile(loss='binary_crossentropy',optimizer='adam',metrics=['accuracy'])\n"
   ]
  },
  {
   "cell_type": "code",
   "execution_count": 8,
   "metadata": {},
   "outputs": [
    {
     "name": "stdout",
     "output_type": "stream",
     "text": [
      "Epoch 1/300\n",
      "26/26 [==============================] - 1s 2ms/step - loss: 29.0442 - accuracy: 0.4939\n",
      "Epoch 2/300\n",
      "26/26 [==============================] - 0s 4ms/step - loss: 8.0147 - accuracy: 0.5573\n",
      "Epoch 3/300\n",
      "26/26 [==============================] - 0s 3ms/step - loss: 3.2548 - accuracy: 0.6159\n",
      "Epoch 4/300\n",
      "26/26 [==============================] - 0s 4ms/step - loss: 2.0855 - accuracy: 0.6537\n",
      "Epoch 5/300\n",
      "26/26 [==============================] - 0s 3ms/step - loss: 1.6364 - accuracy: 0.6549\n",
      "Epoch 6/300\n",
      "26/26 [==============================] - 0s 4ms/step - loss: 1.3498 - accuracy: 0.6537\n",
      "Epoch 7/300\n",
      "26/26 [==============================] - 0s 3ms/step - loss: 1.2289 - accuracy: 0.6512\n",
      "Epoch 8/300\n",
      "26/26 [==============================] - 0s 3ms/step - loss: 1.1852 - accuracy: 0.6463\n",
      "Epoch 9/300\n",
      "26/26 [==============================] - 0s 4ms/step - loss: 1.0547 - accuracy: 0.6561\n",
      "Epoch 10/300\n",
      "26/26 [==============================] - 0s 4ms/step - loss: 0.9949 - accuracy: 0.6732\n",
      "Epoch 11/300\n",
      "26/26 [==============================] - 0s 3ms/step - loss: 0.9353 - accuracy: 0.6683\n",
      "Epoch 12/300\n",
      "26/26 [==============================] - 0s 5ms/step - loss: 0.9221 - accuracy: 0.6817\n",
      "Epoch 13/300\n",
      "26/26 [==============================] - 0s 4ms/step - loss: 0.8466 - accuracy: 0.6890\n",
      "Epoch 14/300\n",
      "26/26 [==============================] - 0s 4ms/step - loss: 0.7979 - accuracy: 0.6902\n",
      "Epoch 15/300\n",
      "26/26 [==============================] - 0s 3ms/step - loss: 0.7739 - accuracy: 0.7049\n",
      "Epoch 16/300\n",
      "26/26 [==============================] - 0s 3ms/step - loss: 0.7598 - accuracy: 0.6951\n",
      "Epoch 17/300\n",
      "26/26 [==============================] - 0s 4ms/step - loss: 0.6713 - accuracy: 0.7256\n",
      "Epoch 18/300\n",
      "26/26 [==============================] - 0s 5ms/step - loss: 0.6693 - accuracy: 0.7573\n",
      "Epoch 19/300\n",
      "26/26 [==============================] - 0s 3ms/step - loss: 0.6190 - accuracy: 0.7244\n",
      "Epoch 20/300\n",
      "26/26 [==============================] - 0s 5ms/step - loss: 0.5915 - accuracy: 0.7524\n",
      "Epoch 21/300\n",
      "26/26 [==============================] - 0s 3ms/step - loss: 0.5712 - accuracy: 0.7524\n",
      "Epoch 22/300\n",
      "26/26 [==============================] - 0s 3ms/step - loss: 0.5876 - accuracy: 0.7646\n",
      "Epoch 23/300\n",
      "26/26 [==============================] - 0s 4ms/step - loss: 0.5549 - accuracy: 0.7780\n",
      "Epoch 24/300\n",
      "26/26 [==============================] - 0s 4ms/step - loss: 0.5446 - accuracy: 0.7573\n",
      "Epoch 25/300\n",
      "26/26 [==============================] - 0s 3ms/step - loss: 0.5076 - accuracy: 0.7854\n",
      "Epoch 26/300\n",
      "26/26 [==============================] - 0s 3ms/step - loss: 0.5046 - accuracy: 0.7805\n",
      "Epoch 27/300\n",
      "26/26 [==============================] - 0s 3ms/step - loss: 0.4724 - accuracy: 0.8098\n",
      "Epoch 28/300\n",
      "26/26 [==============================] - 0s 4ms/step - loss: 0.4841 - accuracy: 0.8024\n",
      "Epoch 29/300\n",
      "26/26 [==============================] - 0s 5ms/step - loss: 0.4529 - accuracy: 0.8024\n",
      "Epoch 30/300\n",
      "26/26 [==============================] - 0s 4ms/step - loss: 0.4776 - accuracy: 0.7988\n",
      "Epoch 31/300\n",
      "26/26 [==============================] - 0s 5ms/step - loss: 0.4398 - accuracy: 0.8183\n",
      "Epoch 32/300\n",
      "26/26 [==============================] - 0s 3ms/step - loss: 0.4524 - accuracy: 0.8000\n",
      "Epoch 33/300\n",
      "26/26 [==============================] - 0s 4ms/step - loss: 0.4251 - accuracy: 0.8171\n",
      "Epoch 34/300\n",
      "26/26 [==============================] - 0s 5ms/step - loss: 0.4334 - accuracy: 0.8098\n",
      "Epoch 35/300\n",
      "26/26 [==============================] - 0s 3ms/step - loss: 0.4194 - accuracy: 0.8207\n",
      "Epoch 36/300\n",
      "26/26 [==============================] - 0s 4ms/step - loss: 0.4157 - accuracy: 0.8244\n",
      "Epoch 37/300\n",
      "26/26 [==============================] - 0s 4ms/step - loss: 0.4175 - accuracy: 0.8232\n",
      "Epoch 38/300\n",
      "26/26 [==============================] - 0s 3ms/step - loss: 0.4336 - accuracy: 0.8195\n",
      "Epoch 39/300\n",
      "26/26 [==============================] - 0s 3ms/step - loss: 0.4115 - accuracy: 0.8195\n",
      "Epoch 40/300\n",
      "26/26 [==============================] - 0s 4ms/step - loss: 0.4149 - accuracy: 0.8280\n",
      "Epoch 41/300\n",
      "26/26 [==============================] - 0s 3ms/step - loss: 0.4284 - accuracy: 0.8024\n",
      "Epoch 42/300\n",
      "26/26 [==============================] - 0s 3ms/step - loss: 0.4034 - accuracy: 0.8244\n",
      "Epoch 43/300\n",
      "26/26 [==============================] - 0s 7ms/step - loss: 0.4117 - accuracy: 0.8354\n",
      "Epoch 44/300\n",
      "26/26 [==============================] - 0s 3ms/step - loss: 0.4103 - accuracy: 0.8244\n",
      "Epoch 45/300\n",
      "26/26 [==============================] - 0s 3ms/step - loss: 0.4010 - accuracy: 0.8256\n",
      "Epoch 46/300\n",
      "26/26 [==============================] - 0s 3ms/step - loss: 0.3962 - accuracy: 0.8317\n",
      "Epoch 47/300\n",
      "26/26 [==============================] - 0s 3ms/step - loss: 0.3933 - accuracy: 0.8341\n",
      "Epoch 48/300\n",
      "26/26 [==============================] - 0s 4ms/step - loss: 0.3964 - accuracy: 0.8305\n",
      "Epoch 49/300\n",
      "26/26 [==============================] - 0s 3ms/step - loss: 0.4073 - accuracy: 0.8341\n",
      "Epoch 50/300\n",
      "26/26 [==============================] - 0s 4ms/step - loss: 0.3935 - accuracy: 0.8293\n",
      "Epoch 51/300\n",
      "26/26 [==============================] - 0s 4ms/step - loss: 0.3870 - accuracy: 0.8366\n",
      "Epoch 52/300\n",
      "26/26 [==============================] - 0s 4ms/step - loss: 0.3782 - accuracy: 0.8439\n",
      "Epoch 53/300\n",
      "26/26 [==============================] - 0s 3ms/step - loss: 0.4070 - accuracy: 0.8293\n",
      "Epoch 54/300\n",
      "26/26 [==============================] - 0s 4ms/step - loss: 0.4202 - accuracy: 0.8341\n",
      "Epoch 55/300\n",
      "26/26 [==============================] - 0s 3ms/step - loss: 0.4010 - accuracy: 0.8415\n",
      "Epoch 56/300\n",
      "26/26 [==============================] - 0s 5ms/step - loss: 0.4000 - accuracy: 0.8366\n",
      "Epoch 57/300\n",
      "26/26 [==============================] - 0s 3ms/step - loss: 0.3985 - accuracy: 0.8378\n",
      "Epoch 58/300\n",
      "26/26 [==============================] - 0s 2ms/step - loss: 0.4022 - accuracy: 0.8354\n",
      "Epoch 59/300\n",
      "26/26 [==============================] - 0s 3ms/step - loss: 0.3905 - accuracy: 0.8427\n",
      "Epoch 60/300\n",
      "26/26 [==============================] - 0s 2ms/step - loss: 0.4151 - accuracy: 0.8195\n",
      "Epoch 61/300\n",
      "26/26 [==============================] - 0s 1ms/step - loss: 0.4017 - accuracy: 0.8280\n",
      "Epoch 62/300\n",
      "26/26 [==============================] - 0s 2ms/step - loss: 0.3821 - accuracy: 0.8390\n",
      "Epoch 63/300\n",
      "26/26 [==============================] - 0s 3ms/step - loss: 0.4001 - accuracy: 0.8341\n",
      "Epoch 64/300\n",
      "26/26 [==============================] - 0s 2ms/step - loss: 0.3800 - accuracy: 0.8451\n",
      "Epoch 65/300\n",
      "26/26 [==============================] - 0s 2ms/step - loss: 0.3881 - accuracy: 0.8463\n",
      "Epoch 66/300\n",
      "26/26 [==============================] - 0s 2ms/step - loss: 0.4307 - accuracy: 0.8122\n",
      "Epoch 67/300\n",
      "26/26 [==============================] - 0s 2ms/step - loss: 0.4132 - accuracy: 0.8305\n",
      "Epoch 68/300\n",
      "26/26 [==============================] - 0s 1ms/step - loss: 0.3847 - accuracy: 0.8402\n",
      "Epoch 69/300\n",
      "26/26 [==============================] - 0s 1ms/step - loss: 0.3789 - accuracy: 0.8476\n",
      "Epoch 70/300\n",
      "26/26 [==============================] - 0s 1ms/step - loss: 0.3769 - accuracy: 0.8561\n",
      "Epoch 71/300\n",
      "26/26 [==============================] - 0s 1ms/step - loss: 0.3884 - accuracy: 0.8366\n",
      "Epoch 72/300\n",
      "26/26 [==============================] - 0s 2ms/step - loss: 0.3855 - accuracy: 0.8488\n",
      "Epoch 73/300\n",
      "26/26 [==============================] - 0s 2ms/step - loss: 0.3996 - accuracy: 0.8268\n",
      "Epoch 74/300\n",
      "26/26 [==============================] - 0s 2ms/step - loss: 0.3776 - accuracy: 0.8427\n",
      "Epoch 75/300\n",
      "26/26 [==============================] - 0s 2ms/step - loss: 0.3723 - accuracy: 0.8524\n",
      "Epoch 76/300\n",
      "26/26 [==============================] - 0s 2ms/step - loss: 0.3707 - accuracy: 0.8524\n",
      "Epoch 77/300\n",
      "26/26 [==============================] - 0s 2ms/step - loss: 0.3952 - accuracy: 0.8305\n",
      "Epoch 78/300\n",
      "26/26 [==============================] - 0s 2ms/step - loss: 0.3792 - accuracy: 0.8415\n",
      "Epoch 79/300\n",
      "26/26 [==============================] - 0s 2ms/step - loss: 0.3903 - accuracy: 0.8232\n",
      "Epoch 80/300\n",
      "26/26 [==============================] - 0s 1ms/step - loss: 0.3804 - accuracy: 0.8476\n",
      "Epoch 81/300\n",
      "26/26 [==============================] - 0s 2ms/step - loss: 0.4297 - accuracy: 0.8085\n",
      "Epoch 82/300\n",
      "26/26 [==============================] - 0s 2ms/step - loss: 0.4442 - accuracy: 0.8012\n",
      "Epoch 83/300\n"
     ]
    },
    {
     "name": "stdout",
     "output_type": "stream",
     "text": [
      "26/26 [==============================] - 0s 2ms/step - loss: 0.3975 - accuracy: 0.8341\n",
      "Epoch 84/300\n",
      "26/26 [==============================] - 0s 1ms/step - loss: 0.4005 - accuracy: 0.8378\n",
      "Epoch 85/300\n",
      "26/26 [==============================] - 0s 1ms/step - loss: 0.3876 - accuracy: 0.8280\n",
      "Epoch 86/300\n",
      "26/26 [==============================] - 0s 1ms/step - loss: 0.3976 - accuracy: 0.8268\n",
      "Epoch 87/300\n",
      "26/26 [==============================] - 0s 1ms/step - loss: 0.3873 - accuracy: 0.8512\n",
      "Epoch 88/300\n",
      "26/26 [==============================] - 0s 1ms/step - loss: 0.3767 - accuracy: 0.8378\n",
      "Epoch 89/300\n",
      "26/26 [==============================] - 0s 1ms/step - loss: 0.3692 - accuracy: 0.8549\n",
      "Epoch 90/300\n",
      "26/26 [==============================] - 0s 1ms/step - loss: 0.3803 - accuracy: 0.8451\n",
      "Epoch 91/300\n",
      "26/26 [==============================] - 0s 1ms/step - loss: 0.3758 - accuracy: 0.8378\n",
      "Epoch 92/300\n",
      "26/26 [==============================] - 0s 1ms/step - loss: 0.3900 - accuracy: 0.8341\n",
      "Epoch 93/300\n",
      "26/26 [==============================] - 0s 1ms/step - loss: 0.3921 - accuracy: 0.8268\n",
      "Epoch 94/300\n",
      "26/26 [==============================] - 0s 1ms/step - loss: 0.3857 - accuracy: 0.8463\n",
      "Epoch 95/300\n",
      "26/26 [==============================] - 0s 1ms/step - loss: 0.3846 - accuracy: 0.8305\n",
      "Epoch 96/300\n",
      "26/26 [==============================] - 0s 1ms/step - loss: 0.3712 - accuracy: 0.8427\n",
      "Epoch 97/300\n",
      "26/26 [==============================] - 0s 1ms/step - loss: 0.3822 - accuracy: 0.8317\n",
      "Epoch 98/300\n",
      "26/26 [==============================] - 0s 1ms/step - loss: 0.3868 - accuracy: 0.8220\n",
      "Epoch 99/300\n",
      "26/26 [==============================] - 0s 1ms/step - loss: 0.3768 - accuracy: 0.8500\n",
      "Epoch 100/300\n",
      "26/26 [==============================] - 0s 1ms/step - loss: 0.3912 - accuracy: 0.8329\n",
      "Epoch 101/300\n",
      "26/26 [==============================] - 0s 1ms/step - loss: 0.4441 - accuracy: 0.8098\n",
      "Epoch 102/300\n",
      "26/26 [==============================] - 0s 1ms/step - loss: 0.3933 - accuracy: 0.8305\n",
      "Epoch 103/300\n",
      "26/26 [==============================] - 0s 1ms/step - loss: 0.4031 - accuracy: 0.8293\n",
      "Epoch 104/300\n",
      "26/26 [==============================] - 0s 1ms/step - loss: 0.3840 - accuracy: 0.8427\n",
      "Epoch 105/300\n",
      "26/26 [==============================] - 0s 1ms/step - loss: 0.4083 - accuracy: 0.8171\n",
      "Epoch 106/300\n",
      "26/26 [==============================] - 0s 1ms/step - loss: 0.4217 - accuracy: 0.8146\n",
      "Epoch 107/300\n",
      "26/26 [==============================] - 0s 2ms/step - loss: 0.3651 - accuracy: 0.8500\n",
      "Epoch 108/300\n",
      "26/26 [==============================] - 0s 1ms/step - loss: 0.3662 - accuracy: 0.8561\n",
      "Epoch 109/300\n",
      "26/26 [==============================] - 0s 1ms/step - loss: 0.3842 - accuracy: 0.8390\n",
      "Epoch 110/300\n",
      "26/26 [==============================] - 0s 2ms/step - loss: 0.3782 - accuracy: 0.8378\n",
      "Epoch 111/300\n",
      "26/26 [==============================] - 0s 1ms/step - loss: 0.3873 - accuracy: 0.8390\n",
      "Epoch 112/300\n",
      "26/26 [==============================] - 0s 1ms/step - loss: 0.4150 - accuracy: 0.8232\n",
      "Epoch 113/300\n",
      "26/26 [==============================] - 0s 1ms/step - loss: 0.3997 - accuracy: 0.8293\n",
      "Epoch 114/300\n",
      "26/26 [==============================] - 0s 1ms/step - loss: 0.3848 - accuracy: 0.8366\n",
      "Epoch 115/300\n",
      "26/26 [==============================] - 0s 2ms/step - loss: 0.3902 - accuracy: 0.8439\n",
      "Epoch 116/300\n",
      "26/26 [==============================] - 0s 1ms/step - loss: 0.4040 - accuracy: 0.8366\n",
      "Epoch 117/300\n",
      "26/26 [==============================] - 0s 1ms/step - loss: 0.3804 - accuracy: 0.8439\n",
      "Epoch 118/300\n",
      "26/26 [==============================] - 0s 1ms/step - loss: 0.3713 - accuracy: 0.8512\n",
      "Epoch 119/300\n",
      "26/26 [==============================] - 0s 1ms/step - loss: 0.3857 - accuracy: 0.8415\n",
      "Epoch 120/300\n",
      "26/26 [==============================] - 0s 1ms/step - loss: 0.3907 - accuracy: 0.8305\n",
      "Epoch 121/300\n",
      "26/26 [==============================] - 0s 2ms/step - loss: 0.3858 - accuracy: 0.8317\n",
      "Epoch 122/300\n",
      "26/26 [==============================] - 0s 2ms/step - loss: 0.3738 - accuracy: 0.8512\n",
      "Epoch 123/300\n",
      "26/26 [==============================] - 0s 2ms/step - loss: 0.3746 - accuracy: 0.8329\n",
      "Epoch 124/300\n",
      "26/26 [==============================] - 0s 2ms/step - loss: 0.4033 - accuracy: 0.8220\n",
      "Epoch 125/300\n",
      "26/26 [==============================] - 0s 2ms/step - loss: 0.3764 - accuracy: 0.8329\n",
      "Epoch 126/300\n",
      "26/26 [==============================] - 0s 2ms/step - loss: 0.3963 - accuracy: 0.8305\n",
      "Epoch 127/300\n",
      "26/26 [==============================] - 0s 1ms/step - loss: 0.3800 - accuracy: 0.8476\n",
      "Epoch 128/300\n",
      "26/26 [==============================] - 0s 1ms/step - loss: 0.3796 - accuracy: 0.8354\n",
      "Epoch 129/300\n",
      "26/26 [==============================] - 0s 1ms/step - loss: 0.3796 - accuracy: 0.8378\n",
      "Epoch 130/300\n",
      "26/26 [==============================] - 0s 1ms/step - loss: 0.3831 - accuracy: 0.8415\n",
      "Epoch 131/300\n",
      "26/26 [==============================] - 0s 1ms/step - loss: 0.3893 - accuracy: 0.8427\n",
      "Epoch 132/300\n",
      "26/26 [==============================] - 0s 1ms/step - loss: 0.4434 - accuracy: 0.7963\n",
      "Epoch 133/300\n",
      "26/26 [==============================] - 0s 1ms/step - loss: 0.3856 - accuracy: 0.8366\n",
      "Epoch 134/300\n",
      "26/26 [==============================] - 0s 1ms/step - loss: 0.3841 - accuracy: 0.8305\n",
      "Epoch 135/300\n",
      "26/26 [==============================] - 0s 1ms/step - loss: 0.3839 - accuracy: 0.8280\n",
      "Epoch 136/300\n",
      "26/26 [==============================] - 0s 1ms/step - loss: 0.3955 - accuracy: 0.8402\n",
      "Epoch 137/300\n",
      "26/26 [==============================] - 0s 1ms/step - loss: 0.3945 - accuracy: 0.8427\n",
      "Epoch 138/300\n",
      "26/26 [==============================] - 0s 1ms/step - loss: 0.4241 - accuracy: 0.8207\n",
      "Epoch 139/300\n",
      "26/26 [==============================] - 0s 1ms/step - loss: 0.3793 - accuracy: 0.8354\n",
      "Epoch 140/300\n",
      "26/26 [==============================] - 0s 1ms/step - loss: 0.3681 - accuracy: 0.8402\n",
      "Epoch 141/300\n",
      "26/26 [==============================] - 0s 1ms/step - loss: 0.3651 - accuracy: 0.8512\n",
      "Epoch 142/300\n",
      "26/26 [==============================] - 0s 1ms/step - loss: 0.3732 - accuracy: 0.8354\n",
      "Epoch 143/300\n",
      "26/26 [==============================] - 0s 1ms/step - loss: 0.3839 - accuracy: 0.8256\n",
      "Epoch 144/300\n",
      "26/26 [==============================] - 0s 1ms/step - loss: 0.3764 - accuracy: 0.8427\n",
      "Epoch 145/300\n",
      "26/26 [==============================] - 0s 2ms/step - loss: 0.3658 - accuracy: 0.8500\n",
      "Epoch 146/300\n",
      "26/26 [==============================] - 0s 1ms/step - loss: 0.3681 - accuracy: 0.8427\n",
      "Epoch 147/300\n",
      "26/26 [==============================] - 0s 2ms/step - loss: 0.3638 - accuracy: 0.8488\n",
      "Epoch 148/300\n",
      "26/26 [==============================] - 0s 1ms/step - loss: 0.3789 - accuracy: 0.8341\n",
      "Epoch 149/300\n",
      "26/26 [==============================] - 0s 1ms/step - loss: 0.3666 - accuracy: 0.8463\n",
      "Epoch 150/300\n",
      "26/26 [==============================] - 0s 1ms/step - loss: 0.3964 - accuracy: 0.8402\n",
      "Epoch 151/300\n",
      "26/26 [==============================] - 0s 1ms/step - loss: 0.3980 - accuracy: 0.8317\n",
      "Epoch 152/300\n",
      "26/26 [==============================] - 0s 1ms/step - loss: 0.3741 - accuracy: 0.8427\n",
      "Epoch 153/300\n",
      "26/26 [==============================] - 0s 1ms/step - loss: 0.4112 - accuracy: 0.8207\n",
      "Epoch 154/300\n",
      "26/26 [==============================] - 0s 1ms/step - loss: 0.3826 - accuracy: 0.8305\n",
      "Epoch 155/300\n",
      "26/26 [==============================] - 0s 2ms/step - loss: 0.3927 - accuracy: 0.8366\n",
      "Epoch 156/300\n",
      "26/26 [==============================] - 0s 1ms/step - loss: 0.3774 - accuracy: 0.8500\n",
      "Epoch 157/300\n",
      "26/26 [==============================] - 0s 1ms/step - loss: 0.3737 - accuracy: 0.8366\n",
      "Epoch 158/300\n",
      "26/26 [==============================] - 0s 1ms/step - loss: 0.3868 - accuracy: 0.8256\n",
      "Epoch 159/300\n",
      "26/26 [==============================] - 0s 1ms/step - loss: 0.3991 - accuracy: 0.8220\n",
      "Epoch 160/300\n",
      "26/26 [==============================] - 0s 1ms/step - loss: 0.3715 - accuracy: 0.8402\n",
      "Epoch 161/300\n",
      "26/26 [==============================] - 0s 2ms/step - loss: 0.3735 - accuracy: 0.8402\n",
      "Epoch 162/300\n",
      "26/26 [==============================] - 0s 1ms/step - loss: 0.3677 - accuracy: 0.8476\n",
      "Epoch 163/300\n",
      "26/26 [==============================] - 0s 1ms/step - loss: 0.3918 - accuracy: 0.8341\n",
      "Epoch 164/300\n"
     ]
    },
    {
     "name": "stdout",
     "output_type": "stream",
     "text": [
      "26/26 [==============================] - 0s 1ms/step - loss: 0.3781 - accuracy: 0.8439\n",
      "Epoch 165/300\n",
      "26/26 [==============================] - 0s 1ms/step - loss: 0.3715 - accuracy: 0.8402\n",
      "Epoch 166/300\n",
      "26/26 [==============================] - 0s 1ms/step - loss: 0.3922 - accuracy: 0.8317\n",
      "Epoch 167/300\n",
      "26/26 [==============================] - 0s 1ms/step - loss: 0.3941 - accuracy: 0.8341\n",
      "Epoch 168/300\n",
      "26/26 [==============================] - 0s 1ms/step - loss: 0.3887 - accuracy: 0.8256\n",
      "Epoch 169/300\n",
      "26/26 [==============================] - 0s 1ms/step - loss: 0.4630 - accuracy: 0.7902\n",
      "Epoch 170/300\n",
      "26/26 [==============================] - 0s 2ms/step - loss: 0.3695 - accuracy: 0.8476\n",
      "Epoch 171/300\n",
      "26/26 [==============================] - 0s 2ms/step - loss: 0.3809 - accuracy: 0.8451\n",
      "Epoch 172/300\n",
      "26/26 [==============================] - 0s 2ms/step - loss: 0.4090 - accuracy: 0.8159\n",
      "Epoch 173/300\n",
      "26/26 [==============================] - 0s 2ms/step - loss: 0.3774 - accuracy: 0.8341\n",
      "Epoch 174/300\n",
      "26/26 [==============================] - 0s 1ms/step - loss: 0.3913 - accuracy: 0.8427\n",
      "Epoch 175/300\n",
      "26/26 [==============================] - 0s 2ms/step - loss: 0.3716 - accuracy: 0.8415\n",
      "Epoch 176/300\n",
      "26/26 [==============================] - 0s 1ms/step - loss: 0.3840 - accuracy: 0.8341\n",
      "Epoch 177/300\n",
      "26/26 [==============================] - 0s 1ms/step - loss: 0.3587 - accuracy: 0.8427\n",
      "Epoch 178/300\n",
      "26/26 [==============================] - 0s 1ms/step - loss: 0.4351 - accuracy: 0.8085\n",
      "Epoch 179/300\n",
      "26/26 [==============================] - 0s 1ms/step - loss: 0.3682 - accuracy: 0.8476\n",
      "Epoch 180/300\n",
      "26/26 [==============================] - 0s 1ms/step - loss: 0.3697 - accuracy: 0.8415\n",
      "Epoch 181/300\n",
      "26/26 [==============================] - 0s 1ms/step - loss: 0.3620 - accuracy: 0.8427\n",
      "Epoch 182/300\n",
      "26/26 [==============================] - 0s 2ms/step - loss: 0.3779 - accuracy: 0.8378\n",
      "Epoch 183/300\n",
      "26/26 [==============================] - 0s 1ms/step - loss: 0.3718 - accuracy: 0.8476\n",
      "Epoch 184/300\n",
      "26/26 [==============================] - 0s 1ms/step - loss: 0.4563 - accuracy: 0.7927\n",
      "Epoch 185/300\n",
      "26/26 [==============================] - 0s 1ms/step - loss: 0.3649 - accuracy: 0.8451\n",
      "Epoch 186/300\n",
      "26/26 [==============================] - 0s 1ms/step - loss: 0.3775 - accuracy: 0.8415\n",
      "Epoch 187/300\n",
      "26/26 [==============================] - 0s 1ms/step - loss: 0.3657 - accuracy: 0.8329\n",
      "Epoch 188/300\n",
      "26/26 [==============================] - 0s 1ms/step - loss: 0.3708 - accuracy: 0.8415\n",
      "Epoch 189/300\n",
      "26/26 [==============================] - 0s 1ms/step - loss: 0.3785 - accuracy: 0.8427\n",
      "Epoch 190/300\n",
      "26/26 [==============================] - 0s 1ms/step - loss: 0.3657 - accuracy: 0.8439\n",
      "Epoch 191/300\n",
      "26/26 [==============================] - 0s 1ms/step - loss: 0.3783 - accuracy: 0.8415\n",
      "Epoch 192/300\n",
      "26/26 [==============================] - 0s 1ms/step - loss: 0.3700 - accuracy: 0.8378\n",
      "Epoch 193/300\n",
      "26/26 [==============================] - 0s 1ms/step - loss: 0.3689 - accuracy: 0.8476\n",
      "Epoch 194/300\n",
      "26/26 [==============================] - 0s 1ms/step - loss: 0.3770 - accuracy: 0.8329\n",
      "Epoch 195/300\n",
      "26/26 [==============================] - 0s 1ms/step - loss: 0.3665 - accuracy: 0.8341\n",
      "Epoch 196/300\n",
      "26/26 [==============================] - 0s 1ms/step - loss: 0.3682 - accuracy: 0.8415\n",
      "Epoch 197/300\n",
      "26/26 [==============================] - 0s 1ms/step - loss: 0.3669 - accuracy: 0.8427\n",
      "Epoch 198/300\n",
      "26/26 [==============================] - 0s 1ms/step - loss: 0.3806 - accuracy: 0.8415\n",
      "Epoch 199/300\n",
      "26/26 [==============================] - 0s 1ms/step - loss: 0.4062 - accuracy: 0.8329\n",
      "Epoch 200/300\n",
      "26/26 [==============================] - 0s 1ms/step - loss: 0.3673 - accuracy: 0.8378\n",
      "Epoch 201/300\n",
      "26/26 [==============================] - 0s 1ms/step - loss: 0.3779 - accuracy: 0.8305\n",
      "Epoch 202/300\n",
      "26/26 [==============================] - 0s 1ms/step - loss: 0.3619 - accuracy: 0.8598\n",
      "Epoch 203/300\n",
      "26/26 [==============================] - 0s 1ms/step - loss: 0.3741 - accuracy: 0.8341\n",
      "Epoch 204/300\n",
      "26/26 [==============================] - 0s 1ms/step - loss: 0.3683 - accuracy: 0.8366\n",
      "Epoch 205/300\n",
      "26/26 [==============================] - 0s 1ms/step - loss: 0.3782 - accuracy: 0.8500\n",
      "Epoch 206/300\n",
      "26/26 [==============================] - 0s 1ms/step - loss: 0.3752 - accuracy: 0.8476\n",
      "Epoch 207/300\n",
      "26/26 [==============================] - 0s 2ms/step - loss: 0.3917 - accuracy: 0.8207\n",
      "Epoch 208/300\n",
      "26/26 [==============================] - 0s 1ms/step - loss: 0.3854 - accuracy: 0.8293\n",
      "Epoch 209/300\n",
      "26/26 [==============================] - 0s 1ms/step - loss: 0.3957 - accuracy: 0.8293\n",
      "Epoch 210/300\n",
      "26/26 [==============================] - 0s 1ms/step - loss: 0.3767 - accuracy: 0.8512\n",
      "Epoch 211/300\n",
      "26/26 [==============================] - 0s 1ms/step - loss: 0.3684 - accuracy: 0.8512\n",
      "Epoch 212/300\n",
      "26/26 [==============================] - 0s 1ms/step - loss: 0.3753 - accuracy: 0.8524\n",
      "Epoch 213/300\n",
      "26/26 [==============================] - 0s 1ms/step - loss: 0.3611 - accuracy: 0.8390\n",
      "Epoch 214/300\n",
      "26/26 [==============================] - 0s 1ms/step - loss: 0.3785 - accuracy: 0.8439\n",
      "Epoch 215/300\n",
      "26/26 [==============================] - 0s 1ms/step - loss: 0.3649 - accuracy: 0.8488\n",
      "Epoch 216/300\n",
      "26/26 [==============================] - 0s 1ms/step - loss: 0.3965 - accuracy: 0.8268\n",
      "Epoch 217/300\n",
      "26/26 [==============================] - 0s 1ms/step - loss: 0.3669 - accuracy: 0.8427\n",
      "Epoch 218/300\n",
      "26/26 [==============================] - 0s 1ms/step - loss: 0.3711 - accuracy: 0.8415\n",
      "Epoch 219/300\n",
      "26/26 [==============================] - 0s 2ms/step - loss: 0.3673 - accuracy: 0.8476\n",
      "Epoch 220/300\n",
      "26/26 [==============================] - 0s 2ms/step - loss: 0.3799 - accuracy: 0.8451\n",
      "Epoch 221/300\n",
      "26/26 [==============================] - 0s 2ms/step - loss: 0.3721 - accuracy: 0.8427\n",
      "Epoch 222/300\n",
      "26/26 [==============================] - 0s 2ms/step - loss: 0.3848 - accuracy: 0.8341\n",
      "Epoch 223/300\n",
      "26/26 [==============================] - 0s 2ms/step - loss: 0.3832 - accuracy: 0.8390\n",
      "Epoch 224/300\n",
      "26/26 [==============================] - 0s 2ms/step - loss: 0.3664 - accuracy: 0.8463\n",
      "Epoch 225/300\n",
      "26/26 [==============================] - 0s 1ms/step - loss: 0.3945 - accuracy: 0.8305\n",
      "Epoch 226/300\n",
      "26/26 [==============================] - 0s 1ms/step - loss: 0.3670 - accuracy: 0.8439\n",
      "Epoch 227/300\n",
      "26/26 [==============================] - 0s 1ms/step - loss: 0.3881 - accuracy: 0.8244\n",
      "Epoch 228/300\n",
      "26/26 [==============================] - 0s 1ms/step - loss: 0.3965 - accuracy: 0.8268\n",
      "Epoch 229/300\n",
      "26/26 [==============================] - 0s 2ms/step - loss: 0.3884 - accuracy: 0.8293\n",
      "Epoch 230/300\n",
      "26/26 [==============================] - 0s 1ms/step - loss: 0.3715 - accuracy: 0.8366\n",
      "Epoch 231/300\n",
      "26/26 [==============================] - 0s 2ms/step - loss: 0.3965 - accuracy: 0.8207\n",
      "Epoch 232/300\n",
      "26/26 [==============================] - 0s 1ms/step - loss: 0.3588 - accuracy: 0.8646\n",
      "Epoch 233/300\n",
      "26/26 [==============================] - 0s 1ms/step - loss: 0.3732 - accuracy: 0.8329\n",
      "Epoch 234/300\n",
      "26/26 [==============================] - 0s 1ms/step - loss: 0.3768 - accuracy: 0.8354\n",
      "Epoch 235/300\n",
      "26/26 [==============================] - 0s 1ms/step - loss: 0.3819 - accuracy: 0.8402\n",
      "Epoch 236/300\n",
      "26/26 [==============================] - 0s 1ms/step - loss: 0.3846 - accuracy: 0.8341\n",
      "Epoch 237/300\n",
      "26/26 [==============================] - 0s 1ms/step - loss: 0.3830 - accuracy: 0.8463\n",
      "Epoch 238/300\n",
      "26/26 [==============================] - 0s 2ms/step - loss: 0.3807 - accuracy: 0.8439\n",
      "Epoch 239/300\n",
      "26/26 [==============================] - 0s 2ms/step - loss: 0.3710 - accuracy: 0.8427\n",
      "Epoch 240/300\n",
      "26/26 [==============================] - 0s 1ms/step - loss: 0.4018 - accuracy: 0.8232\n",
      "Epoch 241/300\n",
      "26/26 [==============================] - 0s 1ms/step - loss: 0.3770 - accuracy: 0.8317\n",
      "Epoch 242/300\n",
      "26/26 [==============================] - 0s 1ms/step - loss: 0.3809 - accuracy: 0.8390\n",
      "Epoch 243/300\n",
      "26/26 [==============================] - 0s 2ms/step - loss: 0.3694 - accuracy: 0.8329\n",
      "Epoch 244/300\n",
      "26/26 [==============================] - 0s 1ms/step - loss: 0.3752 - accuracy: 0.8415\n",
      "Epoch 245/300\n"
     ]
    },
    {
     "name": "stdout",
     "output_type": "stream",
     "text": [
      "26/26 [==============================] - 0s 2ms/step - loss: 0.3784 - accuracy: 0.8378\n",
      "Epoch 246/300\n",
      "26/26 [==============================] - 0s 2ms/step - loss: 0.3783 - accuracy: 0.8378\n",
      "Epoch 247/300\n",
      "26/26 [==============================] - 0s 1ms/step - loss: 0.3797 - accuracy: 0.8329\n",
      "Epoch 248/300\n",
      "26/26 [==============================] - 0s 1ms/step - loss: 0.3918 - accuracy: 0.8293\n",
      "Epoch 249/300\n",
      "26/26 [==============================] - 0s 1ms/step - loss: 0.3786 - accuracy: 0.8366\n",
      "Epoch 250/300\n",
      "26/26 [==============================] - 0s 1ms/step - loss: 0.3696 - accuracy: 0.8402\n",
      "Epoch 251/300\n",
      "26/26 [==============================] - 0s 1ms/step - loss: 0.3787 - accuracy: 0.8402\n",
      "Epoch 252/300\n",
      "26/26 [==============================] - 0s 2ms/step - loss: 0.3775 - accuracy: 0.8305\n",
      "Epoch 253/300\n",
      "26/26 [==============================] - 0s 1ms/step - loss: 0.3609 - accuracy: 0.8476\n",
      "Epoch 254/300\n",
      "26/26 [==============================] - 0s 1ms/step - loss: 0.3868 - accuracy: 0.8280\n",
      "Epoch 255/300\n",
      "26/26 [==============================] - 0s 1ms/step - loss: 0.3829 - accuracy: 0.8415\n",
      "Epoch 256/300\n",
      "26/26 [==============================] - 0s 1ms/step - loss: 0.3916 - accuracy: 0.8305\n",
      "Epoch 257/300\n",
      "26/26 [==============================] - 0s 1ms/step - loss: 0.3656 - accuracy: 0.8378\n",
      "Epoch 258/300\n",
      "26/26 [==============================] - 0s 1ms/step - loss: 0.3828 - accuracy: 0.8366\n",
      "Epoch 259/300\n",
      "26/26 [==============================] - 0s 1ms/step - loss: 0.3705 - accuracy: 0.8451\n",
      "Epoch 260/300\n",
      "26/26 [==============================] - 0s 1ms/step - loss: 0.3747 - accuracy: 0.8305\n",
      "Epoch 261/300\n",
      "26/26 [==============================] - 0s 1ms/step - loss: 0.3583 - accuracy: 0.8500\n",
      "Epoch 262/300\n",
      "26/26 [==============================] - 0s 1ms/step - loss: 0.3614 - accuracy: 0.8500\n",
      "Epoch 263/300\n",
      "26/26 [==============================] - 0s 1ms/step - loss: 0.3630 - accuracy: 0.8451\n",
      "Epoch 264/300\n",
      "26/26 [==============================] - 0s 1ms/step - loss: 0.3885 - accuracy: 0.8402\n",
      "Epoch 265/300\n",
      "26/26 [==============================] - 0s 1ms/step - loss: 0.3971 - accuracy: 0.8256\n",
      "Epoch 266/300\n",
      "26/26 [==============================] - 0s 1ms/step - loss: 0.3655 - accuracy: 0.8329\n",
      "Epoch 267/300\n",
      "26/26 [==============================] - 0s 1ms/step - loss: 0.3769 - accuracy: 0.8451\n",
      "Epoch 268/300\n",
      "26/26 [==============================] - 0s 2ms/step - loss: 0.3819 - accuracy: 0.8317\n",
      "Epoch 269/300\n",
      "26/26 [==============================] - 0s 2ms/step - loss: 0.3804 - accuracy: 0.8293\n",
      "Epoch 270/300\n",
      "26/26 [==============================] - 0s 2ms/step - loss: 0.4410 - accuracy: 0.8012\n",
      "Epoch 271/300\n",
      "26/26 [==============================] - 0s 2ms/step - loss: 0.3775 - accuracy: 0.8439\n",
      "Epoch 272/300\n",
      "26/26 [==============================] - 0s 2ms/step - loss: 0.3651 - accuracy: 0.8451\n",
      "Epoch 273/300\n",
      "26/26 [==============================] - 0s 2ms/step - loss: 0.3804 - accuracy: 0.8366\n",
      "Epoch 274/300\n",
      "26/26 [==============================] - 0s 1ms/step - loss: 0.4213 - accuracy: 0.8061\n",
      "Epoch 275/300\n",
      "26/26 [==============================] - 0s 2ms/step - loss: 0.3757 - accuracy: 0.8451\n",
      "Epoch 276/300\n",
      "26/26 [==============================] - 0s 1ms/step - loss: 0.3677 - accuracy: 0.8476\n",
      "Epoch 277/300\n",
      "26/26 [==============================] - 0s 1ms/step - loss: 0.3668 - accuracy: 0.8488\n",
      "Epoch 278/300\n",
      "26/26 [==============================] - 0s 3ms/step - loss: 0.3638 - accuracy: 0.8561\n",
      "Epoch 279/300\n",
      "26/26 [==============================] - 0s 1ms/step - loss: 0.3740 - accuracy: 0.8500\n",
      "Epoch 280/300\n",
      "26/26 [==============================] - 0s 1ms/step - loss: 0.3938 - accuracy: 0.8207\n",
      "Epoch 281/300\n",
      "26/26 [==============================] - 0s 1ms/step - loss: 0.3676 - accuracy: 0.8427\n",
      "Epoch 282/300\n",
      "26/26 [==============================] - 0s 1ms/step - loss: 0.3726 - accuracy: 0.8366\n",
      "Epoch 283/300\n",
      "26/26 [==============================] - 0s 1ms/step - loss: 0.4176 - accuracy: 0.8134\n",
      "Epoch 284/300\n",
      "26/26 [==============================] - 0s 1ms/step - loss: 0.3863 - accuracy: 0.8415\n",
      "Epoch 285/300\n",
      "26/26 [==============================] - 0s 1ms/step - loss: 0.3748 - accuracy: 0.8476\n",
      "Epoch 286/300\n",
      "26/26 [==============================] - 0s 1ms/step - loss: 0.3807 - accuracy: 0.8402\n",
      "Epoch 287/300\n",
      "26/26 [==============================] - 0s 1ms/step - loss: 0.3620 - accuracy: 0.8488\n",
      "Epoch 288/300\n",
      "26/26 [==============================] - 0s 1ms/step - loss: 0.3689 - accuracy: 0.8317\n",
      "Epoch 289/300\n",
      "26/26 [==============================] - 0s 1ms/step - loss: 0.3652 - accuracy: 0.8463\n",
      "Epoch 290/300\n",
      "26/26 [==============================] - 0s 2ms/step - loss: 0.3737 - accuracy: 0.8512\n",
      "Epoch 291/300\n",
      "26/26 [==============================] - 0s 2ms/step - loss: 0.3618 - accuracy: 0.8463\n",
      "Epoch 292/300\n",
      "26/26 [==============================] - 0s 2ms/step - loss: 0.3623 - accuracy: 0.8561\n",
      "Epoch 293/300\n",
      "26/26 [==============================] - 0s 1ms/step - loss: 0.3703 - accuracy: 0.8366\n",
      "Epoch 294/300\n",
      "26/26 [==============================] - 0s 1ms/step - loss: 0.3978 - accuracy: 0.8305\n",
      "Epoch 295/300\n",
      "26/26 [==============================] - 0s 1ms/step - loss: 0.4807 - accuracy: 0.7988\n",
      "Epoch 296/300\n",
      "26/26 [==============================] - 0s 1ms/step - loss: 0.4397 - accuracy: 0.8061\n",
      "Epoch 297/300\n",
      "26/26 [==============================] - 0s 1ms/step - loss: 0.3692 - accuracy: 0.8415\n",
      "Epoch 298/300\n",
      "26/26 [==============================] - 0s 1ms/step - loss: 0.3661 - accuracy: 0.8378\n",
      "Epoch 299/300\n",
      "26/26 [==============================] - 0s 1ms/step - loss: 0.3807 - accuracy: 0.8427\n",
      "Epoch 300/300\n",
      "26/26 [==============================] - 0s 1ms/step - loss: 0.3773 - accuracy: 0.8354\n"
     ]
    },
    {
     "data": {
      "text/plain": [
       "<keras.callbacks.History at 0x1a86dd17fd0>"
      ]
     },
     "execution_count": 8,
     "metadata": {},
     "output_type": "execute_result"
    }
   ],
   "source": [
    "model.fit(X_train,Y_train,epochs=300)"
   ]
  },
  {
   "cell_type": "code",
   "execution_count": 9,
   "metadata": {},
   "outputs": [],
   "source": [
    "Y_pred_nn = model.predict(X_test)"
   ]
  },
  {
   "cell_type": "code",
   "execution_count": 10,
   "metadata": {},
   "outputs": [
    {
     "data": {
      "text/plain": [
       "(205, 1)"
      ]
     },
     "execution_count": 10,
     "metadata": {},
     "output_type": "execute_result"
    }
   ],
   "source": [
    "Y_pred_nn.shape"
   ]
  },
  {
   "cell_type": "code",
   "execution_count": 11,
   "metadata": {},
   "outputs": [],
   "source": [
    "rounded = [round(x[0]) for x in Y_pred_nn]\n",
    "Y_pred_nn = rounded"
   ]
  },
  {
   "cell_type": "code",
   "execution_count": 12,
   "metadata": {},
   "outputs": [
    {
     "name": "stdout",
     "output_type": "stream",
     "text": [
      "The accuracy score achieved using Neural Network is: 85.37 %\n"
     ]
    }
   ],
   "source": [
    "score_nn = round(accuracy_score(Y_pred_nn,Y_test)*100,2)\n",
    "print(\"The accuracy score achieved using Neural Network is: \"+str(score_nn)+\" %\")"
   ]
  },
  {
   "cell_type": "markdown",
   "metadata": {},
   "source": [
    "## Sequential Model"
   ]
  },
  {
   "cell_type": "code",
   "execution_count": 13,
   "metadata": {},
   "outputs": [],
   "source": [
    "model = Sequential()\n",
    "model.add(Dense(30, input_dim=13, activation='tanh'))\n",
    "model.add(Dense(20, activation='tanh'))\n",
    "model.add(Dense(1, activation='sigmoid'))"
   ]
  },
  {
   "cell_type": "code",
   "execution_count": 14,
   "metadata": {},
   "outputs": [
    {
     "name": "stdout",
     "output_type": "stream",
     "text": [
      "Epoch 1/300\n",
      "26/26 [==============================] - 0s 1ms/step - loss: 0.7097 - accuracy: 0.5256\n",
      "Epoch 2/300\n",
      "26/26 [==============================] - 0s 1ms/step - loss: 0.6547 - accuracy: 0.6244\n",
      "Epoch 3/300\n",
      "26/26 [==============================] - 0s 2ms/step - loss: 0.6363 - accuracy: 0.6280\n",
      "Epoch 4/300\n",
      "26/26 [==============================] - 0s 1ms/step - loss: 0.6262 - accuracy: 0.6256\n",
      "Epoch 5/300\n",
      "26/26 [==============================] - 0s 1ms/step - loss: 0.6107 - accuracy: 0.6732\n",
      "Epoch 6/300\n",
      "26/26 [==============================] - 0s 2ms/step - loss: 0.6003 - accuracy: 0.6622\n",
      "Epoch 7/300\n",
      "26/26 [==============================] - 0s 2ms/step - loss: 0.5949 - accuracy: 0.6720\n",
      "Epoch 8/300\n",
      "26/26 [==============================] - 0s 1ms/step - loss: 0.5974 - accuracy: 0.6622\n",
      "Epoch 9/300\n",
      "26/26 [==============================] - 0s 1ms/step - loss: 0.5962 - accuracy: 0.6744\n",
      "Epoch 10/300\n",
      "26/26 [==============================] - 0s 2ms/step - loss: 0.5874 - accuracy: 0.6720\n",
      "Epoch 11/300\n",
      "26/26 [==============================] - 0s 1ms/step - loss: 0.5843 - accuracy: 0.7000\n",
      "Epoch 12/300\n",
      "26/26 [==============================] - 0s 2ms/step - loss: 0.5799 - accuracy: 0.6854\n",
      "Epoch 13/300\n",
      "26/26 [==============================] - 0s 1ms/step - loss: 0.5756 - accuracy: 0.7061\n",
      "Epoch 14/300\n",
      "26/26 [==============================] - 0s 2ms/step - loss: 0.5718 - accuracy: 0.7085\n",
      "Epoch 15/300\n",
      "26/26 [==============================] - 0s 2ms/step - loss: 0.5712 - accuracy: 0.7098\n",
      "Epoch 16/300\n",
      "26/26 [==============================] - 0s 2ms/step - loss: 0.5625 - accuracy: 0.7085\n",
      "Epoch 17/300\n",
      "26/26 [==============================] - 0s 2ms/step - loss: 0.5645 - accuracy: 0.7024\n",
      "Epoch 18/300\n",
      "26/26 [==============================] - 0s 1ms/step - loss: 0.5720 - accuracy: 0.7183\n",
      "Epoch 19/300\n",
      "26/26 [==============================] - 0s 2ms/step - loss: 0.5580 - accuracy: 0.7220\n",
      "Epoch 20/300\n",
      "26/26 [==============================] - 0s 2ms/step - loss: 0.5621 - accuracy: 0.7000\n",
      "Epoch 21/300\n",
      "26/26 [==============================] - 0s 2ms/step - loss: 0.5616 - accuracy: 0.7073\n",
      "Epoch 22/300\n",
      "26/26 [==============================] - 0s 2ms/step - loss: 0.5523 - accuracy: 0.7280\n",
      "Epoch 23/300\n",
      "26/26 [==============================] - 0s 2ms/step - loss: 0.5448 - accuracy: 0.7195\n",
      "Epoch 24/300\n",
      "26/26 [==============================] - 0s 2ms/step - loss: 0.5417 - accuracy: 0.7220\n",
      "Epoch 25/300\n",
      "26/26 [==============================] - 0s 2ms/step - loss: 0.5410 - accuracy: 0.7244\n",
      "Epoch 26/300\n",
      "26/26 [==============================] - 0s 2ms/step - loss: 0.5465 - accuracy: 0.7232\n",
      "Epoch 27/300\n",
      "26/26 [==============================] - 0s 2ms/step - loss: 0.5336 - accuracy: 0.7512\n",
      "Epoch 28/300\n",
      "26/26 [==============================] - 0s 2ms/step - loss: 0.5346 - accuracy: 0.7402\n",
      "Epoch 29/300\n",
      "26/26 [==============================] - 0s 2ms/step - loss: 0.5329 - accuracy: 0.7329\n",
      "Epoch 30/300\n",
      "26/26 [==============================] - 0s 2ms/step - loss: 0.5298 - accuracy: 0.7463\n",
      "Epoch 31/300\n",
      "26/26 [==============================] - 0s 2ms/step - loss: 0.5398 - accuracy: 0.7317\n",
      "Epoch 32/300\n",
      "26/26 [==============================] - 0s 2ms/step - loss: 0.5395 - accuracy: 0.7354\n",
      "Epoch 33/300\n",
      "26/26 [==============================] - 0s 2ms/step - loss: 0.5251 - accuracy: 0.7573\n",
      "Epoch 34/300\n",
      "26/26 [==============================] - 0s 1ms/step - loss: 0.5195 - accuracy: 0.7598\n",
      "Epoch 35/300\n",
      "26/26 [==============================] - 0s 2ms/step - loss: 0.5135 - accuracy: 0.7659\n",
      "Epoch 36/300\n",
      "26/26 [==============================] - 0s 2ms/step - loss: 0.5043 - accuracy: 0.7598\n",
      "Epoch 37/300\n",
      "26/26 [==============================] - 0s 2ms/step - loss: 0.5068 - accuracy: 0.7598\n",
      "Epoch 38/300\n",
      "26/26 [==============================] - 0s 2ms/step - loss: 0.5157 - accuracy: 0.7549\n",
      "Epoch 39/300\n",
      "26/26 [==============================] - 0s 2ms/step - loss: 0.5030 - accuracy: 0.7756\n",
      "Epoch 40/300\n",
      "26/26 [==============================] - 0s 1ms/step - loss: 0.5005 - accuracy: 0.7720\n",
      "Epoch 41/300\n",
      "26/26 [==============================] - 0s 1ms/step - loss: 0.5006 - accuracy: 0.7793\n",
      "Epoch 42/300\n",
      "26/26 [==============================] - 0s 2ms/step - loss: 0.4941 - accuracy: 0.7793\n",
      "Epoch 43/300\n",
      "26/26 [==============================] - 0s 1ms/step - loss: 0.4890 - accuracy: 0.7732\n",
      "Epoch 44/300\n",
      "26/26 [==============================] - 0s 1ms/step - loss: 0.4880 - accuracy: 0.7829\n",
      "Epoch 45/300\n",
      "26/26 [==============================] - 0s 2ms/step - loss: 0.4776 - accuracy: 0.7902\n",
      "Epoch 46/300\n",
      "26/26 [==============================] - 0s 1ms/step - loss: 0.4736 - accuracy: 0.7902\n",
      "Epoch 47/300\n",
      "26/26 [==============================] - 0s 2ms/step - loss: 0.4799 - accuracy: 0.7793\n",
      "Epoch 48/300\n",
      "26/26 [==============================] - 0s 2ms/step - loss: 0.4744 - accuracy: 0.7780\n",
      "Epoch 49/300\n",
      "26/26 [==============================] - 0s 2ms/step - loss: 0.4717 - accuracy: 0.7854\n",
      "Epoch 50/300\n",
      "26/26 [==============================] - 0s 2ms/step - loss: 0.4652 - accuracy: 0.7817\n",
      "Epoch 51/300\n",
      "26/26 [==============================] - 0s 2ms/step - loss: 0.4711 - accuracy: 0.7878\n",
      "Epoch 52/300\n",
      "26/26 [==============================] - 0s 2ms/step - loss: 0.4864 - accuracy: 0.7744\n",
      "Epoch 53/300\n",
      "26/26 [==============================] - 0s 2ms/step - loss: 0.4757 - accuracy: 0.7915\n",
      "Epoch 54/300\n",
      "26/26 [==============================] - 0s 2ms/step - loss: 0.4570 - accuracy: 0.7951\n",
      "Epoch 55/300\n",
      "26/26 [==============================] - 0s 2ms/step - loss: 0.4564 - accuracy: 0.8000\n",
      "Epoch 56/300\n",
      "26/26 [==============================] - 0s 2ms/step - loss: 0.4673 - accuracy: 0.7890\n",
      "Epoch 57/300\n",
      "26/26 [==============================] - 0s 2ms/step - loss: 0.4615 - accuracy: 0.7951\n",
      "Epoch 58/300\n",
      "26/26 [==============================] - 0s 2ms/step - loss: 0.4546 - accuracy: 0.7951\n",
      "Epoch 59/300\n",
      "26/26 [==============================] - 0s 2ms/step - loss: 0.4632 - accuracy: 0.7927\n",
      "Epoch 60/300\n",
      "26/26 [==============================] - 0s 2ms/step - loss: 0.4595 - accuracy: 0.7988\n",
      "Epoch 61/300\n",
      "26/26 [==============================] - 0s 3ms/step - loss: 0.4624 - accuracy: 0.7866\n",
      "Epoch 62/300\n",
      "26/26 [==============================] - 0s 3ms/step - loss: 0.4458 - accuracy: 0.8024\n",
      "Epoch 63/300\n",
      "26/26 [==============================] - 0s 3ms/step - loss: 0.4513 - accuracy: 0.7878\n",
      "Epoch 64/300\n",
      "26/26 [==============================] - 0s 2ms/step - loss: 0.4390 - accuracy: 0.8073\n",
      "Epoch 65/300\n",
      "26/26 [==============================] - 0s 2ms/step - loss: 0.4600 - accuracy: 0.7878\n",
      "Epoch 66/300\n",
      "26/26 [==============================] - 0s 2ms/step - loss: 0.4407 - accuracy: 0.8037\n",
      "Epoch 67/300\n",
      "26/26 [==============================] - 0s 2ms/step - loss: 0.4430 - accuracy: 0.7915\n",
      "Epoch 68/300\n",
      "26/26 [==============================] - 0s 1ms/step - loss: 0.4384 - accuracy: 0.8061\n",
      "Epoch 69/300\n",
      "26/26 [==============================] - 0s 2ms/step - loss: 0.4208 - accuracy: 0.8098\n",
      "Epoch 70/300\n",
      "26/26 [==============================] - 0s 2ms/step - loss: 0.4246 - accuracy: 0.8183\n",
      "Epoch 71/300\n",
      "26/26 [==============================] - 0s 2ms/step - loss: 0.4275 - accuracy: 0.8073\n",
      "Epoch 72/300\n",
      "26/26 [==============================] - 0s 2ms/step - loss: 0.4416 - accuracy: 0.7988\n",
      "Epoch 73/300\n",
      "26/26 [==============================] - 0s 1ms/step - loss: 0.4283 - accuracy: 0.8171\n",
      "Epoch 74/300\n",
      "26/26 [==============================] - 0s 1ms/step - loss: 0.4326 - accuracy: 0.8085\n",
      "Epoch 75/300\n",
      "26/26 [==============================] - 0s 1ms/step - loss: 0.4271 - accuracy: 0.8061\n",
      "Epoch 76/300\n",
      "26/26 [==============================] - 0s 2ms/step - loss: 0.4171 - accuracy: 0.8183\n",
      "Epoch 77/300\n",
      "26/26 [==============================] - 0s 2ms/step - loss: 0.4145 - accuracy: 0.8171\n",
      "Epoch 78/300\n",
      "26/26 [==============================] - 0s 1ms/step - loss: 0.4155 - accuracy: 0.8183\n",
      "Epoch 79/300\n",
      "26/26 [==============================] - 0s 1ms/step - loss: 0.4114 - accuracy: 0.8171\n",
      "Epoch 80/300\n",
      "26/26 [==============================] - 0s 2ms/step - loss: 0.4089 - accuracy: 0.8256\n",
      "Epoch 81/300\n",
      "26/26 [==============================] - 0s 1ms/step - loss: 0.4051 - accuracy: 0.8244\n",
      "Epoch 82/300\n",
      "26/26 [==============================] - 0s 1ms/step - loss: 0.4218 - accuracy: 0.8159\n",
      "Epoch 83/300\n"
     ]
    },
    {
     "name": "stdout",
     "output_type": "stream",
     "text": [
      "26/26 [==============================] - 0s 2ms/step - loss: 0.4107 - accuracy: 0.8280\n",
      "Epoch 84/300\n",
      "26/26 [==============================] - 0s 1ms/step - loss: 0.4132 - accuracy: 0.8268\n",
      "Epoch 85/300\n",
      "26/26 [==============================] - 0s 1ms/step - loss: 0.4084 - accuracy: 0.8195\n",
      "Epoch 86/300\n",
      "26/26 [==============================] - 0s 2ms/step - loss: 0.4039 - accuracy: 0.8232\n",
      "Epoch 87/300\n",
      "26/26 [==============================] - 0s 2ms/step - loss: 0.3958 - accuracy: 0.8256\n",
      "Epoch 88/300\n",
      "26/26 [==============================] - 0s 2ms/step - loss: 0.4059 - accuracy: 0.8159\n",
      "Epoch 89/300\n",
      "26/26 [==============================] - 0s 2ms/step - loss: 0.3983 - accuracy: 0.8305\n",
      "Epoch 90/300\n",
      "26/26 [==============================] - 0s 2ms/step - loss: 0.3986 - accuracy: 0.8293\n",
      "Epoch 91/300\n",
      "26/26 [==============================] - 0s 2ms/step - loss: 0.4009 - accuracy: 0.8207\n",
      "Epoch 92/300\n",
      "26/26 [==============================] - 0s 2ms/step - loss: 0.3899 - accuracy: 0.8268\n",
      "Epoch 93/300\n",
      "26/26 [==============================] - 0s 2ms/step - loss: 0.3902 - accuracy: 0.8207\n",
      "Epoch 94/300\n",
      "26/26 [==============================] - 0s 2ms/step - loss: 0.4065 - accuracy: 0.8171\n",
      "Epoch 95/300\n",
      "26/26 [==============================] - 0s 2ms/step - loss: 0.3835 - accuracy: 0.8341\n",
      "Epoch 96/300\n",
      "26/26 [==============================] - 0s 2ms/step - loss: 0.3959 - accuracy: 0.8256\n",
      "Epoch 97/300\n",
      "26/26 [==============================] - 0s 2ms/step - loss: 0.3790 - accuracy: 0.8329\n",
      "Epoch 98/300\n",
      "26/26 [==============================] - 0s 1ms/step - loss: 0.3721 - accuracy: 0.8341\n",
      "Epoch 99/300\n",
      "26/26 [==============================] - 0s 2ms/step - loss: 0.3776 - accuracy: 0.8317\n",
      "Epoch 100/300\n",
      "26/26 [==============================] - 0s 2ms/step - loss: 0.3881 - accuracy: 0.8366\n",
      "Epoch 101/300\n",
      "26/26 [==============================] - 0s 2ms/step - loss: 0.3833 - accuracy: 0.8195\n",
      "Epoch 102/300\n",
      "26/26 [==============================] - 0s 2ms/step - loss: 0.3714 - accuracy: 0.8488\n",
      "Epoch 103/300\n",
      "26/26 [==============================] - 0s 2ms/step - loss: 0.3683 - accuracy: 0.8378\n",
      "Epoch 104/300\n",
      "26/26 [==============================] - 0s 2ms/step - loss: 0.3733 - accuracy: 0.8329\n",
      "Epoch 105/300\n",
      "26/26 [==============================] - 0s 2ms/step - loss: 0.3682 - accuracy: 0.8341\n",
      "Epoch 106/300\n",
      "26/26 [==============================] - 0s 2ms/step - loss: 0.3668 - accuracy: 0.8378\n",
      "Epoch 107/300\n",
      "26/26 [==============================] - 0s 2ms/step - loss: 0.3721 - accuracy: 0.8366\n",
      "Epoch 108/300\n",
      "26/26 [==============================] - 0s 2ms/step - loss: 0.3618 - accuracy: 0.8451\n",
      "Epoch 109/300\n",
      "26/26 [==============================] - 0s 2ms/step - loss: 0.3731 - accuracy: 0.8427\n",
      "Epoch 110/300\n",
      "26/26 [==============================] - 0s 2ms/step - loss: 0.3673 - accuracy: 0.8329\n",
      "Epoch 111/300\n",
      "26/26 [==============================] - 0s 2ms/step - loss: 0.3711 - accuracy: 0.8329\n",
      "Epoch 112/300\n",
      "26/26 [==============================] - 0s 2ms/step - loss: 0.3684 - accuracy: 0.8390\n",
      "Epoch 113/300\n",
      "26/26 [==============================] - 0s 2ms/step - loss: 0.3711 - accuracy: 0.8366\n",
      "Epoch 114/300\n",
      "26/26 [==============================] - 0s 2ms/step - loss: 0.3544 - accuracy: 0.8402\n",
      "Epoch 115/300\n",
      "26/26 [==============================] - 0s 2ms/step - loss: 0.3694 - accuracy: 0.8378\n",
      "Epoch 116/300\n",
      "26/26 [==============================] - 0s 2ms/step - loss: 0.3713 - accuracy: 0.8378\n",
      "Epoch 117/300\n",
      "26/26 [==============================] - 0s 2ms/step - loss: 0.3618 - accuracy: 0.8427\n",
      "Epoch 118/300\n",
      "26/26 [==============================] - 0s 2ms/step - loss: 0.3632 - accuracy: 0.8451\n",
      "Epoch 119/300\n",
      "26/26 [==============================] - 0s 1ms/step - loss: 0.3648 - accuracy: 0.8402\n",
      "Epoch 120/300\n",
      "26/26 [==============================] - 0s 2ms/step - loss: 0.3623 - accuracy: 0.8415\n",
      "Epoch 121/300\n",
      "26/26 [==============================] - 0s 2ms/step - loss: 0.3642 - accuracy: 0.8390\n",
      "Epoch 122/300\n",
      "26/26 [==============================] - 0s 2ms/step - loss: 0.3599 - accuracy: 0.8378\n",
      "Epoch 123/300\n",
      "26/26 [==============================] - 0s 2ms/step - loss: 0.3515 - accuracy: 0.8512\n",
      "Epoch 124/300\n",
      "26/26 [==============================] - 0s 2ms/step - loss: 0.3505 - accuracy: 0.8390\n",
      "Epoch 125/300\n",
      "26/26 [==============================] - 0s 2ms/step - loss: 0.3528 - accuracy: 0.8415\n",
      "Epoch 126/300\n",
      "26/26 [==============================] - 0s 1ms/step - loss: 0.3684 - accuracy: 0.8488\n",
      "Epoch 127/300\n",
      "26/26 [==============================] - 0s 1ms/step - loss: 0.3613 - accuracy: 0.8500\n",
      "Epoch 128/300\n",
      "26/26 [==============================] - 0s 1ms/step - loss: 0.3624 - accuracy: 0.8366\n",
      "Epoch 129/300\n",
      "26/26 [==============================] - 0s 2ms/step - loss: 0.3576 - accuracy: 0.8427\n",
      "Epoch 130/300\n",
      "26/26 [==============================] - 0s 2ms/step - loss: 0.3642 - accuracy: 0.8415\n",
      "Epoch 131/300\n",
      "26/26 [==============================] - 0s 2ms/step - loss: 0.3503 - accuracy: 0.8463\n",
      "Epoch 132/300\n",
      "26/26 [==============================] - 0s 2ms/step - loss: 0.3470 - accuracy: 0.8500\n",
      "Epoch 133/300\n",
      "26/26 [==============================] - 0s 2ms/step - loss: 0.3595 - accuracy: 0.8512\n",
      "Epoch 134/300\n",
      "26/26 [==============================] - 0s 2ms/step - loss: 0.3552 - accuracy: 0.8378\n",
      "Epoch 135/300\n",
      "26/26 [==============================] - 0s 3ms/step - loss: 0.3413 - accuracy: 0.8573\n",
      "Epoch 136/300\n",
      "26/26 [==============================] - 0s 2ms/step - loss: 0.3542 - accuracy: 0.8415\n",
      "Epoch 137/300\n",
      "26/26 [==============================] - 0s 2ms/step - loss: 0.3494 - accuracy: 0.8427\n",
      "Epoch 138/300\n",
      "26/26 [==============================] - 0s 2ms/step - loss: 0.3456 - accuracy: 0.8585\n",
      "Epoch 139/300\n",
      "26/26 [==============================] - 0s 2ms/step - loss: 0.3445 - accuracy: 0.8488\n",
      "Epoch 140/300\n",
      "26/26 [==============================] - 0s 2ms/step - loss: 0.3428 - accuracy: 0.8573\n",
      "Epoch 141/300\n",
      "26/26 [==============================] - 0s 2ms/step - loss: 0.3548 - accuracy: 0.8500\n",
      "Epoch 142/300\n",
      "26/26 [==============================] - 0s 2ms/step - loss: 0.3381 - accuracy: 0.8549\n",
      "Epoch 143/300\n",
      "26/26 [==============================] - 0s 2ms/step - loss: 0.3336 - accuracy: 0.8622\n",
      "Epoch 144/300\n",
      "26/26 [==============================] - 0s 2ms/step - loss: 0.3609 - accuracy: 0.8512\n",
      "Epoch 145/300\n",
      "26/26 [==============================] - 0s 2ms/step - loss: 0.3510 - accuracy: 0.8476\n",
      "Epoch 146/300\n",
      "26/26 [==============================] - 0s 2ms/step - loss: 0.3508 - accuracy: 0.8512\n",
      "Epoch 147/300\n",
      "26/26 [==============================] - 0s 2ms/step - loss: 0.3532 - accuracy: 0.8488\n",
      "Epoch 148/300\n",
      "26/26 [==============================] - 0s 2ms/step - loss: 0.3404 - accuracy: 0.8598\n",
      "Epoch 149/300\n",
      "26/26 [==============================] - 0s 2ms/step - loss: 0.3353 - accuracy: 0.8524\n",
      "Epoch 150/300\n",
      "26/26 [==============================] - 0s 2ms/step - loss: 0.3342 - accuracy: 0.8524\n",
      "Epoch 151/300\n",
      "26/26 [==============================] - 0s 2ms/step - loss: 0.3836 - accuracy: 0.8268\n",
      "Epoch 152/300\n",
      "26/26 [==============================] - 0s 2ms/step - loss: 0.3369 - accuracy: 0.8537\n",
      "Epoch 153/300\n",
      "26/26 [==============================] - 0s 2ms/step - loss: 0.3475 - accuracy: 0.8488\n",
      "Epoch 154/300\n",
      "26/26 [==============================] - 0s 2ms/step - loss: 0.3357 - accuracy: 0.8524\n",
      "Epoch 155/300\n",
      "26/26 [==============================] - 0s 2ms/step - loss: 0.3651 - accuracy: 0.8427\n",
      "Epoch 156/300\n",
      "26/26 [==============================] - 0s 2ms/step - loss: 0.3444 - accuracy: 0.8476\n",
      "Epoch 157/300\n",
      "26/26 [==============================] - 0s 2ms/step - loss: 0.3349 - accuracy: 0.8610\n",
      "Epoch 158/300\n",
      "26/26 [==============================] - 0s 2ms/step - loss: 0.3548 - accuracy: 0.8451\n",
      "Epoch 159/300\n",
      "26/26 [==============================] - 0s 2ms/step - loss: 0.3294 - accuracy: 0.8646\n",
      "Epoch 160/300\n",
      "26/26 [==============================] - 0s 1ms/step - loss: 0.3320 - accuracy: 0.8646\n",
      "Epoch 161/300\n",
      "26/26 [==============================] - 0s 2ms/step - loss: 0.3416 - accuracy: 0.8524\n",
      "Epoch 162/300\n",
      "26/26 [==============================] - 0s 2ms/step - loss: 0.3285 - accuracy: 0.8683\n",
      "Epoch 163/300\n",
      "26/26 [==============================] - 0s 2ms/step - loss: 0.3399 - accuracy: 0.8524\n",
      "Epoch 164/300\n"
     ]
    },
    {
     "name": "stdout",
     "output_type": "stream",
     "text": [
      "26/26 [==============================] - 0s 2ms/step - loss: 0.3321 - accuracy: 0.8598\n",
      "Epoch 165/300\n",
      "26/26 [==============================] - 0s 2ms/step - loss: 0.3263 - accuracy: 0.8707\n",
      "Epoch 166/300\n",
      "26/26 [==============================] - 0s 2ms/step - loss: 0.3224 - accuracy: 0.8598\n",
      "Epoch 167/300\n",
      "26/26 [==============================] - 0s 2ms/step - loss: 0.3382 - accuracy: 0.8537\n",
      "Epoch 168/300\n",
      "26/26 [==============================] - 0s 2ms/step - loss: 0.3313 - accuracy: 0.8610\n",
      "Epoch 169/300\n",
      "26/26 [==============================] - 0s 2ms/step - loss: 0.3303 - accuracy: 0.8512\n",
      "Epoch 170/300\n",
      "26/26 [==============================] - 0s 2ms/step - loss: 0.3361 - accuracy: 0.8476\n",
      "Epoch 171/300\n",
      "26/26 [==============================] - 0s 1ms/step - loss: 0.3248 - accuracy: 0.8720\n",
      "Epoch 172/300\n",
      "26/26 [==============================] - 0s 2ms/step - loss: 0.3212 - accuracy: 0.8610\n",
      "Epoch 173/300\n",
      "26/26 [==============================] - 0s 2ms/step - loss: 0.3174 - accuracy: 0.8646\n",
      "Epoch 174/300\n",
      "26/26 [==============================] - 0s 2ms/step - loss: 0.3231 - accuracy: 0.8695\n",
      "Epoch 175/300\n",
      "26/26 [==============================] - 0s 2ms/step - loss: 0.3338 - accuracy: 0.8549\n",
      "Epoch 176/300\n",
      "26/26 [==============================] - 0s 2ms/step - loss: 0.3255 - accuracy: 0.8695\n",
      "Epoch 177/300\n",
      "26/26 [==============================] - 0s 2ms/step - loss: 0.3183 - accuracy: 0.8695\n",
      "Epoch 178/300\n",
      "26/26 [==============================] - 0s 2ms/step - loss: 0.3297 - accuracy: 0.8585\n",
      "Epoch 179/300\n",
      "26/26 [==============================] - 0s 2ms/step - loss: 0.3424 - accuracy: 0.8573\n",
      "Epoch 180/300\n",
      "26/26 [==============================] - 0s 2ms/step - loss: 0.3371 - accuracy: 0.8573\n",
      "Epoch 181/300\n",
      "26/26 [==============================] - 0s 2ms/step - loss: 0.3233 - accuracy: 0.8659\n",
      "Epoch 182/300\n",
      "26/26 [==============================] - 0s 2ms/step - loss: 0.3184 - accuracy: 0.8671\n",
      "Epoch 183/300\n",
      "26/26 [==============================] - 0s 2ms/step - loss: 0.3140 - accuracy: 0.8598\n",
      "Epoch 184/300\n",
      "26/26 [==============================] - 0s 2ms/step - loss: 0.3168 - accuracy: 0.8695\n",
      "Epoch 185/300\n",
      "26/26 [==============================] - 0s 2ms/step - loss: 0.3139 - accuracy: 0.8695\n",
      "Epoch 186/300\n",
      "26/26 [==============================] - 0s 2ms/step - loss: 0.3122 - accuracy: 0.8646\n",
      "Epoch 187/300\n",
      "26/26 [==============================] - 0s 2ms/step - loss: 0.3405 - accuracy: 0.8549\n",
      "Epoch 188/300\n",
      "26/26 [==============================] - 0s 2ms/step - loss: 0.3391 - accuracy: 0.8610\n",
      "Epoch 189/300\n",
      "26/26 [==============================] - 0s 2ms/step - loss: 0.3165 - accuracy: 0.8707\n",
      "Epoch 190/300\n",
      "26/26 [==============================] - 0s 2ms/step - loss: 0.3173 - accuracy: 0.8598\n",
      "Epoch 191/300\n",
      "26/26 [==============================] - 0s 1ms/step - loss: 0.3125 - accuracy: 0.8732\n",
      "Epoch 192/300\n",
      "26/26 [==============================] - 0s 2ms/step - loss: 0.3288 - accuracy: 0.8646\n",
      "Epoch 193/300\n",
      "26/26 [==============================] - 0s 2ms/step - loss: 0.3116 - accuracy: 0.8805\n",
      "Epoch 194/300\n",
      "26/26 [==============================] - 0s 2ms/step - loss: 0.3225 - accuracy: 0.8646\n",
      "Epoch 195/300\n",
      "26/26 [==============================] - 0s 2ms/step - loss: 0.3186 - accuracy: 0.8707\n",
      "Epoch 196/300\n",
      "26/26 [==============================] - 0s 2ms/step - loss: 0.3473 - accuracy: 0.8476\n",
      "Epoch 197/300\n",
      "26/26 [==============================] - 0s 2ms/step - loss: 0.3476 - accuracy: 0.8500\n",
      "Epoch 198/300\n",
      "26/26 [==============================] - 0s 2ms/step - loss: 0.3154 - accuracy: 0.8720\n",
      "Epoch 199/300\n",
      "26/26 [==============================] - 0s 2ms/step - loss: 0.3075 - accuracy: 0.8671\n",
      "Epoch 200/300\n",
      "26/26 [==============================] - 0s 2ms/step - loss: 0.3169 - accuracy: 0.8695\n",
      "Epoch 201/300\n",
      "26/26 [==============================] - 0s 2ms/step - loss: 0.3160 - accuracy: 0.8659\n",
      "Epoch 202/300\n",
      "26/26 [==============================] - 0s 2ms/step - loss: 0.3025 - accuracy: 0.8707\n",
      "Epoch 203/300\n",
      "26/26 [==============================] - 0s 2ms/step - loss: 0.3066 - accuracy: 0.8659\n",
      "Epoch 204/300\n",
      "26/26 [==============================] - 0s 2ms/step - loss: 0.3082 - accuracy: 0.8780\n",
      "Epoch 205/300\n",
      "26/26 [==============================] - 0s 2ms/step - loss: 0.2999 - accuracy: 0.8768\n",
      "Epoch 206/300\n",
      "26/26 [==============================] - 0s 2ms/step - loss: 0.3105 - accuracy: 0.8707\n",
      "Epoch 207/300\n",
      "26/26 [==============================] - 0s 2ms/step - loss: 0.3106 - accuracy: 0.8671\n",
      "Epoch 208/300\n",
      "26/26 [==============================] - 0s 2ms/step - loss: 0.3020 - accuracy: 0.8732\n",
      "Epoch 209/300\n",
      "26/26 [==============================] - 0s 2ms/step - loss: 0.3077 - accuracy: 0.8720\n",
      "Epoch 210/300\n",
      "26/26 [==============================] - 0s 2ms/step - loss: 0.3072 - accuracy: 0.8793\n",
      "Epoch 211/300\n",
      "26/26 [==============================] - 0s 2ms/step - loss: 0.3128 - accuracy: 0.8695\n",
      "Epoch 212/300\n",
      "26/26 [==============================] - 0s 2ms/step - loss: 0.3078 - accuracy: 0.8744\n",
      "Epoch 213/300\n",
      "26/26 [==============================] - 0s 3ms/step - loss: 0.3004 - accuracy: 0.8793\n",
      "Epoch 214/300\n",
      "26/26 [==============================] - 0s 2ms/step - loss: 0.3160 - accuracy: 0.8695\n",
      "Epoch 215/300\n",
      "26/26 [==============================] - 0s 2ms/step - loss: 0.3062 - accuracy: 0.8756\n",
      "Epoch 216/300\n",
      "26/26 [==============================] - 0s 2ms/step - loss: 0.3009 - accuracy: 0.8780\n",
      "Epoch 217/300\n",
      "26/26 [==============================] - 0s 2ms/step - loss: 0.3138 - accuracy: 0.8646\n",
      "Epoch 218/300\n",
      "26/26 [==============================] - 0s 2ms/step - loss: 0.3031 - accuracy: 0.8744\n",
      "Epoch 219/300\n",
      "26/26 [==============================] - 0s 2ms/step - loss: 0.3056 - accuracy: 0.8756\n",
      "Epoch 220/300\n",
      "26/26 [==============================] - 0s 3ms/step - loss: 0.3054 - accuracy: 0.8756\n",
      "Epoch 221/300\n",
      "26/26 [==============================] - 0s 2ms/step - loss: 0.2985 - accuracy: 0.8793\n",
      "Epoch 222/300\n",
      "26/26 [==============================] - 0s 2ms/step - loss: 0.3075 - accuracy: 0.8720\n",
      "Epoch 223/300\n",
      "26/26 [==============================] - 0s 2ms/step - loss: 0.3020 - accuracy: 0.8780\n",
      "Epoch 224/300\n",
      "26/26 [==============================] - 0s 2ms/step - loss: 0.3010 - accuracy: 0.8793\n",
      "Epoch 225/300\n",
      "26/26 [==============================] - 0s 2ms/step - loss: 0.2932 - accuracy: 0.8878\n",
      "Epoch 226/300\n",
      "26/26 [==============================] - 0s 2ms/step - loss: 0.2943 - accuracy: 0.8793\n",
      "Epoch 227/300\n",
      "26/26 [==============================] - 0s 2ms/step - loss: 0.2910 - accuracy: 0.8866\n",
      "Epoch 228/300\n",
      "26/26 [==============================] - 0s 2ms/step - loss: 0.2931 - accuracy: 0.8805\n",
      "Epoch 229/300\n",
      "26/26 [==============================] - 0s 2ms/step - loss: 0.3051 - accuracy: 0.8720\n",
      "Epoch 230/300\n",
      "26/26 [==============================] - 0s 2ms/step - loss: 0.2921 - accuracy: 0.8841\n",
      "Epoch 231/300\n",
      "26/26 [==============================] - 0s 2ms/step - loss: 0.3009 - accuracy: 0.8829\n",
      "Epoch 232/300\n",
      "26/26 [==============================] - 0s 2ms/step - loss: 0.3114 - accuracy: 0.8707\n",
      "Epoch 233/300\n",
      "26/26 [==============================] - 0s 2ms/step - loss: 0.3047 - accuracy: 0.8720\n",
      "Epoch 234/300\n",
      "26/26 [==============================] - 0s 2ms/step - loss: 0.3009 - accuracy: 0.8695\n",
      "Epoch 235/300\n",
      "26/26 [==============================] - 0s 2ms/step - loss: 0.2955 - accuracy: 0.8793\n",
      "Epoch 236/300\n",
      "26/26 [==============================] - 0s 2ms/step - loss: 0.2914 - accuracy: 0.8817\n",
      "Epoch 237/300\n",
      "26/26 [==============================] - 0s 2ms/step - loss: 0.2997 - accuracy: 0.8707\n",
      "Epoch 238/300\n",
      "26/26 [==============================] - 0s 2ms/step - loss: 0.3013 - accuracy: 0.8768\n",
      "Epoch 239/300\n",
      "26/26 [==============================] - 0s 2ms/step - loss: 0.3037 - accuracy: 0.8732\n",
      "Epoch 240/300\n",
      "26/26 [==============================] - 0s 2ms/step - loss: 0.2895 - accuracy: 0.8829\n",
      "Epoch 241/300\n",
      "26/26 [==============================] - 0s 2ms/step - loss: 0.3056 - accuracy: 0.8695\n",
      "Epoch 242/300\n",
      "26/26 [==============================] - 0s 2ms/step - loss: 0.2952 - accuracy: 0.8841\n",
      "Epoch 243/300\n",
      "26/26 [==============================] - 0s 2ms/step - loss: 0.2872 - accuracy: 0.8902\n",
      "Epoch 244/300\n",
      "26/26 [==============================] - 0s 2ms/step - loss: 0.3024 - accuracy: 0.8720\n",
      "Epoch 245/300\n"
     ]
    },
    {
     "name": "stdout",
     "output_type": "stream",
     "text": [
      "26/26 [==============================] - 0s 2ms/step - loss: 0.3033 - accuracy: 0.8683\n",
      "Epoch 246/300\n",
      "26/26 [==============================] - 0s 2ms/step - loss: 0.2949 - accuracy: 0.8890\n",
      "Epoch 247/300\n",
      "26/26 [==============================] - 0s 2ms/step - loss: 0.2878 - accuracy: 0.8780\n",
      "Epoch 248/300\n",
      "26/26 [==============================] - 0s 2ms/step - loss: 0.2820 - accuracy: 0.8915\n",
      "Epoch 249/300\n",
      "26/26 [==============================] - 0s 2ms/step - loss: 0.2859 - accuracy: 0.8768\n",
      "Epoch 250/300\n",
      "26/26 [==============================] - 0s 2ms/step - loss: 0.2866 - accuracy: 0.8866\n",
      "Epoch 251/300\n",
      "26/26 [==============================] - 0s 2ms/step - loss: 0.3007 - accuracy: 0.8707\n",
      "Epoch 252/300\n",
      "26/26 [==============================] - 0s 2ms/step - loss: 0.2921 - accuracy: 0.8793\n",
      "Epoch 253/300\n",
      "26/26 [==============================] - 0s 2ms/step - loss: 0.2831 - accuracy: 0.8854\n",
      "Epoch 254/300\n",
      "26/26 [==============================] - 0s 2ms/step - loss: 0.2791 - accuracy: 0.8829\n",
      "Epoch 255/300\n",
      "26/26 [==============================] - 0s 1ms/step - loss: 0.2813 - accuracy: 0.8890\n",
      "Epoch 256/300\n",
      "26/26 [==============================] - 0s 2ms/step - loss: 0.2829 - accuracy: 0.8866\n",
      "Epoch 257/300\n",
      "26/26 [==============================] - 0s 2ms/step - loss: 0.2911 - accuracy: 0.8756\n",
      "Epoch 258/300\n",
      "26/26 [==============================] - 0s 3ms/step - loss: 0.2846 - accuracy: 0.8817\n",
      "Epoch 259/300\n",
      "26/26 [==============================] - 0s 2ms/step - loss: 0.2878 - accuracy: 0.8732\n",
      "Epoch 260/300\n",
      "26/26 [==============================] - 0s 3ms/step - loss: 0.2857 - accuracy: 0.8780\n",
      "Epoch 261/300\n",
      "26/26 [==============================] - 0s 2ms/step - loss: 0.3018 - accuracy: 0.8683\n",
      "Epoch 262/300\n",
      "26/26 [==============================] - 0s 2ms/step - loss: 0.2920 - accuracy: 0.8720\n",
      "Epoch 263/300\n",
      "26/26 [==============================] - 0s 2ms/step - loss: 0.2850 - accuracy: 0.8780\n",
      "Epoch 264/300\n",
      "26/26 [==============================] - 0s 2ms/step - loss: 0.2855 - accuracy: 0.8793\n",
      "Epoch 265/300\n",
      "26/26 [==============================] - 0s 2ms/step - loss: 0.2824 - accuracy: 0.8878\n",
      "Epoch 266/300\n",
      "26/26 [==============================] - 0s 2ms/step - loss: 0.2794 - accuracy: 0.8902\n",
      "Epoch 267/300\n",
      "26/26 [==============================] - 0s 2ms/step - loss: 0.2820 - accuracy: 0.8805\n",
      "Epoch 268/300\n",
      "26/26 [==============================] - 0s 3ms/step - loss: 0.2827 - accuracy: 0.8829\n",
      "Epoch 269/300\n",
      "26/26 [==============================] - 0s 2ms/step - loss: 0.2868 - accuracy: 0.8756\n",
      "Epoch 270/300\n",
      "26/26 [==============================] - 0s 2ms/step - loss: 0.2956 - accuracy: 0.8768\n",
      "Epoch 271/300\n",
      "26/26 [==============================] - 0s 2ms/step - loss: 0.2808 - accuracy: 0.8866\n",
      "Epoch 272/300\n",
      "26/26 [==============================] - 0s 1ms/step - loss: 0.2992 - accuracy: 0.8780\n",
      "Epoch 273/300\n",
      "26/26 [==============================] - 0s 2ms/step - loss: 0.2923 - accuracy: 0.8817\n",
      "Epoch 274/300\n",
      "26/26 [==============================] - 0s 1ms/step - loss: 0.2808 - accuracy: 0.8854\n",
      "Epoch 275/300\n",
      "26/26 [==============================] - 0s 1ms/step - loss: 0.3271 - accuracy: 0.8500\n",
      "Epoch 276/300\n",
      "26/26 [==============================] - 0s 2ms/step - loss: 0.2761 - accuracy: 0.8854\n",
      "Epoch 277/300\n",
      "26/26 [==============================] - 0s 1ms/step - loss: 0.2801 - accuracy: 0.8829\n",
      "Epoch 278/300\n",
      "26/26 [==============================] - 0s 1ms/step - loss: 0.2884 - accuracy: 0.8756\n",
      "Epoch 279/300\n",
      "26/26 [==============================] - 0s 2ms/step - loss: 0.2975 - accuracy: 0.8659\n",
      "Epoch 280/300\n",
      "26/26 [==============================] - 0s 2ms/step - loss: 0.2827 - accuracy: 0.8793\n",
      "Epoch 281/300\n",
      "26/26 [==============================] - 0s 2ms/step - loss: 0.2951 - accuracy: 0.8732\n",
      "Epoch 282/300\n",
      "26/26 [==============================] - 0s 1ms/step - loss: 0.2801 - accuracy: 0.8841\n",
      "Epoch 283/300\n",
      "26/26 [==============================] - 0s 1ms/step - loss: 0.2757 - accuracy: 0.8902\n",
      "Epoch 284/300\n",
      "26/26 [==============================] - 0s 1ms/step - loss: 0.2748 - accuracy: 0.8902\n",
      "Epoch 285/300\n",
      "26/26 [==============================] - 0s 1ms/step - loss: 0.2765 - accuracy: 0.8866\n",
      "Epoch 286/300\n",
      "26/26 [==============================] - 0s 2ms/step - loss: 0.2744 - accuracy: 0.8866\n",
      "Epoch 287/300\n",
      "26/26 [==============================] - 0s 1ms/step - loss: 0.2796 - accuracy: 0.8829\n",
      "Epoch 288/300\n",
      "26/26 [==============================] - 0s 2ms/step - loss: 0.2795 - accuracy: 0.8866\n",
      "Epoch 289/300\n",
      "26/26 [==============================] - 0s 2ms/step - loss: 0.2854 - accuracy: 0.8854\n",
      "Epoch 290/300\n",
      "26/26 [==============================] - 0s 1ms/step - loss: 0.2767 - accuracy: 0.8866\n",
      "Epoch 291/300\n",
      "26/26 [==============================] - 0s 1ms/step - loss: 0.2714 - accuracy: 0.8902\n",
      "Epoch 292/300\n",
      "26/26 [==============================] - 0s 1ms/step - loss: 0.2745 - accuracy: 0.8890\n",
      "Epoch 293/300\n",
      "26/26 [==============================] - 0s 2ms/step - loss: 0.2716 - accuracy: 0.8854\n",
      "Epoch 294/300\n",
      "26/26 [==============================] - 0s 2ms/step - loss: 0.2761 - accuracy: 0.8890\n",
      "Epoch 295/300\n",
      "26/26 [==============================] - 0s 2ms/step - loss: 0.2726 - accuracy: 0.8854\n",
      "Epoch 296/300\n",
      "26/26 [==============================] - 0s 1ms/step - loss: 0.2772 - accuracy: 0.8841\n",
      "Epoch 297/300\n",
      "26/26 [==============================] - 0s 2ms/step - loss: 0.2958 - accuracy: 0.8720\n",
      "Epoch 298/300\n",
      "26/26 [==============================] - 0s 1ms/step - loss: 0.2741 - accuracy: 0.8890\n",
      "Epoch 299/300\n",
      "26/26 [==============================] - 0s 2ms/step - loss: 0.2767 - accuracy: 0.8866\n",
      "Epoch 300/300\n",
      "26/26 [==============================] - 0s 3ms/step - loss: 0.2684 - accuracy: 0.8915\n"
     ]
    },
    {
     "data": {
      "text/plain": [
       "<keras.callbacks.History at 0x1a86edc9d90>"
      ]
     },
     "execution_count": 14,
     "metadata": {},
     "output_type": "execute_result"
    }
   ],
   "source": [
    "model.compile(optimizer='adam',loss='binary_crossentropy',metrics=['accuracy'])\n",
    "model.fit(X_train,Y_train, epochs=300, verbose=1)"
   ]
  },
  {
   "cell_type": "code",
   "execution_count": 15,
   "metadata": {},
   "outputs": [],
   "source": [
    "Y_pred_seq = model.predict(X_test)"
   ]
  },
  {
   "cell_type": "code",
   "execution_count": 16,
   "metadata": {},
   "outputs": [],
   "source": [
    "rounded = [round(x[0]) for x in Y_pred_seq]\n",
    "Y_pred_seq = rounded"
   ]
  },
  {
   "cell_type": "code",
   "execution_count": 17,
   "metadata": {},
   "outputs": [
    {
     "name": "stdout",
     "output_type": "stream",
     "text": [
      "The accuracy score achieved using Sequential Model is: 88.78 %\n"
     ]
    }
   ],
   "source": [
    "score_seq = round(accuracy_score(Y_pred_seq,Y_test)*100,2)\n",
    "print(\"The accuracy score achieved using Sequential Model is: \"+str(score_seq)+\" %\")"
   ]
  },
  {
   "cell_type": "markdown",
   "metadata": {},
   "source": [
    "## Dense"
   ]
  },
  {
   "cell_type": "code",
   "execution_count": 20,
   "metadata": {},
   "outputs": [],
   "source": [
    "model = Sequential()\n",
    "model.add(Dense(30, input_dim = X_train.shape[1], activation='elu'))\n",
    "model.add(Dense(20, activation='elu'))\n",
    "model.add(Dense(10, activation='elu'))\n",
    "model.add(Dense(5, activation='elu'))\n",
    "model.add(Dense(1, activation='sigmoid'))"
   ]
  },
  {
   "cell_type": "code",
   "execution_count": 21,
   "metadata": {},
   "outputs": [
    {
     "data": {
      "text/plain": [
       "<keras.callbacks.History at 0x1a871bd8490>"
      ]
     },
     "execution_count": 21,
     "metadata": {},
     "output_type": "execute_result"
    }
   ],
   "source": [
    "model.compile(loss='logcosh', optimizer='adam', metrics=['accuracy'])"
   ]
  },
  {
   "cell_type": "code",
   "execution_count": 23,
   "metadata": {},
   "outputs": [
    {
     "name": "stdout",
     "output_type": "stream",
     "text": [
      "Epoch 1/300\n",
      "26/26 [==============================] - 0s 3ms/step - loss: 0.0450 - accuracy: 0.8780\n",
      "Epoch 2/300\n",
      "26/26 [==============================] - 0s 2ms/step - loss: 0.0421 - accuracy: 0.8841\n",
      "Epoch 3/300\n",
      "26/26 [==============================] - 0s 2ms/step - loss: 0.0390 - accuracy: 0.8963\n",
      "Epoch 4/300\n",
      "26/26 [==============================] - 0s 2ms/step - loss: 0.0486 - accuracy: 0.8671\n",
      "Epoch 5/300\n",
      "26/26 [==============================] - 0s 2ms/step - loss: 0.0360 - accuracy: 0.9073\n",
      "Epoch 6/300\n",
      "26/26 [==============================] - 0s 2ms/step - loss: 0.0363 - accuracy: 0.8976\n",
      "Epoch 7/300\n",
      "26/26 [==============================] - 0s 2ms/step - loss: 0.0364 - accuracy: 0.8988\n",
      "Epoch 8/300\n",
      "26/26 [==============================] - 0s 3ms/step - loss: 0.0353 - accuracy: 0.9085\n",
      "Epoch 9/300\n",
      "26/26 [==============================] - 0s 3ms/step - loss: 0.0389 - accuracy: 0.8915\n",
      "Epoch 10/300\n",
      "26/26 [==============================] - 0s 3ms/step - loss: 0.0357 - accuracy: 0.9024\n",
      "Epoch 11/300\n",
      "26/26 [==============================] - 0s 2ms/step - loss: 0.0351 - accuracy: 0.9049\n",
      "Epoch 12/300\n",
      "26/26 [==============================] - 0s 2ms/step - loss: 0.0352 - accuracy: 0.9024\n",
      "Epoch 13/300\n",
      "26/26 [==============================] - 0s 1ms/step - loss: 0.0364 - accuracy: 0.8976\n",
      "Epoch 14/300\n",
      "26/26 [==============================] - 0s 2ms/step - loss: 0.0369 - accuracy: 0.8976\n",
      "Epoch 15/300\n",
      "26/26 [==============================] - 0s 2ms/step - loss: 0.0344 - accuracy: 0.9037\n",
      "Epoch 16/300\n",
      "26/26 [==============================] - 0s 2ms/step - loss: 0.0353 - accuracy: 0.9049\n",
      "Epoch 17/300\n",
      "26/26 [==============================] - 0s 2ms/step - loss: 0.0336 - accuracy: 0.9110\n",
      "Epoch 18/300\n",
      "26/26 [==============================] - 0s 2ms/step - loss: 0.0328 - accuracy: 0.9110\n",
      "Epoch 19/300\n",
      "26/26 [==============================] - 0s 2ms/step - loss: 0.0372 - accuracy: 0.8951\n",
      "Epoch 20/300\n",
      "26/26 [==============================] - 0s 2ms/step - loss: 0.0344 - accuracy: 0.9073\n",
      "Epoch 21/300\n",
      "26/26 [==============================] - 0s 2ms/step - loss: 0.0360 - accuracy: 0.8963\n",
      "Epoch 22/300\n",
      "26/26 [==============================] - 0s 2ms/step - loss: 0.0357 - accuracy: 0.9037\n",
      "Epoch 23/300\n",
      "26/26 [==============================] - 0s 2ms/step - loss: 0.0368 - accuracy: 0.8951\n",
      "Epoch 24/300\n",
      "26/26 [==============================] - 0s 2ms/step - loss: 0.0388 - accuracy: 0.8951\n",
      "Epoch 25/300\n",
      "26/26 [==============================] - 0s 2ms/step - loss: 0.0408 - accuracy: 0.8793\n",
      "Epoch 26/300\n",
      "26/26 [==============================] - 0s 2ms/step - loss: 0.0352 - accuracy: 0.9024\n",
      "Epoch 27/300\n",
      "26/26 [==============================] - 0s 2ms/step - loss: 0.0345 - accuracy: 0.9037\n",
      "Epoch 28/300\n",
      "26/26 [==============================] - 0s 2ms/step - loss: 0.0333 - accuracy: 0.9085\n",
      "Epoch 29/300\n",
      "26/26 [==============================] - 0s 2ms/step - loss: 0.0342 - accuracy: 0.9049\n",
      "Epoch 30/300\n",
      "26/26 [==============================] - 0s 2ms/step - loss: 0.0364 - accuracy: 0.9012\n",
      "Epoch 31/300\n",
      "26/26 [==============================] - 0s 2ms/step - loss: 0.0350 - accuracy: 0.9049\n",
      "Epoch 32/300\n",
      "26/26 [==============================] - 0s 2ms/step - loss: 0.0322 - accuracy: 0.9061\n",
      "Epoch 33/300\n",
      "26/26 [==============================] - 0s 2ms/step - loss: 0.0313 - accuracy: 0.9122\n",
      "Epoch 34/300\n",
      "26/26 [==============================] - 0s 2ms/step - loss: 0.0316 - accuracy: 0.9110\n",
      "Epoch 35/300\n",
      "26/26 [==============================] - 0s 2ms/step - loss: 0.0334 - accuracy: 0.9085\n",
      "Epoch 36/300\n",
      "26/26 [==============================] - 0s 2ms/step - loss: 0.0369 - accuracy: 0.8988\n",
      "Epoch 37/300\n",
      "26/26 [==============================] - 0s 2ms/step - loss: 0.0349 - accuracy: 0.9037\n",
      "Epoch 38/300\n",
      "26/26 [==============================] - 0s 2ms/step - loss: 0.0361 - accuracy: 0.8988\n",
      "Epoch 39/300\n",
      "26/26 [==============================] - 0s 2ms/step - loss: 0.0334 - accuracy: 0.9085\n",
      "Epoch 40/300\n",
      "26/26 [==============================] - 0s 2ms/step - loss: 0.0345 - accuracy: 0.9061\n",
      "Epoch 41/300\n",
      "26/26 [==============================] - 0s 1ms/step - loss: 0.0402 - accuracy: 0.8878\n",
      "Epoch 42/300\n",
      "26/26 [==============================] - 0s 3ms/step - loss: 0.0371 - accuracy: 0.8927\n",
      "Epoch 43/300\n",
      "26/26 [==============================] - 0s 2ms/step - loss: 0.0451 - accuracy: 0.8610\n",
      "Epoch 44/300\n",
      "26/26 [==============================] - 0s 2ms/step - loss: 0.0437 - accuracy: 0.8817\n",
      "Epoch 45/300\n",
      "26/26 [==============================] - 0s 3ms/step - loss: 0.0430 - accuracy: 0.8793\n",
      "Epoch 46/300\n",
      "26/26 [==============================] - 0s 2ms/step - loss: 0.0336 - accuracy: 0.9012\n",
      "Epoch 47/300\n",
      "26/26 [==============================] - 0s 2ms/step - loss: 0.0393 - accuracy: 0.8878\n",
      "Epoch 48/300\n",
      "26/26 [==============================] - 0s 2ms/step - loss: 0.0375 - accuracy: 0.8915\n",
      "Epoch 49/300\n",
      "26/26 [==============================] - 0s 2ms/step - loss: 0.0362 - accuracy: 0.8976\n",
      "Epoch 50/300\n",
      "26/26 [==============================] - 0s 2ms/step - loss: 0.0324 - accuracy: 0.9110\n",
      "Epoch 51/300\n",
      "26/26 [==============================] - 0s 2ms/step - loss: 0.0347 - accuracy: 0.9000\n",
      "Epoch 52/300\n",
      "26/26 [==============================] - 0s 2ms/step - loss: 0.0346 - accuracy: 0.9024\n",
      "Epoch 53/300\n",
      "26/26 [==============================] - 0s 2ms/step - loss: 0.0345 - accuracy: 0.9024\n",
      "Epoch 54/300\n",
      "26/26 [==============================] - 0s 2ms/step - loss: 0.0328 - accuracy: 0.9085\n",
      "Epoch 55/300\n",
      "26/26 [==============================] - 0s 2ms/step - loss: 0.0307 - accuracy: 0.9134\n",
      "Epoch 56/300\n",
      "26/26 [==============================] - 0s 1ms/step - loss: 0.0312 - accuracy: 0.9146\n",
      "Epoch 57/300\n",
      "26/26 [==============================] - 0s 2ms/step - loss: 0.0304 - accuracy: 0.9122\n",
      "Epoch 58/300\n",
      "26/26 [==============================] - 0s 2ms/step - loss: 0.0301 - accuracy: 0.9134\n",
      "Epoch 59/300\n",
      "26/26 [==============================] - 0s 2ms/step - loss: 0.0307 - accuracy: 0.9134\n",
      "Epoch 60/300\n",
      "26/26 [==============================] - 0s 2ms/step - loss: 0.0324 - accuracy: 0.9122\n",
      "Epoch 61/300\n",
      "26/26 [==============================] - 0s 2ms/step - loss: 0.0366 - accuracy: 0.8927\n",
      "Epoch 62/300\n",
      "26/26 [==============================] - 0s 2ms/step - loss: 0.0325 - accuracy: 0.9122\n",
      "Epoch 63/300\n",
      "26/26 [==============================] - 0s 2ms/step - loss: 0.0308 - accuracy: 0.9134\n",
      "Epoch 64/300\n",
      "26/26 [==============================] - 0s 2ms/step - loss: 0.0311 - accuracy: 0.9098\n",
      "Epoch 65/300\n",
      "26/26 [==============================] - 0s 2ms/step - loss: 0.0294 - accuracy: 0.9195\n",
      "Epoch 66/300\n",
      "26/26 [==============================] - 0s 2ms/step - loss: 0.0304 - accuracy: 0.9183\n",
      "Epoch 67/300\n",
      "26/26 [==============================] - 0s 2ms/step - loss: 0.0312 - accuracy: 0.9122\n",
      "Epoch 68/300\n",
      "26/26 [==============================] - 0s 2ms/step - loss: 0.0306 - accuracy: 0.9159\n",
      "Epoch 69/300\n",
      "26/26 [==============================] - 0s 2ms/step - loss: 0.0304 - accuracy: 0.9207\n",
      "Epoch 70/300\n",
      "26/26 [==============================] - 0s 2ms/step - loss: 0.0315 - accuracy: 0.9085\n",
      "Epoch 71/300\n",
      "26/26 [==============================] - 0s 2ms/step - loss: 0.0286 - accuracy: 0.9220\n",
      "Epoch 72/300\n",
      "26/26 [==============================] - 0s 1ms/step - loss: 0.0344 - accuracy: 0.9049\n",
      "Epoch 73/300\n",
      "26/26 [==============================] - 0s 2ms/step - loss: 0.0329 - accuracy: 0.9085\n",
      "Epoch 74/300\n",
      "26/26 [==============================] - 0s 2ms/step - loss: 0.0314 - accuracy: 0.9159\n",
      "Epoch 75/300\n",
      "26/26 [==============================] - 0s 2ms/step - loss: 0.0318 - accuracy: 0.9207\n",
      "Epoch 76/300\n",
      "26/26 [==============================] - 0s 2ms/step - loss: 0.0316 - accuracy: 0.9183\n",
      "Epoch 77/300\n",
      "26/26 [==============================] - 0s 2ms/step - loss: 0.0307 - accuracy: 0.9207\n",
      "Epoch 78/300\n",
      "26/26 [==============================] - 0s 2ms/step - loss: 0.0312 - accuracy: 0.9134\n",
      "Epoch 79/300\n",
      "26/26 [==============================] - 0s 2ms/step - loss: 0.0329 - accuracy: 0.9037\n",
      "Epoch 80/300\n",
      "26/26 [==============================] - 0s 2ms/step - loss: 0.0314 - accuracy: 0.9171\n",
      "Epoch 81/300\n",
      "26/26 [==============================] - 0s 2ms/step - loss: 0.0314 - accuracy: 0.9085\n",
      "Epoch 82/300\n",
      "26/26 [==============================] - 0s 2ms/step - loss: 0.0342 - accuracy: 0.9012\n",
      "Epoch 83/300\n"
     ]
    },
    {
     "name": "stdout",
     "output_type": "stream",
     "text": [
      "26/26 [==============================] - 0s 2ms/step - loss: 0.0437 - accuracy: 0.8793\n",
      "Epoch 84/300\n",
      "26/26 [==============================] - 0s 2ms/step - loss: 0.0345 - accuracy: 0.8976\n",
      "Epoch 85/300\n",
      "26/26 [==============================] - 0s 1ms/step - loss: 0.0508 - accuracy: 0.8634\n",
      "Epoch 86/300\n",
      "26/26 [==============================] - 0s 2ms/step - loss: 0.0489 - accuracy: 0.8646\n",
      "Epoch 87/300\n",
      "26/26 [==============================] - 0s 1ms/step - loss: 0.0334 - accuracy: 0.9134\n",
      "Epoch 88/300\n",
      "26/26 [==============================] - 0s 2ms/step - loss: 0.0367 - accuracy: 0.9061\n",
      "Epoch 89/300\n",
      "26/26 [==============================] - 0s 4ms/step - loss: 0.0351 - accuracy: 0.9024\n",
      "Epoch 90/300\n",
      "26/26 [==============================] - 0s 2ms/step - loss: 0.0336 - accuracy: 0.9049\n",
      "Epoch 91/300\n",
      "26/26 [==============================] - 0s 2ms/step - loss: 0.0349 - accuracy: 0.9085\n",
      "Epoch 92/300\n",
      "26/26 [==============================] - 0s 2ms/step - loss: 0.0301 - accuracy: 0.9195\n",
      "Epoch 93/300\n",
      "26/26 [==============================] - 0s 2ms/step - loss: 0.0293 - accuracy: 0.9183\n",
      "Epoch 94/300\n",
      "26/26 [==============================] - 0s 2ms/step - loss: 0.0293 - accuracy: 0.9207\n",
      "Epoch 95/300\n",
      "26/26 [==============================] - 0s 2ms/step - loss: 0.0329 - accuracy: 0.9085\n",
      "Epoch 96/300\n",
      "26/26 [==============================] - 0s 2ms/step - loss: 0.0324 - accuracy: 0.9122\n",
      "Epoch 97/300\n",
      "26/26 [==============================] - 0s 2ms/step - loss: 0.0277 - accuracy: 0.9256\n",
      "Epoch 98/300\n",
      "26/26 [==============================] - 0s 2ms/step - loss: 0.0288 - accuracy: 0.9244\n",
      "Epoch 99/300\n",
      "26/26 [==============================] - 0s 2ms/step - loss: 0.0310 - accuracy: 0.9171\n",
      "Epoch 100/300\n",
      "26/26 [==============================] - 0s 2ms/step - loss: 0.0277 - accuracy: 0.9268\n",
      "Epoch 101/300\n",
      "26/26 [==============================] - 0s 2ms/step - loss: 0.0329 - accuracy: 0.9171\n",
      "Epoch 102/300\n",
      "26/26 [==============================] - 0s 2ms/step - loss: 0.0343 - accuracy: 0.9110\n",
      "Epoch 103/300\n",
      "26/26 [==============================] - 0s 2ms/step - loss: 0.0302 - accuracy: 0.9110\n",
      "Epoch 104/300\n",
      "26/26 [==============================] - 0s 2ms/step - loss: 0.0275 - accuracy: 0.9268\n",
      "Epoch 105/300\n",
      "26/26 [==============================] - 0s 2ms/step - loss: 0.0280 - accuracy: 0.9268\n",
      "Epoch 106/300\n",
      "26/26 [==============================] - 0s 2ms/step - loss: 0.0313 - accuracy: 0.9134\n",
      "Epoch 107/300\n",
      "26/26 [==============================] - 0s 2ms/step - loss: 0.0358 - accuracy: 0.9037\n",
      "Epoch 108/300\n",
      "26/26 [==============================] - 0s 2ms/step - loss: 0.0318 - accuracy: 0.9098\n",
      "Epoch 109/300\n",
      "26/26 [==============================] - 0s 2ms/step - loss: 0.0275 - accuracy: 0.9293\n",
      "Epoch 110/300\n",
      "26/26 [==============================] - 0s 2ms/step - loss: 0.0310 - accuracy: 0.9207\n",
      "Epoch 111/300\n",
      "26/26 [==============================] - 0s 2ms/step - loss: 0.0288 - accuracy: 0.9220\n",
      "Epoch 112/300\n",
      "26/26 [==============================] - 0s 2ms/step - loss: 0.0282 - accuracy: 0.9244\n",
      "Epoch 113/300\n",
      "26/26 [==============================] - 0s 2ms/step - loss: 0.0315 - accuracy: 0.9183\n",
      "Epoch 114/300\n",
      "26/26 [==============================] - 0s 2ms/step - loss: 0.0288 - accuracy: 0.9220\n",
      "Epoch 115/300\n",
      "26/26 [==============================] - 0s 2ms/step - loss: 0.0289 - accuracy: 0.9268\n",
      "Epoch 116/300\n",
      "26/26 [==============================] - 0s 2ms/step - loss: 0.0287 - accuracy: 0.9244\n",
      "Epoch 117/300\n",
      "26/26 [==============================] - 0s 3ms/step - loss: 0.0289 - accuracy: 0.9317\n",
      "Epoch 118/300\n",
      "26/26 [==============================] - 0s 3ms/step - loss: 0.0273 - accuracy: 0.9280\n",
      "Epoch 119/300\n",
      "26/26 [==============================] - 0s 4ms/step - loss: 0.0257 - accuracy: 0.9415\n",
      "Epoch 120/300\n",
      "26/26 [==============================] - 0s 5ms/step - loss: 0.0264 - accuracy: 0.9354\n",
      "Epoch 121/300\n",
      "26/26 [==============================] - 0s 3ms/step - loss: 0.0266 - accuracy: 0.9329\n",
      "Epoch 122/300\n",
      "26/26 [==============================] - 0s 2ms/step - loss: 0.0294 - accuracy: 0.9220\n",
      "Epoch 123/300\n",
      "26/26 [==============================] - 0s 2ms/step - loss: 0.0307 - accuracy: 0.9244\n",
      "Epoch 124/300\n",
      "26/26 [==============================] - 0s 2ms/step - loss: 0.0284 - accuracy: 0.9293\n",
      "Epoch 125/300\n",
      "26/26 [==============================] - 0s 2ms/step - loss: 0.0248 - accuracy: 0.9415\n",
      "Epoch 126/300\n",
      "26/26 [==============================] - 0s 2ms/step - loss: 0.0260 - accuracy: 0.9329\n",
      "Epoch 127/300\n",
      "26/26 [==============================] - 0s 2ms/step - loss: 0.0263 - accuracy: 0.9341\n",
      "Epoch 128/300\n",
      "26/26 [==============================] - 0s 2ms/step - loss: 0.0295 - accuracy: 0.9220\n",
      "Epoch 129/300\n",
      "26/26 [==============================] - 0s 2ms/step - loss: 0.0354 - accuracy: 0.9049\n",
      "Epoch 130/300\n",
      "26/26 [==============================] - 0s 2ms/step - loss: 0.0343 - accuracy: 0.9134\n",
      "Epoch 131/300\n",
      "26/26 [==============================] - 0s 2ms/step - loss: 0.0287 - accuracy: 0.9207\n",
      "Epoch 132/300\n",
      "26/26 [==============================] - 0s 2ms/step - loss: 0.0275 - accuracy: 0.9268\n",
      "Epoch 133/300\n",
      "26/26 [==============================] - 0s 2ms/step - loss: 0.0318 - accuracy: 0.9134\n",
      "Epoch 134/300\n",
      "26/26 [==============================] - 0s 2ms/step - loss: 0.0271 - accuracy: 0.9341\n",
      "Epoch 135/300\n",
      "26/26 [==============================] - 0s 2ms/step - loss: 0.0283 - accuracy: 0.9268\n",
      "Epoch 136/300\n",
      "26/26 [==============================] - 0s 2ms/step - loss: 0.0284 - accuracy: 0.9268\n",
      "Epoch 137/300\n",
      "26/26 [==============================] - 0s 2ms/step - loss: 0.0266 - accuracy: 0.9317\n",
      "Epoch 138/300\n",
      "26/26 [==============================] - 0s 2ms/step - loss: 0.0289 - accuracy: 0.9244\n",
      "Epoch 139/300\n",
      "26/26 [==============================] - 0s 2ms/step - loss: 0.0296 - accuracy: 0.9232\n",
      "Epoch 140/300\n",
      "26/26 [==============================] - 0s 2ms/step - loss: 0.0265 - accuracy: 0.9329\n",
      "Epoch 141/300\n",
      "26/26 [==============================] - 0s 2ms/step - loss: 0.0251 - accuracy: 0.9366\n",
      "Epoch 142/300\n",
      "26/26 [==============================] - 0s 2ms/step - loss: 0.0259 - accuracy: 0.9378\n",
      "Epoch 143/300\n",
      "26/26 [==============================] - 0s 2ms/step - loss: 0.0252 - accuracy: 0.9402\n",
      "Epoch 144/300\n",
      "26/26 [==============================] - 0s 2ms/step - loss: 0.0294 - accuracy: 0.9244\n",
      "Epoch 145/300\n",
      "26/26 [==============================] - 0s 2ms/step - loss: 0.0320 - accuracy: 0.9085\n",
      "Epoch 146/300\n",
      "26/26 [==============================] - 0s 2ms/step - loss: 0.0284 - accuracy: 0.9280\n",
      "Epoch 147/300\n",
      "26/26 [==============================] - 0s 2ms/step - loss: 0.0263 - accuracy: 0.9390\n",
      "Epoch 148/300\n",
      "26/26 [==============================] - 0s 2ms/step - loss: 0.0264 - accuracy: 0.9329\n",
      "Epoch 149/300\n",
      "26/26 [==============================] - 0s 2ms/step - loss: 0.0255 - accuracy: 0.9378\n",
      "Epoch 150/300\n",
      "26/26 [==============================] - 0s 2ms/step - loss: 0.0293 - accuracy: 0.9280\n",
      "Epoch 151/300\n",
      "26/26 [==============================] - 0s 3ms/step - loss: 0.0259 - accuracy: 0.9341\n",
      "Epoch 152/300\n",
      "26/26 [==============================] - 0s 2ms/step - loss: 0.0267 - accuracy: 0.9293\n",
      "Epoch 153/300\n",
      "26/26 [==============================] - 0s 2ms/step - loss: 0.0237 - accuracy: 0.9427\n",
      "Epoch 154/300\n",
      "26/26 [==============================] - 0s 2ms/step - loss: 0.0267 - accuracy: 0.9378\n",
      "Epoch 155/300\n",
      "26/26 [==============================] - 0s 2ms/step - loss: 0.0266 - accuracy: 0.9354\n",
      "Epoch 156/300\n",
      "26/26 [==============================] - 0s 2ms/step - loss: 0.0257 - accuracy: 0.9341\n",
      "Epoch 157/300\n",
      "26/26 [==============================] - 0s 2ms/step - loss: 0.0252 - accuracy: 0.9329\n",
      "Epoch 158/300\n",
      "26/26 [==============================] - 0s 2ms/step - loss: 0.0370 - accuracy: 0.9012\n",
      "Epoch 159/300\n",
      "26/26 [==============================] - 0s 2ms/step - loss: 0.0305 - accuracy: 0.9122\n",
      "Epoch 160/300\n",
      "26/26 [==============================] - 0s 2ms/step - loss: 0.0288 - accuracy: 0.9244\n",
      "Epoch 161/300\n",
      "26/26 [==============================] - 0s 2ms/step - loss: 0.0316 - accuracy: 0.9171\n",
      "Epoch 162/300\n",
      "26/26 [==============================] - 0s 2ms/step - loss: 0.0251 - accuracy: 0.9390\n",
      "Epoch 163/300\n",
      "26/26 [==============================] - 0s 2ms/step - loss: 0.0273 - accuracy: 0.9268\n",
      "Epoch 164/300\n"
     ]
    },
    {
     "name": "stdout",
     "output_type": "stream",
     "text": [
      "26/26 [==============================] - 0s 2ms/step - loss: 0.0249 - accuracy: 0.9402\n",
      "Epoch 165/300\n",
      "26/26 [==============================] - 0s 2ms/step - loss: 0.0249 - accuracy: 0.9402\n",
      "Epoch 166/300\n",
      "26/26 [==============================] - 0s 2ms/step - loss: 0.0250 - accuracy: 0.9366\n",
      "Epoch 167/300\n",
      "26/26 [==============================] - 0s 2ms/step - loss: 0.0276 - accuracy: 0.9268\n",
      "Epoch 168/300\n",
      "26/26 [==============================] - 0s 2ms/step - loss: 0.0292 - accuracy: 0.9244\n",
      "Epoch 169/300\n",
      "26/26 [==============================] - 0s 2ms/step - loss: 0.0245 - accuracy: 0.9354\n",
      "Epoch 170/300\n",
      "26/26 [==============================] - 0s 2ms/step - loss: 0.0263 - accuracy: 0.9402\n",
      "Epoch 171/300\n",
      "26/26 [==============================] - 0s 2ms/step - loss: 0.0253 - accuracy: 0.9378\n",
      "Epoch 172/300\n",
      "26/26 [==============================] - 0s 1ms/step - loss: 0.0261 - accuracy: 0.9317\n",
      "Epoch 173/300\n",
      "26/26 [==============================] - 0s 2ms/step - loss: 0.0278 - accuracy: 0.9317\n",
      "Epoch 174/300\n",
      "26/26 [==============================] - 0s 2ms/step - loss: 0.0259 - accuracy: 0.9366\n",
      "Epoch 175/300\n",
      "26/26 [==============================] - 0s 2ms/step - loss: 0.0286 - accuracy: 0.9268\n",
      "Epoch 176/300\n",
      "26/26 [==============================] - 0s 2ms/step - loss: 0.0274 - accuracy: 0.9329\n",
      "Epoch 177/300\n",
      "26/26 [==============================] - 0s 2ms/step - loss: 0.0249 - accuracy: 0.9390\n",
      "Epoch 178/300\n",
      "26/26 [==============================] - 0s 2ms/step - loss: 0.0238 - accuracy: 0.9378\n",
      "Epoch 179/300\n",
      "26/26 [==============================] - 0s 2ms/step - loss: 0.0266 - accuracy: 0.9354\n",
      "Epoch 180/300\n",
      "26/26 [==============================] - 0s 2ms/step - loss: 0.0336 - accuracy: 0.9061\n",
      "Epoch 181/300\n",
      "26/26 [==============================] - 0s 2ms/step - loss: 0.0241 - accuracy: 0.9390\n",
      "Epoch 182/300\n",
      "26/26 [==============================] - 0s 2ms/step - loss: 0.0245 - accuracy: 0.9354\n",
      "Epoch 183/300\n",
      "26/26 [==============================] - 0s 2ms/step - loss: 0.0267 - accuracy: 0.9354\n",
      "Epoch 184/300\n",
      "26/26 [==============================] - 0s 2ms/step - loss: 0.0243 - accuracy: 0.9390\n",
      "Epoch 185/300\n",
      "26/26 [==============================] - 0s 3ms/step - loss: 0.0218 - accuracy: 0.9500\n",
      "Epoch 186/300\n",
      "26/26 [==============================] - 0s 2ms/step - loss: 0.0292 - accuracy: 0.9207\n",
      "Epoch 187/300\n",
      "26/26 [==============================] - 0s 2ms/step - loss: 0.0303 - accuracy: 0.9183\n",
      "Epoch 188/300\n",
      "26/26 [==============================] - 0s 3ms/step - loss: 0.0276 - accuracy: 0.9329\n",
      "Epoch 189/300\n",
      "26/26 [==============================] - 0s 2ms/step - loss: 0.0241 - accuracy: 0.9402\n",
      "Epoch 190/300\n",
      "26/26 [==============================] - 0s 2ms/step - loss: 0.0286 - accuracy: 0.9220\n",
      "Epoch 191/300\n",
      "26/26 [==============================] - 0s 2ms/step - loss: 0.0252 - accuracy: 0.9317\n",
      "Epoch 192/300\n",
      "26/26 [==============================] - 0s 2ms/step - loss: 0.0248 - accuracy: 0.9378\n",
      "Epoch 193/300\n",
      "26/26 [==============================] - 0s 2ms/step - loss: 0.0219 - accuracy: 0.9488\n",
      "Epoch 194/300\n",
      "26/26 [==============================] - 0s 2ms/step - loss: 0.0256 - accuracy: 0.9341\n",
      "Epoch 195/300\n",
      "26/26 [==============================] - 0s 2ms/step - loss: 0.0228 - accuracy: 0.9427\n",
      "Epoch 196/300\n",
      "26/26 [==============================] - 0s 2ms/step - loss: 0.0262 - accuracy: 0.9305\n",
      "Epoch 197/300\n",
      "26/26 [==============================] - 0s 2ms/step - loss: 0.0256 - accuracy: 0.9390\n",
      "Epoch 198/300\n",
      "26/26 [==============================] - 0s 2ms/step - loss: 0.0232 - accuracy: 0.9390\n",
      "Epoch 199/300\n",
      "26/26 [==============================] - 0s 2ms/step - loss: 0.0215 - accuracy: 0.9500\n",
      "Epoch 200/300\n",
      "26/26 [==============================] - 0s 2ms/step - loss: 0.0225 - accuracy: 0.9451\n",
      "Epoch 201/300\n",
      "26/26 [==============================] - 0s 2ms/step - loss: 0.0251 - accuracy: 0.9354\n",
      "Epoch 202/300\n",
      "26/26 [==============================] - 0s 2ms/step - loss: 0.0251 - accuracy: 0.9378\n",
      "Epoch 203/300\n",
      "26/26 [==============================] - 0s 2ms/step - loss: 0.0290 - accuracy: 0.9220\n",
      "Epoch 204/300\n",
      "26/26 [==============================] - 0s 2ms/step - loss: 0.0291 - accuracy: 0.9244\n",
      "Epoch 205/300\n",
      "26/26 [==============================] - 0s 2ms/step - loss: 0.0295 - accuracy: 0.9220\n",
      "Epoch 206/300\n",
      "26/26 [==============================] - 0s 2ms/step - loss: 0.0210 - accuracy: 0.9524\n",
      "Epoch 207/300\n",
      "26/26 [==============================] - 0s 2ms/step - loss: 0.0207 - accuracy: 0.9524\n",
      "Epoch 208/300\n",
      "26/26 [==============================] - 0s 2ms/step - loss: 0.0232 - accuracy: 0.9463\n",
      "Epoch 209/300\n",
      "26/26 [==============================] - 0s 2ms/step - loss: 0.0275 - accuracy: 0.9280\n",
      "Epoch 210/300\n",
      "26/26 [==============================] - 0s 2ms/step - loss: 0.0240 - accuracy: 0.9463\n",
      "Epoch 211/300\n",
      "26/26 [==============================] - 0s 2ms/step - loss: 0.0275 - accuracy: 0.9354\n",
      "Epoch 212/300\n",
      "26/26 [==============================] - 0s 2ms/step - loss: 0.0277 - accuracy: 0.9341\n",
      "Epoch 213/300\n",
      "26/26 [==============================] - 0s 2ms/step - loss: 0.0356 - accuracy: 0.9122\n",
      "Epoch 214/300\n",
      "26/26 [==============================] - 0s 2ms/step - loss: 0.0228 - accuracy: 0.9402\n",
      "Epoch 215/300\n",
      "26/26 [==============================] - 0s 2ms/step - loss: 0.0209 - accuracy: 0.9524\n",
      "Epoch 216/300\n",
      "26/26 [==============================] - 0s 2ms/step - loss: 0.0265 - accuracy: 0.9280\n",
      "Epoch 217/300\n",
      "26/26 [==============================] - 0s 2ms/step - loss: 0.0518 - accuracy: 0.8634\n",
      "Epoch 218/300\n",
      "26/26 [==============================] - 0s 2ms/step - loss: 0.0293 - accuracy: 0.9183\n",
      "Epoch 219/300\n",
      "26/26 [==============================] - 0s 2ms/step - loss: 0.0210 - accuracy: 0.9488\n",
      "Epoch 220/300\n",
      "26/26 [==============================] - 0s 2ms/step - loss: 0.0222 - accuracy: 0.9427\n",
      "Epoch 221/300\n",
      "26/26 [==============================] - 0s 2ms/step - loss: 0.0201 - accuracy: 0.9500\n",
      "Epoch 222/300\n",
      "26/26 [==============================] - 0s 2ms/step - loss: 0.0223 - accuracy: 0.9427\n",
      "Epoch 223/300\n",
      "26/26 [==============================] - 0s 3ms/step - loss: 0.0272 - accuracy: 0.9256\n",
      "Epoch 224/300\n",
      "26/26 [==============================] - 0s 2ms/step - loss: 0.0234 - accuracy: 0.9415\n",
      "Epoch 225/300\n",
      "26/26 [==============================] - 0s 2ms/step - loss: 0.0237 - accuracy: 0.9402\n",
      "Epoch 226/300\n",
      "26/26 [==============================] - 0s 2ms/step - loss: 0.0230 - accuracy: 0.9439\n",
      "Epoch 227/300\n",
      "26/26 [==============================] - 0s 2ms/step - loss: 0.0216 - accuracy: 0.9488\n",
      "Epoch 228/300\n",
      "26/26 [==============================] - 0s 2ms/step - loss: 0.0207 - accuracy: 0.9476\n",
      "Epoch 229/300\n",
      "26/26 [==============================] - 0s 2ms/step - loss: 0.0205 - accuracy: 0.9549\n",
      "Epoch 230/300\n",
      "26/26 [==============================] - 0s 2ms/step - loss: 0.0232 - accuracy: 0.9390\n",
      "Epoch 231/300\n",
      "26/26 [==============================] - 0s 2ms/step - loss: 0.0214 - accuracy: 0.9451\n",
      "Epoch 232/300\n",
      "26/26 [==============================] - 0s 2ms/step - loss: 0.0212 - accuracy: 0.9524\n",
      "Epoch 233/300\n",
      "26/26 [==============================] - 0s 2ms/step - loss: 0.0221 - accuracy: 0.9476\n",
      "Epoch 234/300\n",
      "26/26 [==============================] - 0s 2ms/step - loss: 0.0209 - accuracy: 0.9488\n",
      "Epoch 235/300\n",
      "26/26 [==============================] - 0s 2ms/step - loss: 0.0263 - accuracy: 0.9354\n",
      "Epoch 236/300\n",
      "26/26 [==============================] - 0s 2ms/step - loss: 0.0268 - accuracy: 0.9354\n",
      "Epoch 237/300\n",
      "26/26 [==============================] - 0s 2ms/step - loss: 0.0232 - accuracy: 0.9390\n",
      "Epoch 238/300\n",
      "26/26 [==============================] - 0s 2ms/step - loss: 0.0201 - accuracy: 0.9500\n",
      "Epoch 239/300\n",
      "26/26 [==============================] - 0s 2ms/step - loss: 0.0206 - accuracy: 0.9549\n",
      "Epoch 240/300\n",
      "26/26 [==============================] - 0s 2ms/step - loss: 0.0217 - accuracy: 0.9488\n",
      "Epoch 241/300\n",
      "26/26 [==============================] - 0s 2ms/step - loss: 0.0267 - accuracy: 0.9280\n",
      "Epoch 242/300\n",
      "26/26 [==============================] - 0s 2ms/step - loss: 0.0234 - accuracy: 0.9427\n",
      "Epoch 243/300\n",
      "26/26 [==============================] - 0s 2ms/step - loss: 0.0221 - accuracy: 0.9463\n",
      "Epoch 244/300\n",
      "26/26 [==============================] - 0s 2ms/step - loss: 0.0274 - accuracy: 0.9305\n",
      "Epoch 245/300\n"
     ]
    },
    {
     "name": "stdout",
     "output_type": "stream",
     "text": [
      "26/26 [==============================] - 0s 2ms/step - loss: 0.0213 - accuracy: 0.9500\n",
      "Epoch 246/300\n",
      "26/26 [==============================] - 0s 2ms/step - loss: 0.0223 - accuracy: 0.9427\n",
      "Epoch 247/300\n",
      "26/26 [==============================] - 0s 2ms/step - loss: 0.0191 - accuracy: 0.9585\n",
      "Epoch 248/300\n",
      "26/26 [==============================] - 0s 2ms/step - loss: 0.0186 - accuracy: 0.9610\n",
      "Epoch 249/300\n",
      "26/26 [==============================] - 0s 2ms/step - loss: 0.0246 - accuracy: 0.9390\n",
      "Epoch 250/300\n",
      "26/26 [==============================] - 0s 2ms/step - loss: 0.0295 - accuracy: 0.9195\n",
      "Epoch 251/300\n",
      "26/26 [==============================] - 0s 2ms/step - loss: 0.0244 - accuracy: 0.9341\n",
      "Epoch 252/300\n",
      "26/26 [==============================] - 0s 2ms/step - loss: 0.0213 - accuracy: 0.9561\n",
      "Epoch 253/300\n",
      "26/26 [==============================] - 0s 3ms/step - loss: 0.0217 - accuracy: 0.9439\n",
      "Epoch 254/300\n",
      "26/26 [==============================] - 0s 2ms/step - loss: 0.0196 - accuracy: 0.9598\n",
      "Epoch 255/300\n",
      "26/26 [==============================] - 0s 2ms/step - loss: 0.0194 - accuracy: 0.9549\n",
      "Epoch 256/300\n",
      "26/26 [==============================] - 0s 2ms/step - loss: 0.0183 - accuracy: 0.9610\n",
      "Epoch 257/300\n",
      "26/26 [==============================] - 0s 3ms/step - loss: 0.0211 - accuracy: 0.9476\n",
      "Epoch 258/300\n",
      "26/26 [==============================] - 0s 3ms/step - loss: 0.0224 - accuracy: 0.9451\n",
      "Epoch 259/300\n",
      "26/26 [==============================] - 0s 4ms/step - loss: 0.0190 - accuracy: 0.9561\n",
      "Epoch 260/300\n",
      "26/26 [==============================] - 0s 2ms/step - loss: 0.0234 - accuracy: 0.9402\n",
      "Epoch 261/300\n",
      "26/26 [==============================] - 0s 2ms/step - loss: 0.0242 - accuracy: 0.9415\n",
      "Epoch 262/300\n",
      "26/26 [==============================] - 0s 3ms/step - loss: 0.0235 - accuracy: 0.9463\n",
      "Epoch 263/300\n",
      "26/26 [==============================] - 0s 2ms/step - loss: 0.0197 - accuracy: 0.9573\n",
      "Epoch 264/300\n",
      "26/26 [==============================] - 0s 2ms/step - loss: 0.0181 - accuracy: 0.9622\n",
      "Epoch 265/300\n",
      "26/26 [==============================] - 0s 2ms/step - loss: 0.0200 - accuracy: 0.9500\n",
      "Epoch 266/300\n",
      "26/26 [==============================] - 0s 2ms/step - loss: 0.0186 - accuracy: 0.9549\n",
      "Epoch 267/300\n",
      "26/26 [==============================] - 0s 2ms/step - loss: 0.0185 - accuracy: 0.9610\n",
      "Epoch 268/300\n",
      "26/26 [==============================] - 0s 2ms/step - loss: 0.0194 - accuracy: 0.9512\n",
      "Epoch 269/300\n",
      "26/26 [==============================] - 0s 2ms/step - loss: 0.0184 - accuracy: 0.9622\n",
      "Epoch 270/300\n",
      "26/26 [==============================] - 0s 2ms/step - loss: 0.0252 - accuracy: 0.9378\n",
      "Epoch 271/300\n",
      "26/26 [==============================] - 0s 2ms/step - loss: 0.0233 - accuracy: 0.9390\n",
      "Epoch 272/300\n",
      "26/26 [==============================] - 0s 2ms/step - loss: 0.0202 - accuracy: 0.9524\n",
      "Epoch 273/300\n",
      "26/26 [==============================] - 0s 2ms/step - loss: 0.0214 - accuracy: 0.9500\n",
      "Epoch 274/300\n",
      "26/26 [==============================] - 0s 1ms/step - loss: 0.0212 - accuracy: 0.9476\n",
      "Epoch 275/300\n",
      "26/26 [==============================] - 0s 2ms/step - loss: 0.0222 - accuracy: 0.9476\n",
      "Epoch 276/300\n",
      "26/26 [==============================] - 0s 2ms/step - loss: 0.0346 - accuracy: 0.9110\n",
      "Epoch 277/300\n",
      "26/26 [==============================] - 0s 2ms/step - loss: 0.0267 - accuracy: 0.9341\n",
      "Epoch 278/300\n",
      "26/26 [==============================] - 0s 2ms/step - loss: 0.0243 - accuracy: 0.9354\n",
      "Epoch 279/300\n",
      "26/26 [==============================] - 0s 2ms/step - loss: 0.0232 - accuracy: 0.9415\n",
      "Epoch 280/300\n",
      "26/26 [==============================] - 0s 2ms/step - loss: 0.0180 - accuracy: 0.9598\n",
      "Epoch 281/300\n",
      "26/26 [==============================] - 0s 2ms/step - loss: 0.0185 - accuracy: 0.9561\n",
      "Epoch 282/300\n",
      "26/26 [==============================] - 0s 2ms/step - loss: 0.0231 - accuracy: 0.9427\n",
      "Epoch 283/300\n",
      "26/26 [==============================] - 0s 2ms/step - loss: 0.0206 - accuracy: 0.9524\n",
      "Epoch 284/300\n",
      "26/26 [==============================] - 0s 2ms/step - loss: 0.0197 - accuracy: 0.9488\n",
      "Epoch 285/300\n",
      "26/26 [==============================] - 0s 2ms/step - loss: 0.0191 - accuracy: 0.9585\n",
      "Epoch 286/300\n",
      "26/26 [==============================] - 0s 2ms/step - loss: 0.0183 - accuracy: 0.9573\n",
      "Epoch 287/300\n",
      "26/26 [==============================] - 0s 2ms/step - loss: 0.0171 - accuracy: 0.9646\n",
      "Epoch 288/300\n",
      "26/26 [==============================] - 0s 2ms/step - loss: 0.0179 - accuracy: 0.9622\n",
      "Epoch 289/300\n",
      "26/26 [==============================] - 0s 2ms/step - loss: 0.0181 - accuracy: 0.9598\n",
      "Epoch 290/300\n",
      "26/26 [==============================] - 0s 2ms/step - loss: 0.0195 - accuracy: 0.9561\n",
      "Epoch 291/300\n",
      "26/26 [==============================] - 0s 2ms/step - loss: 0.0187 - accuracy: 0.9598\n",
      "Epoch 292/300\n",
      "26/26 [==============================] - 0s 2ms/step - loss: 0.0196 - accuracy: 0.9512\n",
      "Epoch 293/300\n",
      "26/26 [==============================] - 0s 2ms/step - loss: 0.0216 - accuracy: 0.9415\n",
      "Epoch 294/300\n",
      "26/26 [==============================] - 0s 2ms/step - loss: 0.0310 - accuracy: 0.9134\n",
      "Epoch 295/300\n",
      "26/26 [==============================] - 0s 2ms/step - loss: 0.0593 - accuracy: 0.8573\n",
      "Epoch 296/300\n",
      "26/26 [==============================] - 0s 2ms/step - loss: 0.0252 - accuracy: 0.9415\n",
      "Epoch 297/300\n",
      "26/26 [==============================] - 0s 3ms/step - loss: 0.0177 - accuracy: 0.9598\n",
      "Epoch 298/300\n",
      "26/26 [==============================] - 0s 2ms/step - loss: 0.0173 - accuracy: 0.9646\n",
      "Epoch 299/300\n",
      "26/26 [==============================] - 0s 2ms/step - loss: 0.0196 - accuracy: 0.9561\n",
      "Epoch 300/300\n",
      "26/26 [==============================] - 0s 2ms/step - loss: 0.0221 - accuracy: 0.9476\n"
     ]
    },
    {
     "data": {
      "text/plain": [
       "<keras.callbacks.History at 0x1a872e74970>"
      ]
     },
     "execution_count": 23,
     "metadata": {},
     "output_type": "execute_result"
    }
   ],
   "source": [
    "model.fit(X_train,Y_train, epochs=300, verbose=1)"
   ]
  },
  {
   "cell_type": "code",
   "execution_count": 24,
   "metadata": {},
   "outputs": [],
   "source": [
    "Y_pred_den = model.predict(X_test)"
   ]
  },
  {
   "cell_type": "code",
   "execution_count": 25,
   "metadata": {},
   "outputs": [],
   "source": [
    "rounded = [round(x[0]) for x in Y_pred_den]\n",
    "Y_pred_den = rounded"
   ]
  },
  {
   "cell_type": "code",
   "execution_count": 26,
   "metadata": {},
   "outputs": [
    {
     "name": "stdout",
     "output_type": "stream",
     "text": [
      "The accuracy score achieved using Dense Model is: 93.66 %\n"
     ]
    }
   ],
   "source": [
    "score_den = round(accuracy_score(Y_pred_den,Y_test)*100,2)\n",
    "print(\"The accuracy score achieved using Dense Model is: \"+str(score_den)+\" %\")"
   ]
  },
  {
   "cell_type": "code",
   "execution_count": 27,
   "metadata": {},
   "outputs": [
    {
     "name": "stdout",
     "output_type": "stream",
     "text": [
      "The accuracy score achieved using Dense Model is: 93.66 %\n",
      "The accuracy score achieved using Artificial Neural Network is: 85.37 %\n",
      "The accuracy score achieved using Sequential Model is: 88.78 %\n"
     ]
    }
   ],
   "source": [
    "scores = [score_den,score_nn,score_seq]\n",
    "algorithms = [\"Dense Model\",\"Artificial Neural Network\",\"Sequential Model\"]    \n",
    "\n",
    "for i in range(len(algorithms)):\n",
    "    print(\"The accuracy score achieved using \"+algorithms[i]+\" is: \"+str(scores[i])+\" %\")"
   ]
  },
  {
   "cell_type": "code",
   "execution_count": 29,
   "metadata": {},
   "outputs": [
    {
     "name": "stderr",
     "output_type": "stream",
     "text": [
      "c:\\users\\ali nasir\\desktop\\heart disease\\venv\\lib\\site-packages\\seaborn\\_decorators.py:36: FutureWarning: Pass the following variables as keyword args: x, y. From version 0.12, the only valid positional argument will be `data`, and passing other arguments without an explicit keyword will result in an error or misinterpretation.\n",
      "  warnings.warn(\n"
     ]
    },
    {
     "data": {
      "text/plain": [
       "<AxesSubplot:xlabel='Algorithms', ylabel='Accuracy score'>"
      ]
     },
     "execution_count": 29,
     "metadata": {},
     "output_type": "execute_result"
    },
    {
     "data": {
      "image/png": "[encoded data removed]",
      "text/plain": [
       "<Figure size 1080x576 with 1 Axes>"
      ]
     },
     "metadata": {},
     "output_type": "display_data"
    }
   ],
   "source": [
    "import seaborn as sns\n",
    "sns.set(rc={'figure.figsize':(15,8)})\n",
    "plt.xlabel(\"Algorithms\")\n",
    "plt.ylabel(\"Accuracy score\")\n",
    "\n",
    "sns.barplot(algorithms,scores)"
   ]
  },
  {
   "cell_type": "code",
   "execution_count": null,
   "metadata": {},
   "outputs": [],
   "source": []
  }
 ],
 "metadata": {
  "interpreter": {
   "hash": "1e915f0a29dc84041eaeb02b7b1a21c440e37a87b61d44d5e84a515737dc82bc"
  },
  "kernelspec": {
   "display_name": "Python 3 (ipykernel)",
   "language": "python",
   "name": "python3"
  },
  "language_info": {
   "codemirror_mode": {
    "name": "ipython",
    "version": 3
   },
   "file_extension": ".py",
   "mimetype": "text/x-python",
   "name": "python",
   "nbconvert_exporter": "python",
   "pygments_lexer": "ipython3",
   "version": "3.8.10"
  }
 },
 "nbformat": 4,
 "nbformat_minor": 2
}
